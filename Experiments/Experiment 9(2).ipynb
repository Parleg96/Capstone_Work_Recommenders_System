{
 "cells": [
  {
   "cell_type": "code",
   "execution_count": 1,
   "id": "25edefae",
   "metadata": {},
   "outputs": [
    {
     "data": {
      "text/plain": [
       "'C:\\\\Users\\\\Priyanka G\\\\CAPSTONE_PROJECT_WORK(2022)\\\\cake'"
      ]
     },
     "execution_count": 1,
     "metadata": {},
     "output_type": "execute_result"
    }
   ],
   "source": [
    "import os\n",
    "os.getcwd()"
   ]
  },
  {
   "cell_type": "code",
   "execution_count": 2,
   "id": "7986f4d1",
   "metadata": {},
   "outputs": [],
   "source": [
    "os.chdir('C:\\\\Users\\\\Priyanka G\\\\CAPSTONE_PROJECT_WORK(2022)\\\\cake')"
   ]
  },
  {
   "cell_type": "code",
   "execution_count": 3,
   "id": "60af3ed1",
   "metadata": {},
   "outputs": [],
   "source": [
    "import os\n",
    "import pandas as pd\n",
    "import numpy as np\n",
    "import matplotlib.pyplot as plt\n",
    "from sklearn.tree import  DecisionTreeClassifier\n",
    "import sklearn.ensemble as ensemble\n",
    "from sklearn.ensemble import AdaBoostClassifier\n",
    "from sklearn import svm\n",
    "from sklearn.ensemble import GradientBoostingClassifier"
   ]
  },
  {
   "cell_type": "code",
   "execution_count": 4,
   "id": "1d679e99",
   "metadata": {},
   "outputs": [],
   "source": [
    "from sklearn.datasets import make_classification\n",
    "from imblearn.over_sampling import RandomOverSampler\n",
    "from imblearn.under_sampling import RandomUnderSampler\n",
    "from collections import Counter\n"
   ]
  },
  {
   "cell_type": "markdown",
   "id": "823cdce2",
   "metadata": {},
   "source": [
    "#### chocolatecake , custardcake ,mouseecake, fruit cake , cupcake\n",
    "\n",
    "#### total 31 files 70% of which is 22 is for training and 9 is for validation\n"
   ]
  },
  {
   "cell_type": "markdown",
   "id": "fbd9c9bf",
   "metadata": {},
   "source": [
    "### Chocolate - 3 , 4"
   ]
  },
  {
   "cell_type": "code",
   "execution_count": 39,
   "id": "8cae6f1d",
   "metadata": {},
   "outputs": [],
   "source": [
    "os.chdir('C:\\\\Users\\\\Priyanka G\\\\CAPSTONE_PROJECT_WORK(2022)\\\\cake\\\\chocolatecake\\\\chocolatehazelnut')"
   ]
  },
  {
   "cell_type": "code",
   "execution_count": 40,
   "id": "417219b5",
   "metadata": {},
   "outputs": [],
   "source": [
    "s1 = pd.read_csv('s1.csv')\n",
    "s3 = pd.read_csv('s3.csv')\n",
    "s4 = pd.read_csv('s4.csv')"
   ]
  },
  {
   "cell_type": "code",
   "execution_count": 41,
   "id": "4fec200d",
   "metadata": {},
   "outputs": [],
   "source": [
    "os.chdir('C:\\\\Users\\\\Priyanka G\\\\CAPSTONE_PROJECT_WORK(2022)\\\\cake\\\\chocolatecake\\\\oreochocolate')"
   ]
  },
  {
   "cell_type": "code",
   "execution_count": 42,
   "id": "30501183",
   "metadata": {},
   "outputs": [],
   "source": [
    "s5 = pd.read_csv('s1.csv')\n",
    "s6 = pd.read_csv('s2.csv')\n",
    "s7 = pd.read_csv('s3.csv')\n",
    "s8 = pd.read_csv('s4.csv')"
   ]
  },
  {
   "cell_type": "code",
   "execution_count": 43,
   "id": "e5986507",
   "metadata": {},
   "outputs": [],
   "source": [
    "os.chdir('C:\\\\Users\\\\Priyanka G\\\\CAPSTONE_PROJECT_WORK(2022)\\\\cake\\\\custardcake\\\\caramelcustard')"
   ]
  },
  {
   "cell_type": "code",
   "execution_count": 44,
   "id": "932ff17c",
   "metadata": {},
   "outputs": [],
   "source": [
    "s9 = pd.read_csv('s1.csv')\n",
    "s10 = pd.read_csv('s2.csv')"
   ]
  },
  {
   "cell_type": "code",
   "execution_count": 45,
   "id": "78e677b6",
   "metadata": {},
   "outputs": [],
   "source": [
    "os.chdir('C:\\\\Users\\\\Priyanka G\\\\CAPSTONE_PROJECT_WORK(2022)\\\\cake\\\\moussecake\\\\ferrero rocher')"
   ]
  },
  {
   "cell_type": "code",
   "execution_count": 46,
   "id": "c4023834",
   "metadata": {},
   "outputs": [],
   "source": [
    "s11 = pd.read_csv('s1.csv')\n",
    "s12 = pd.read_csv('s3.csv')\n",
    "s13 = pd.read_csv('s4.csv')"
   ]
  },
  {
   "cell_type": "code",
   "execution_count": 47,
   "id": "03f2e935",
   "metadata": {},
   "outputs": [],
   "source": [
    "os.chdir('C:\\\\Users\\\\Priyanka G\\\\CAPSTONE_PROJECT_WORK(2022)\\\\cake\\\\moussecake\\\\orange')"
   ]
  },
  {
   "cell_type": "code",
   "execution_count": 48,
   "id": "cc76fd0d",
   "metadata": {},
   "outputs": [],
   "source": [
    "s14 = pd.read_csv('s1.csv')\n",
    "s15 = pd.read_csv('s2.csv')\n",
    "s16 = pd.read_csv('s3.csv')\n",
    "s17 = pd.read_csv('s4.csv')"
   ]
  },
  {
   "cell_type": "code",
   "execution_count": 49,
   "id": "af849e0b",
   "metadata": {},
   "outputs": [],
   "source": [
    "os.chdir('C:\\\\Users\\\\Priyanka G\\\\CAPSTONE_PROJECT_WORK(2022)\\\\cake\\\\moussecake\\\\yogurt')"
   ]
  },
  {
   "cell_type": "code",
   "execution_count": 50,
   "id": "c4dc04ba",
   "metadata": {},
   "outputs": [],
   "source": [
    "s18 = pd.read_csv('s1.csv')\n",
    "s19 = pd.read_csv('s2.csv')\n",
    "s20 = pd.read_csv('s3.csv')\n",
    "s21 = pd.read_csv('s4.csv')"
   ]
  },
  {
   "cell_type": "code",
   "execution_count": 51,
   "id": "3fc23bea",
   "metadata": {},
   "outputs": [],
   "source": [
    "os.chdir('C:\\\\Users\\\\Priyanka G\\\\CAPSTONE_PROJECT_WORK(2022)\\\\cake\\\\fruitcake\\\\mixedfruit')"
   ]
  },
  {
   "cell_type": "code",
   "execution_count": 52,
   "id": "509729d7",
   "metadata": {},
   "outputs": [],
   "source": [
    "s22 = pd.read_csv('s1.csv')\n",
    "s23 = pd.read_csv('s2.csv')\n",
    "s24 = pd.read_csv('s3.csv')\n",
    "s25 = pd.read_csv('s4.csv')"
   ]
  },
  {
   "cell_type": "code",
   "execution_count": 53,
   "id": "f3f68759",
   "metadata": {},
   "outputs": [],
   "source": [
    "os.chdir('C:\\\\Users\\\\Priyanka G\\\\CAPSTONE_PROJECT_WORK(2022)\\\\cake\\\\cupcake\\chocolate')"
   ]
  },
  {
   "cell_type": "code",
   "execution_count": 54,
   "id": "d895636d",
   "metadata": {},
   "outputs": [],
   "source": [
    "s26 = pd.read_csv('s1.csv')\n",
    "s27 = pd.read_csv('s2.csv')\n",
    "s28 = pd.read_csv('s3.csv')\n",
    "s29 = pd.read_csv('s4.csv')"
   ]
  },
  {
   "cell_type": "code",
   "execution_count": 55,
   "id": "8bac65c0",
   "metadata": {},
   "outputs": [],
   "source": [
    "os.chdir('C:\\\\Users\\\\Priyanka G\\\\CAPSTONE_PROJECT_WORK(2022)\\\\cake\\\\cupcake\\\\vanilla')"
   ]
  },
  {
   "cell_type": "code",
   "execution_count": 56,
   "id": "7bdffdfd",
   "metadata": {},
   "outputs": [],
   "source": [
    "s30 = pd.read_csv('s1.csv')\n",
    "s31 = pd.read_csv('s2.csv')\n",
    "s32 = pd.read_csv('s4.csv')"
   ]
  },
  {
   "cell_type": "code",
   "execution_count": 57,
   "id": "d1411683",
   "metadata": {},
   "outputs": [],
   "source": [
    "data = pd.concat([s1,s3,s4,s5,s6,s7,s8,s11,s12,s13,s14,s15,s16,s17,s18,s19,s20,s21,s22,s23,s24,s25],axis=0)"
   ]
  },
  {
   "cell_type": "code",
   "execution_count": 58,
   "id": "a55e1560",
   "metadata": {},
   "outputs": [],
   "source": [
    "data2 = pd.concat([s9,s10,s26,s27,s28,s29,s30,s31,s32],axis=0)"
   ]
  },
  {
   "cell_type": "code",
   "execution_count": 59,
   "id": "f5c82e0f",
   "metadata": {},
   "outputs": [
    {
     "data": {
      "text/plain": [
       "(11526, 10)"
      ]
     },
     "execution_count": 59,
     "metadata": {},
     "output_type": "execute_result"
    }
   ],
   "source": [
    "data.shape"
   ]
  },
  {
   "cell_type": "code",
   "execution_count": 60,
   "id": "b74de3d1",
   "metadata": {},
   "outputs": [],
   "source": [
    "data = data.loc[data.nwords > 2, :]\n",
    "data = data.loc[data.nnumbers <= 3, :]\n",
    "data = data.loc[data.nwords <= 10, :]"
   ]
  },
  {
   "cell_type": "code",
   "execution_count": 61,
   "id": "d0744518",
   "metadata": {},
   "outputs": [],
   "source": [
    "data = data.drop([\"Sentence\"],axis=1)"
   ]
  },
  {
   "cell_type": "code",
   "execution_count": 62,
   "id": "20872a2e",
   "metadata": {},
   "outputs": [],
   "source": [
    "X = data.drop(\"label\",axis=1)\n",
    "y = data.label"
   ]
  },
  {
   "cell_type": "code",
   "execution_count": 63,
   "id": "68682c85",
   "metadata": {},
   "outputs": [
    {
     "data": {
      "text/plain": [
       "(3990, 8)"
      ]
     },
     "execution_count": 63,
     "metadata": {},
     "output_type": "execute_result"
    }
   ],
   "source": [
    "X.shape"
   ]
  },
  {
   "cell_type": "markdown",
   "id": "afac378e",
   "metadata": {},
   "source": [
    "## HT"
   ]
  },
  {
   "cell_type": "markdown",
   "id": "a802108a",
   "metadata": {},
   "source": [
    "## DT"
   ]
  },
  {
   "cell_type": "code",
   "execution_count": 65,
   "id": "7fee16ad",
   "metadata": {},
   "outputs": [
    {
     "data": {
      "text/plain": [
       "GridSearchCV(estimator=Pipeline(steps=[('std_slc', StandardScaler()),\n",
       "                                       ('pca', PCA()),\n",
       "                                       ('dec_tree', DecisionTreeClassifier())]),\n",
       "             param_grid={'dec_tree__criterion': ['gini', 'entropy'],\n",
       "                         'dec_tree__max_depth': [2, 4, 6, 8, 10, 12],\n",
       "                         'pca__n_components': [1, 2, 3, 4, 5, 6, 7, 8]})"
      ]
     },
     "execution_count": 65,
     "metadata": {},
     "output_type": "execute_result"
    }
   ],
   "source": [
    "from sklearn import decomposition, datasets\n",
    "from sklearn import tree\n",
    "from sklearn.pipeline import Pipeline\n",
    "from sklearn.model_selection import GridSearchCV\n",
    "from sklearn.preprocessing import StandardScaler\n",
    "from sklearn import tree\n",
    "from sklearn.model_selection import GridSearchCV\n",
    "estimator =tree.DecisionTreeClassifier()\n",
    "\n",
    "std_slc = StandardScaler()\n",
    "pca = decomposition.PCA()\n",
    "pipe = Pipeline(steps=[('std_slc', std_slc),\n",
    "                           ('pca', pca),\n",
    "                           ('dec_tree', estimator)])\n",
    "n_components = list(range(1,X.shape[1]+1,1))\n",
    "criterion = ['gini', 'entropy']\n",
    "max_depth = [2,4,6,8,10,12]\n",
    "parameters = dict(pca__n_components=n_components,\n",
    "                      dec_tree__criterion=criterion,\n",
    "                      dec_tree__max_depth=max_depth)\n",
    "\n",
    "clf_GS = GridSearchCV(pipe, parameters)\n",
    "clf_GS.fit(X, y)"
   ]
  },
  {
   "cell_type": "code",
   "execution_count": 66,
   "id": "d3b69ad7",
   "metadata": {},
   "outputs": [
    {
     "data": {
      "text/plain": [
       "{'memory': None,\n",
       " 'steps': [('std_slc', StandardScaler()),\n",
       "  ('pca', PCA(n_components=6)),\n",
       "  ('dec_tree', DecisionTreeClassifier(max_depth=2))],\n",
       " 'verbose': False,\n",
       " 'std_slc': StandardScaler(),\n",
       " 'pca': PCA(n_components=6),\n",
       " 'dec_tree': DecisionTreeClassifier(max_depth=2),\n",
       " 'std_slc__copy': True,\n",
       " 'std_slc__with_mean': True,\n",
       " 'std_slc__with_std': True,\n",
       " 'pca__copy': True,\n",
       " 'pca__iterated_power': 'auto',\n",
       " 'pca__n_components': 6,\n",
       " 'pca__random_state': None,\n",
       " 'pca__svd_solver': 'auto',\n",
       " 'pca__tol': 0.0,\n",
       " 'pca__whiten': False,\n",
       " 'dec_tree__ccp_alpha': 0.0,\n",
       " 'dec_tree__class_weight': None,\n",
       " 'dec_tree__criterion': 'gini',\n",
       " 'dec_tree__max_depth': 2,\n",
       " 'dec_tree__max_features': None,\n",
       " 'dec_tree__max_leaf_nodes': None,\n",
       " 'dec_tree__min_impurity_decrease': 0.0,\n",
       " 'dec_tree__min_samples_leaf': 1,\n",
       " 'dec_tree__min_samples_split': 2,\n",
       " 'dec_tree__min_weight_fraction_leaf': 0.0,\n",
       " 'dec_tree__random_state': None,\n",
       " 'dec_tree__splitter': 'best'}"
      ]
     },
     "execution_count": 66,
     "metadata": {},
     "output_type": "execute_result"
    }
   ],
   "source": [
    "clf_GS.best_estimator_.get_params()"
   ]
  },
  {
   "cell_type": "code",
   "execution_count": 67,
   "id": "cc6cdda8",
   "metadata": {},
   "outputs": [
    {
     "data": {
      "text/plain": [
       "DecisionTreeClassifier(max_depth=2)"
      ]
     },
     "execution_count": 67,
     "metadata": {},
     "output_type": "execute_result"
    }
   ],
   "source": [
    "model_DT=DecisionTreeClassifier( max_depth=2, min_samples_leaf=1)\n",
    "model_DT.fit(X,y)"
   ]
  },
  {
   "cell_type": "markdown",
   "id": "aa86bf31",
   "metadata": {},
   "source": [
    "## RF"
   ]
  },
  {
   "cell_type": "code",
   "execution_count": 68,
   "id": "2923f918",
   "metadata": {},
   "outputs": [
    {
     "name": "stdout",
     "output_type": "stream",
     "text": [
      "DecisionTreeClassifier()\n",
      "0.9817042606516291\n"
     ]
    }
   ],
   "source": [
    "randomForest = ensemble.RandomForestClassifier(n_estimators=50,max_features=0.5,oob_score=True)\n",
    "randomForest.fit(X,y)\n",
    "\n",
    "print(randomForest.base_estimator_)\n",
    "\n",
    "print(randomForest.oob_score_)"
   ]
  },
  {
   "cell_type": "code",
   "execution_count": 69,
   "id": "dfb8e79a",
   "metadata": {},
   "outputs": [
    {
     "data": {
      "text/plain": [
       "GridSearchCV(cv=5, estimator=RandomForestClassifier(), n_jobs=-1,\n",
       "             param_grid={'max_features': ['auto', 'sqrt', 'log2', 0.1, 0.2, 0.3,\n",
       "                                          0.4, 0.5, 0.6, 0.7, 0.8, 0.9],\n",
       "                         'min_samples_split': [2, 4, 8],\n",
       "                         'n_estimators': [10, 20, 30, 40, 50, 60]})"
      ]
     },
     "execution_count": 69,
     "metadata": {},
     "output_type": "execute_result"
    }
   ],
   "source": [
    "from sklearn.model_selection import GridSearchCV\n",
    "estimator = ensemble.RandomForestClassifier()\n",
    "\n",
    "\n",
    "\n",
    "param_grid = { \n",
    "            \"n_estimators\"      : [10,20,30,40,50,60],\n",
    "            \"max_features\"      : [\"auto\", \"sqrt\", \"log2\",0.1,0.2,0.3,0.4,0.5,0.6,0.7,0.8,0.9],\n",
    "            \"min_samples_split\" : [2,4,8],\n",
    "            }\n",
    "grid = GridSearchCV(estimator, param_grid, n_jobs=-1, cv=5)   \n",
    "grid.fit(X, y)"
   ]
  },
  {
   "cell_type": "code",
   "execution_count": 70,
   "id": "ed3b7660",
   "metadata": {},
   "outputs": [
    {
     "data": {
      "text/plain": [
       "(0.9807017543859649,\n",
       " {'max_features': 0.5, 'min_samples_split': 4, 'n_estimators': 40})"
      ]
     },
     "execution_count": 70,
     "metadata": {},
     "output_type": "execute_result"
    }
   ],
   "source": [
    "grid.best_score_ , grid.best_params_"
   ]
  },
  {
   "cell_type": "code",
   "execution_count": 71,
   "id": "8a3ce850",
   "metadata": {},
   "outputs": [
    {
     "data": {
      "text/plain": [
       "RandomForestClassifier(max_features=0.5, min_samples_split=4, n_estimators=40,\n",
       "                       oob_score=True)"
      ]
     },
     "execution_count": 71,
     "metadata": {},
     "output_type": "execute_result"
    }
   ],
   "source": [
    "randomForest = ensemble.RandomForestClassifier(n_estimators=40,min_samples_split = 4,max_features=0.5,oob_score=True)\n",
    "randomForest.fit(X,y)"
   ]
  },
  {
   "cell_type": "markdown",
   "id": "9fe4e315",
   "metadata": {},
   "source": [
    "## ADA"
   ]
  },
  {
   "cell_type": "code",
   "execution_count": 72,
   "id": "d91fa2ba",
   "metadata": {},
   "outputs": [
    {
     "data": {
      "text/plain": [
       "AdaBoostClassifier(n_estimators=100, random_state=0)"
      ]
     },
     "execution_count": 72,
     "metadata": {},
     "output_type": "execute_result"
    }
   ],
   "source": [
    "clf = AdaBoostClassifier(n_estimators=100, random_state=0)\n",
    "clf.fit(X, y)"
   ]
  },
  {
   "cell_type": "code",
   "execution_count": 73,
   "id": "c547cc17",
   "metadata": {},
   "outputs": [
    {
     "data": {
      "text/plain": [
       "(0.9754385964912282, {'learning_rate': 1.0, 'n_estimators': 100})"
      ]
     },
     "execution_count": 73,
     "metadata": {},
     "output_type": "execute_result"
    }
   ],
   "source": [
    "# define the grid of values to search\n",
    "grid = dict()\n",
    "grid['n_estimators'] = [10, 50, 100, 500]\n",
    "grid['learning_rate'] = [0.0001, 0.001, 0.01, 0.1, 1.0]\n",
    "\n",
    "from sklearn.model_selection import RepeatedStratifiedKFold\n",
    "cv = RepeatedStratifiedKFold(n_splits=10, n_repeats=3, random_state=1)\n",
    "\n",
    "# define the grid search procedure\n",
    "grid_search = GridSearchCV(estimator=clf, param_grid=grid, n_jobs=-1, cv=cv, scoring='accuracy')\n",
    "\n",
    "grid_result = grid_search.fit(X, y)\n",
    "grid_result.best_score_, grid_result.best_params_\n"
   ]
  },
  {
   "cell_type": "code",
   "execution_count": 74,
   "id": "40b3fa49",
   "metadata": {},
   "outputs": [
    {
     "data": {
      "text/plain": [
       "AdaBoostClassifier(n_estimators=100, random_state=0)"
      ]
     },
     "execution_count": 74,
     "metadata": {},
     "output_type": "execute_result"
    }
   ],
   "source": [
    "clf_AD = AdaBoostClassifier(n_estimators=100, random_state=0,learning_rate= 1.0)\n",
    "clf_AD.fit(X, y)"
   ]
  },
  {
   "cell_type": "markdown",
   "id": "17c7bfe1",
   "metadata": {},
   "source": [
    "## SVM"
   ]
  },
  {
   "cell_type": "code",
   "execution_count": 75,
   "id": "d075d19e",
   "metadata": {},
   "outputs": [
    {
     "data": {
      "text/plain": [
       "SVC()"
      ]
     },
     "execution_count": 75,
     "metadata": {},
     "output_type": "execute_result"
    }
   ],
   "source": [
    "clf1 = svm.SVC()\n",
    "clf1.fit(X, y)"
   ]
  },
  {
   "cell_type": "code",
   "execution_count": 76,
   "id": "f22beb1d",
   "metadata": {},
   "outputs": [
    {
     "name": "stdout",
     "output_type": "stream",
     "text": [
      "Fitting 5 folds for each of 25 candidates, totalling 125 fits\n",
      "[CV 1/5] END ........C=0.1, gamma=1, kernel=rbf;, score=0.960 total time=   0.2s\n",
      "[CV 2/5] END ........C=0.1, gamma=1, kernel=rbf;, score=0.962 total time=   0.1s\n",
      "[CV 3/5] END ........C=0.1, gamma=1, kernel=rbf;, score=0.955 total time=   0.1s\n",
      "[CV 4/5] END ........C=0.1, gamma=1, kernel=rbf;, score=0.957 total time=   0.1s\n",
      "[CV 5/5] END ........C=0.1, gamma=1, kernel=rbf;, score=0.962 total time=   0.3s\n",
      "[CV 1/5] END ......C=0.1, gamma=0.1, kernel=rbf;, score=0.952 total time=   0.1s\n",
      "[CV 2/5] END ......C=0.1, gamma=0.1, kernel=rbf;, score=0.962 total time=   0.1s\n",
      "[CV 3/5] END ......C=0.1, gamma=0.1, kernel=rbf;, score=0.956 total time=   0.1s\n",
      "[CV 4/5] END ......C=0.1, gamma=0.1, kernel=rbf;, score=0.957 total time=   0.0s\n",
      "[CV 5/5] END ......C=0.1, gamma=0.1, kernel=rbf;, score=0.951 total time=   0.0s\n",
      "[CV 1/5] END .....C=0.1, gamma=0.01, kernel=rbf;, score=0.952 total time=   0.0s\n",
      "[CV 2/5] END .....C=0.1, gamma=0.01, kernel=rbf;, score=0.952 total time=   0.1s\n",
      "[CV 3/5] END .....C=0.1, gamma=0.01, kernel=rbf;, score=0.952 total time=   0.0s\n",
      "[CV 4/5] END .....C=0.1, gamma=0.01, kernel=rbf;, score=0.952 total time=   0.0s\n",
      "[CV 5/5] END .....C=0.1, gamma=0.01, kernel=rbf;, score=0.951 total time=   0.1s\n",
      "[CV 1/5] END ....C=0.1, gamma=0.001, kernel=rbf;, score=0.952 total time=   0.2s\n",
      "[CV 2/5] END ....C=0.1, gamma=0.001, kernel=rbf;, score=0.952 total time=   0.1s\n",
      "[CV 3/5] END ....C=0.1, gamma=0.001, kernel=rbf;, score=0.952 total time=   0.0s\n",
      "[CV 4/5] END ....C=0.1, gamma=0.001, kernel=rbf;, score=0.952 total time=   0.0s\n",
      "[CV 5/5] END ....C=0.1, gamma=0.001, kernel=rbf;, score=0.951 total time=   0.0s\n",
      "[CV 1/5] END ...C=0.1, gamma=0.0001, kernel=rbf;, score=0.952 total time=   0.0s\n",
      "[CV 2/5] END ...C=0.1, gamma=0.0001, kernel=rbf;, score=0.952 total time=   0.0s\n",
      "[CV 3/5] END ...C=0.1, gamma=0.0001, kernel=rbf;, score=0.952 total time=   0.0s\n",
      "[CV 4/5] END ...C=0.1, gamma=0.0001, kernel=rbf;, score=0.952 total time=   0.1s\n",
      "[CV 5/5] END ...C=0.1, gamma=0.0001, kernel=rbf;, score=0.951 total time=   0.1s\n",
      "[CV 1/5] END ..........C=1, gamma=1, kernel=rbf;, score=0.979 total time=   0.2s\n",
      "[CV 2/5] END ..........C=1, gamma=1, kernel=rbf;, score=0.976 total time=   0.1s\n",
      "[CV 3/5] END ..........C=1, gamma=1, kernel=rbf;, score=0.960 total time=   0.2s\n",
      "[CV 4/5] END ..........C=1, gamma=1, kernel=rbf;, score=0.965 total time=   0.1s\n",
      "[CV 5/5] END ..........C=1, gamma=1, kernel=rbf;, score=0.991 total time=   0.2s\n",
      "[CV 1/5] END ........C=1, gamma=0.1, kernel=rbf;, score=0.987 total time=   0.0s\n",
      "[CV 2/5] END ........C=1, gamma=0.1, kernel=rbf;, score=0.977 total time=   0.0s\n",
      "[CV 3/5] END ........C=1, gamma=0.1, kernel=rbf;, score=0.965 total time=   0.0s\n",
      "[CV 4/5] END ........C=1, gamma=0.1, kernel=rbf;, score=0.961 total time=   0.0s\n",
      "[CV 5/5] END ........C=1, gamma=0.1, kernel=rbf;, score=0.989 total time=   0.0s\n",
      "[CV 1/5] END .......C=1, gamma=0.01, kernel=rbf;, score=0.980 total time=   0.0s\n",
      "[CV 2/5] END .......C=1, gamma=0.01, kernel=rbf;, score=0.976 total time=   0.0s\n",
      "[CV 3/5] END .......C=1, gamma=0.01, kernel=rbf;, score=0.966 total time=   0.0s\n",
      "[CV 4/5] END .......C=1, gamma=0.01, kernel=rbf;, score=0.960 total time=   0.0s\n",
      "[CV 5/5] END .......C=1, gamma=0.01, kernel=rbf;, score=0.990 total time=   0.0s\n",
      "[CV 1/5] END ......C=1, gamma=0.001, kernel=rbf;, score=0.952 total time=   0.1s\n",
      "[CV 2/5] END ......C=1, gamma=0.001, kernel=rbf;, score=0.952 total time=   0.0s\n",
      "[CV 3/5] END ......C=1, gamma=0.001, kernel=rbf;, score=0.952 total time=   0.1s\n",
      "[CV 4/5] END ......C=1, gamma=0.001, kernel=rbf;, score=0.952 total time=   0.1s\n",
      "[CV 5/5] END ......C=1, gamma=0.001, kernel=rbf;, score=0.951 total time=   0.0s\n",
      "[CV 1/5] END .....C=1, gamma=0.0001, kernel=rbf;, score=0.952 total time=   0.1s\n",
      "[CV 2/5] END .....C=1, gamma=0.0001, kernel=rbf;, score=0.952 total time=   0.1s\n",
      "[CV 3/5] END .....C=1, gamma=0.0001, kernel=rbf;, score=0.952 total time=   0.1s\n",
      "[CV 4/5] END .....C=1, gamma=0.0001, kernel=rbf;, score=0.952 total time=   0.1s\n",
      "[CV 5/5] END .....C=1, gamma=0.0001, kernel=rbf;, score=0.951 total time=   0.0s\n",
      "[CV 1/5] END .........C=10, gamma=1, kernel=rbf;, score=0.981 total time=   0.2s\n",
      "[CV 2/5] END .........C=10, gamma=1, kernel=rbf;, score=0.980 total time=   0.3s\n",
      "[CV 3/5] END .........C=10, gamma=1, kernel=rbf;, score=0.960 total time=   0.2s\n",
      "[CV 4/5] END .........C=10, gamma=1, kernel=rbf;, score=0.969 total time=   0.2s\n",
      "[CV 5/5] END .........C=10, gamma=1, kernel=rbf;, score=0.991 total time=   0.2s\n",
      "[CV 1/5] END .......C=10, gamma=0.1, kernel=rbf;, score=0.987 total time=   0.0s\n",
      "[CV 2/5] END .......C=10, gamma=0.1, kernel=rbf;, score=0.984 total time=   0.0s\n",
      "[CV 3/5] END .......C=10, gamma=0.1, kernel=rbf;, score=0.969 total time=   0.0s\n",
      "[CV 4/5] END .......C=10, gamma=0.1, kernel=rbf;, score=0.964 total time=   0.0s\n",
      "[CV 5/5] END .......C=10, gamma=0.1, kernel=rbf;, score=0.991 total time=   0.0s\n",
      "[CV 1/5] END ......C=10, gamma=0.01, kernel=rbf;, score=0.992 total time=   0.0s\n",
      "[CV 2/5] END ......C=10, gamma=0.01, kernel=rbf;, score=0.975 total time=   0.1s\n",
      "[CV 3/5] END ......C=10, gamma=0.01, kernel=rbf;, score=0.969 total time=   0.1s\n",
      "[CV 4/5] END ......C=10, gamma=0.01, kernel=rbf;, score=0.960 total time=   0.1s\n",
      "[CV 5/5] END ......C=10, gamma=0.01, kernel=rbf;, score=0.984 total time=   0.2s\n",
      "[CV 1/5] END .....C=10, gamma=0.001, kernel=rbf;, score=0.955 total time=   0.2s\n",
      "[CV 2/5] END .....C=10, gamma=0.001, kernel=rbf;, score=0.971 total time=   0.2s\n",
      "[CV 3/5] END .....C=10, gamma=0.001, kernel=rbf;, score=0.966 total time=   0.2s\n",
      "[CV 4/5] END .....C=10, gamma=0.001, kernel=rbf;, score=0.954 total time=   0.0s\n",
      "[CV 5/5] END .....C=10, gamma=0.001, kernel=rbf;, score=0.990 total time=   0.1s\n",
      "[CV 1/5] END ....C=10, gamma=0.0001, kernel=rbf;, score=0.952 total time=   0.0s\n",
      "[CV 2/5] END ....C=10, gamma=0.0001, kernel=rbf;, score=0.952 total time=   0.0s\n",
      "[CV 3/5] END ....C=10, gamma=0.0001, kernel=rbf;, score=0.952 total time=   0.1s\n",
      "[CV 4/5] END ....C=10, gamma=0.0001, kernel=rbf;, score=0.952 total time=   0.0s\n",
      "[CV 5/5] END ....C=10, gamma=0.0001, kernel=rbf;, score=0.951 total time=   0.1s\n",
      "[CV 1/5] END ........C=100, gamma=1, kernel=rbf;, score=0.981 total time=   0.2s\n",
      "[CV 2/5] END ........C=100, gamma=1, kernel=rbf;, score=0.980 total time=   0.4s\n",
      "[CV 3/5] END ........C=100, gamma=1, kernel=rbf;, score=0.960 total time=   0.3s\n",
      "[CV 4/5] END ........C=100, gamma=1, kernel=rbf;, score=0.969 total time=   0.2s\n",
      "[CV 5/5] END ........C=100, gamma=1, kernel=rbf;, score=0.991 total time=   0.1s\n",
      "[CV 1/5] END ......C=100, gamma=0.1, kernel=rbf;, score=0.982 total time=   0.0s\n",
      "[CV 2/5] END ......C=100, gamma=0.1, kernel=rbf;, score=0.984 total time=   0.0s\n",
      "[CV 3/5] END ......C=100, gamma=0.1, kernel=rbf;, score=0.970 total time=   0.0s\n",
      "[CV 4/5] END ......C=100, gamma=0.1, kernel=rbf;, score=0.966 total time=   0.0s\n",
      "[CV 5/5] END ......C=100, gamma=0.1, kernel=rbf;, score=0.992 total time=   0.0s\n",
      "[CV 1/5] END .....C=100, gamma=0.01, kernel=rbf;, score=0.992 total time=   0.0s\n",
      "[CV 2/5] END .....C=100, gamma=0.01, kernel=rbf;, score=0.976 total time=   0.0s\n",
      "[CV 3/5] END .....C=100, gamma=0.01, kernel=rbf;, score=0.967 total time=   0.0s\n",
      "[CV 4/5] END .....C=100, gamma=0.01, kernel=rbf;, score=0.960 total time=   0.0s\n",
      "[CV 5/5] END .....C=100, gamma=0.01, kernel=rbf;, score=0.990 total time=   0.0s\n",
      "[CV 1/5] END ....C=100, gamma=0.001, kernel=rbf;, score=0.992 total time=   0.0s\n",
      "[CV 2/5] END ....C=100, gamma=0.001, kernel=rbf;, score=0.972 total time=   0.0s\n",
      "[CV 3/5] END ....C=100, gamma=0.001, kernel=rbf;, score=0.960 total time=   0.0s\n",
      "[CV 4/5] END ....C=100, gamma=0.001, kernel=rbf;, score=0.957 total time=   0.0s\n",
      "[CV 5/5] END ....C=100, gamma=0.001, kernel=rbf;, score=0.984 total time=   0.0s\n",
      "[CV 1/5] END ...C=100, gamma=0.0001, kernel=rbf;, score=0.952 total time=   0.0s\n",
      "[CV 2/5] END ...C=100, gamma=0.0001, kernel=rbf;, score=0.966 total time=   0.0s\n",
      "[CV 3/5] END ...C=100, gamma=0.0001, kernel=rbf;, score=0.969 total time=   0.0s\n",
      "[CV 4/5] END ...C=100, gamma=0.0001, kernel=rbf;, score=0.954 total time=   0.0s\n",
      "[CV 5/5] END ...C=100, gamma=0.0001, kernel=rbf;, score=0.984 total time=   0.0s\n",
      "[CV 1/5] END .......C=1000, gamma=1, kernel=rbf;, score=0.981 total time=   0.1s\n"
     ]
    },
    {
     "name": "stdout",
     "output_type": "stream",
     "text": [
      "[CV 2/5] END .......C=1000, gamma=1, kernel=rbf;, score=0.980 total time=   0.1s\n",
      "[CV 3/5] END .......C=1000, gamma=1, kernel=rbf;, score=0.960 total time=   0.1s\n",
      "[CV 4/5] END .......C=1000, gamma=1, kernel=rbf;, score=0.969 total time=   0.1s\n",
      "[CV 5/5] END .......C=1000, gamma=1, kernel=rbf;, score=0.991 total time=   0.1s\n",
      "[CV 1/5] END .....C=1000, gamma=0.1, kernel=rbf;, score=0.980 total time=   0.1s\n",
      "[CV 2/5] END .....C=1000, gamma=0.1, kernel=rbf;, score=0.987 total time=   0.1s\n",
      "[CV 3/5] END .....C=1000, gamma=0.1, kernel=rbf;, score=0.969 total time=   0.1s\n",
      "[CV 4/5] END .....C=1000, gamma=0.1, kernel=rbf;, score=0.967 total time=   0.0s\n",
      "[CV 5/5] END .....C=1000, gamma=0.1, kernel=rbf;, score=0.987 total time=   0.1s\n",
      "[CV 1/5] END ....C=1000, gamma=0.01, kernel=rbf;, score=0.989 total time=   0.2s\n",
      "[CV 2/5] END ....C=1000, gamma=0.01, kernel=rbf;, score=0.979 total time=   0.2s\n",
      "[CV 3/5] END ....C=1000, gamma=0.01, kernel=rbf;, score=0.969 total time=   0.2s\n",
      "[CV 4/5] END ....C=1000, gamma=0.01, kernel=rbf;, score=0.965 total time=   0.1s\n",
      "[CV 5/5] END ....C=1000, gamma=0.01, kernel=rbf;, score=0.991 total time=   0.1s\n",
      "[CV 1/5] END ...C=1000, gamma=0.001, kernel=rbf;, score=0.991 total time=   0.0s\n",
      "[CV 2/5] END ...C=1000, gamma=0.001, kernel=rbf;, score=0.976 total time=   0.0s\n",
      "[CV 3/5] END ...C=1000, gamma=0.001, kernel=rbf;, score=0.966 total time=   0.0s\n",
      "[CV 4/5] END ...C=1000, gamma=0.001, kernel=rbf;, score=0.961 total time=   0.0s\n",
      "[CV 5/5] END ...C=1000, gamma=0.001, kernel=rbf;, score=0.984 total time=   0.1s\n",
      "[CV 1/5] END ..C=1000, gamma=0.0001, kernel=rbf;, score=0.992 total time=   0.0s\n",
      "[CV 2/5] END ..C=1000, gamma=0.0001, kernel=rbf;, score=0.966 total time=   0.0s\n",
      "[CV 3/5] END ..C=1000, gamma=0.0001, kernel=rbf;, score=0.960 total time=   0.0s\n",
      "[CV 4/5] END ..C=1000, gamma=0.0001, kernel=rbf;, score=0.954 total time=   0.0s\n",
      "[CV 5/5] END ..C=1000, gamma=0.0001, kernel=rbf;, score=0.982 total time=   0.0s\n"
     ]
    },
    {
     "data": {
      "text/plain": [
       "GridSearchCV(estimator=SVC(),\n",
       "             param_grid={'C': [0.1, 1, 10, 100, 1000],\n",
       "                         'gamma': [1, 0.1, 0.01, 0.001, 0.0001],\n",
       "                         'kernel': ['rbf']},\n",
       "             verbose=3)"
      ]
     },
     "execution_count": 76,
     "metadata": {},
     "output_type": "execute_result"
    }
   ],
   "source": [
    "# defining parameter range\n",
    "param_grid = {'C': [0.1, 1, 10, 100, 1000],\n",
    "              'gamma': [1, 0.1, 0.01, 0.001, 0.0001],\n",
    "              'kernel': ['rbf']}\n",
    " \n",
    "grid = GridSearchCV(clf1, param_grid, refit = True, verbose = 3)\n",
    " \n",
    "# fitting the model for grid search\n",
    "grid.fit(X, y)"
   ]
  },
  {
   "cell_type": "code",
   "execution_count": 77,
   "id": "29222cdd",
   "metadata": {},
   "outputs": [
    {
     "data": {
      "text/plain": [
       "({'C': 10, 'gamma': 0.1, 'kernel': 'rbf'}, SVC(C=10, gamma=0.1))"
      ]
     },
     "execution_count": 77,
     "metadata": {},
     "output_type": "execute_result"
    }
   ],
   "source": [
    "grid.best_params_,grid.best_estimator_"
   ]
  },
  {
   "cell_type": "code",
   "execution_count": 78,
   "id": "6d0c2a59",
   "metadata": {},
   "outputs": [
    {
     "data": {
      "text/plain": [
       "SVC(C=10, gamma=0.1)"
      ]
     },
     "execution_count": 78,
     "metadata": {},
     "output_type": "execute_result"
    }
   ],
   "source": [
    "clf_SVM = svm.SVC(C=10,gamma=0.1)\n",
    "clf_SVM.fit(X, y)"
   ]
  },
  {
   "cell_type": "markdown",
   "id": "22977c21",
   "metadata": {},
   "source": [
    "## GBM"
   ]
  },
  {
   "cell_type": "code",
   "execution_count": 80,
   "id": "869f10a6",
   "metadata": {},
   "outputs": [],
   "source": [
    "clf2 = GradientBoostingClassifier(n_estimators=100, learning_rate=1.0,max_depth=1, random_state=0).fit(X, y)"
   ]
  },
  {
   "cell_type": "code",
   "execution_count": 81,
   "id": "c0bc9e11",
   "metadata": {},
   "outputs": [],
   "source": [
    "p_test = {'max_depth':[2,3,4,5,6,7] ,\n",
    "           'learning_rate':[0.15,0.1,0.05,0.01,0.005,0.001], 'n_estimators':[100,250,500,750,1000,1250,1500,1750],\n",
    "          }\n",
    "tuning = GridSearchCV(estimator =clf2, param_grid = p_test, scoring='accuracy',n_jobs=4, cv=5)"
   ]
  },
  {
   "cell_type": "code",
   "execution_count": 82,
   "id": "30be216d",
   "metadata": {},
   "outputs": [
    {
     "data": {
      "text/plain": [
       "GridSearchCV(cv=5,\n",
       "             estimator=GradientBoostingClassifier(learning_rate=1.0,\n",
       "                                                  max_depth=1, random_state=0),\n",
       "             n_jobs=4,\n",
       "             param_grid={'learning_rate': [0.15, 0.1, 0.05, 0.01, 0.005, 0.001],\n",
       "                         'max_depth': [2, 3, 4, 5, 6, 7],\n",
       "                         'n_estimators': [100, 250, 500, 750, 1000, 1250, 1500,\n",
       "                                          1750]},\n",
       "             scoring='accuracy')"
      ]
     },
     "execution_count": 82,
     "metadata": {},
     "output_type": "execute_result"
    }
   ],
   "source": [
    "tuning.fit(X,y)"
   ]
  },
  {
   "cell_type": "code",
   "execution_count": 83,
   "id": "cfcdab0d",
   "metadata": {},
   "outputs": [
    {
     "data": {
      "text/plain": [
       "({'learning_rate': 0.05, 'max_depth': 3, 'n_estimators': 1000},\n",
       " 0.9812030075187972)"
      ]
     },
     "execution_count": 83,
     "metadata": {},
     "output_type": "execute_result"
    }
   ],
   "source": [
    "tuning.best_params_, tuning.best_score_"
   ]
  },
  {
   "cell_type": "code",
   "execution_count": 84,
   "id": "b6849268",
   "metadata": {},
   "outputs": [],
   "source": [
    "clf_GBM = GradientBoostingClassifier(n_estimators=1000, learning_rate=0.05,max_depth=3, random_state=0).fit(X, y)\n",
    "\n"
   ]
  },
  {
   "cell_type": "code",
   "execution_count": null,
   "id": "26b56e78",
   "metadata": {},
   "outputs": [],
   "source": []
  },
  {
   "cell_type": "code",
   "execution_count": 85,
   "id": "b8f7a0fb",
   "metadata": {},
   "outputs": [],
   "source": [
    "data2 = data2.loc[data2.nwords > 2, :]\n",
    "data2 = data2.loc[data2.nnumbers <= 3, :]\n",
    "data2 = data2.loc[data2.nwords <= 10, :]\n",
    "data2 = data2.drop([\"Sentence\"],axis=1)\n",
    "X_test = data2.drop(\"label\",axis=1)\n",
    "y_test = data2.label\n"
   ]
  },
  {
   "cell_type": "code",
   "execution_count": 86,
   "id": "5200b07d",
   "metadata": {},
   "outputs": [
    {
     "name": "stdout",
     "output_type": "stream",
     "text": [
      "[[1171  149]\n",
      " [  10   66]]\n",
      "Prescision :  0.30697674418604654\n",
      "Recall :  0.868421052631579\n",
      "F1 score :  0.45360824742268047\n"
     ]
    }
   ],
   "source": [
    "pred = model_DT.predict(X_test)\n",
    "\n",
    "from sklearn.metrics import confusion_matrix\n",
    "print(confusion_matrix(y_test, pred))\n",
    "\n",
    "# Finding precision and recall\n",
    "from sklearn.metrics import precision_score, recall_score\n",
    "#precision_score(y_test, pred)\n",
    "print(\"Prescision : \" , precision_score(y_test, pred))\n",
    "print(\"Recall : \" , recall_score(y_test, pred))\n",
    "\n",
    "# To compute the F1 score, simply call the f1_score() function:\n",
    "from sklearn.metrics import f1_score\n",
    "print(\"F1 score : \" ,f1_score(y_test, pred))"
   ]
  },
  {
   "cell_type": "code",
   "execution_count": 87,
   "id": "9a7db248",
   "metadata": {},
   "outputs": [
    {
     "name": "stdout",
     "output_type": "stream",
     "text": [
      "[[1238   82]\n",
      " [  12   64]]\n",
      "Prescision :  0.4383561643835616\n",
      "Recall :  0.8421052631578947\n",
      "F1 score :  0.5765765765765766\n"
     ]
    }
   ],
   "source": [
    "pred = randomForest.predict(X_test)\n",
    "\n",
    "from sklearn.metrics import confusion_matrix\n",
    "print(confusion_matrix(y_test, pred))\n",
    "\n",
    "# Finding precision and recall\n",
    "from sklearn.metrics import precision_score, recall_score\n",
    "#precision_score(y_test, pred)\n",
    "print(\"Prescision : \" , precision_score(y_test, pred))\n",
    "print(\"Recall : \" , recall_score(y_test, pred))\n",
    "\n",
    "# To compute the F1 score, simply call the f1_score() function:\n",
    "from sklearn.metrics import f1_score\n",
    "print(\"F1 score : \" ,f1_score(y_test, pred))"
   ]
  },
  {
   "cell_type": "code",
   "execution_count": 88,
   "id": "e2f7c2c9",
   "metadata": {},
   "outputs": [
    {
     "name": "stdout",
     "output_type": "stream",
     "text": [
      "[[1293   27]\n",
      " [  16   60]]\n",
      "Prescision :  0.6896551724137931\n",
      "Recall :  0.7894736842105263\n",
      "F1 score :  0.736196319018405\n"
     ]
    }
   ],
   "source": [
    "pred = clf_AD.predict(X_test)\n",
    "\n",
    "from sklearn.metrics import confusion_matrix\n",
    "print(confusion_matrix(y_test, pred))\n",
    "\n",
    "# Finding precision and recall\n",
    "from sklearn.metrics import precision_score, recall_score\n",
    "#precision_score(y_test, pred)\n",
    "print(\"Prescision : \" , precision_score(y_test, pred))\n",
    "print(\"Recall : \" , recall_score(y_test, pred))\n",
    "\n",
    "# To compute the F1 score, simply call the f1_score() function:\n",
    "from sklearn.metrics import f1_score\n",
    "print(\"F1 score : \" ,f1_score(y_test, pred))"
   ]
  },
  {
   "cell_type": "code",
   "execution_count": 89,
   "id": "991ce88b",
   "metadata": {},
   "outputs": [
    {
     "name": "stdout",
     "output_type": "stream",
     "text": [
      "[[1235   85]\n",
      " [  11   65]]\n",
      "Prescision :  0.43333333333333335\n",
      "Recall :  0.8552631578947368\n",
      "F1 score :  0.575221238938053\n"
     ]
    }
   ],
   "source": [
    "pred = clf_SVM.predict(X_test)\n",
    "\n",
    "from sklearn.metrics import confusion_matrix\n",
    "print(confusion_matrix(y_test, pred))\n",
    "\n",
    "# Finding precision and recall\n",
    "from sklearn.metrics import precision_score, recall_score\n",
    "#precision_score(y_test, pred)\n",
    "print(\"Prescision : \" , precision_score(y_test, pred))\n",
    "print(\"Recall : \" , recall_score(y_test, pred))\n",
    "\n",
    "# To compute the F1 score, simply call the f1_score() function:\n",
    "from sklearn.metrics import f1_score\n",
    "print(\"F1 score : \" ,f1_score(y_test, pred))"
   ]
  },
  {
   "cell_type": "code",
   "execution_count": 90,
   "id": "9a3b21f1",
   "metadata": {},
   "outputs": [
    {
     "name": "stdout",
     "output_type": "stream",
     "text": [
      "[[1229   91]\n",
      " [  11   65]]\n",
      "Prescision :  0.4166666666666667\n",
      "Recall :  0.8552631578947368\n",
      "F1 score :  0.560344827586207\n"
     ]
    }
   ],
   "source": [
    "pred = clf_GBM.predict(X_test)\n",
    "\n",
    "from sklearn.metrics import confusion_matrix\n",
    "print(confusion_matrix(y_test, pred))\n",
    "\n",
    "# Finding precision and recall\n",
    "from sklearn.metrics import precision_score, recall_score\n",
    "#precision_score(y_test, pred)\n",
    "print(\"Prescision : \" , precision_score(y_test, pred))\n",
    "print(\"Recall : \" , recall_score(y_test, pred))\n",
    "\n",
    "# To compute the F1 score, simply call the f1_score() function:\n",
    "from sklearn.metrics import f1_score\n",
    "print(\"F1 score : \" ,f1_score(y_test, pred))"
   ]
  },
  {
   "cell_type": "code",
   "execution_count": 91,
   "id": "5605d18c",
   "metadata": {},
   "outputs": [],
   "source": [
    "from prettytable import PrettyTable\n",
    " \n",
    "# Specify the Column Names while initializing the Table\n",
    "myTable = PrettyTable([\"Model\", \"Precision\", \"Recall\", \"F1_score\"])\n",
    "\n",
    "\n",
    "myTable.add_row([\"DT\", \" 0.306\",\"  0.86\", \"  0.45\"])\n",
    "myTable.add_row([\"RF\", \"0.43\",\"0.842\", \" 0.576\"])\n",
    "myTable.add_row([\"ADA\", \" 0.68\",\"  0.789\", \" 0.736\"])\n",
    "myTable.add_row([\"SVM\", \"0.43\",\" 0.855\", \"0.575\"])\n",
    "myTable.add_row([\"GBM\",\"0.41\",\"0.855\", \"0.560\"])"
   ]
  },
  {
   "cell_type": "code",
   "execution_count": 92,
   "id": "9b30a794",
   "metadata": {},
   "outputs": [
    {
     "data": {
      "text/html": [
       "<table>\n",
       "    <thead>\n",
       "        <tr>\n",
       "            <th>Model</th>\n",
       "            <th>Precision</th>\n",
       "            <th>Recall</th>\n",
       "            <th>F1_score</th>\n",
       "        </tr>\n",
       "    </thead>\n",
       "    <tbody>\n",
       "        <tr>\n",
       "            <td>DT</td>\n",
       "            <td> 0.306</td>\n",
       "            <td>  0.86</td>\n",
       "            <td>  0.45</td>\n",
       "        </tr>\n",
       "        <tr>\n",
       "            <td>RF</td>\n",
       "            <td>0.43</td>\n",
       "            <td>0.842</td>\n",
       "            <td> 0.576</td>\n",
       "        </tr>\n",
       "        <tr>\n",
       "            <td>ADA</td>\n",
       "            <td> 0.68</td>\n",
       "            <td>  0.789</td>\n",
       "            <td> 0.736</td>\n",
       "        </tr>\n",
       "        <tr>\n",
       "            <td>SVM</td>\n",
       "            <td>0.43</td>\n",
       "            <td> 0.855</td>\n",
       "            <td>0.575</td>\n",
       "        </tr>\n",
       "        <tr>\n",
       "            <td>GBM</td>\n",
       "            <td>0.41</td>\n",
       "            <td>0.855</td>\n",
       "            <td>0.560</td>\n",
       "        </tr>\n",
       "    </tbody>\n",
       "</table>"
      ],
      "text/plain": [
       "+-------+-----------+---------+----------+\n",
       "| Model | Precision |  Recall | F1_score |\n",
       "+-------+-----------+---------+----------+\n",
       "|   DT  |    0.306  |    0.86 |    0.45  |\n",
       "|   RF  |    0.43   |  0.842  |   0.576  |\n",
       "|  ADA  |    0.68   |   0.789 |   0.736  |\n",
       "|  SVM  |    0.43   |   0.855 |  0.575   |\n",
       "|  GBM  |    0.41   |  0.855  |  0.560   |\n",
       "+-------+-----------+---------+----------+"
      ]
     },
     "execution_count": 92,
     "metadata": {},
     "output_type": "execute_result"
    }
   ],
   "source": [
    "myTable"
   ]
  },
  {
   "cell_type": "code",
   "execution_count": null,
   "id": "6f46ab28",
   "metadata": {},
   "outputs": [],
   "source": []
  },
  {
   "cell_type": "code",
   "execution_count": 5,
   "id": "dbac5403",
   "metadata": {},
   "outputs": [],
   "source": [
    "#### brownie , cocholatecake ,cupcake, fruit cake , pastry\n",
    "\n",
    "#### total 42 files 70% of which is 29 is for training and 13 is for validation\n"
   ]
  },
  {
   "cell_type": "code",
   "execution_count": null,
   "id": "0ecc9501",
   "metadata": {},
   "outputs": [],
   "source": [
    "### Brownie - 3 , 3 , 4 "
   ]
  },
  {
   "cell_type": "code",
   "execution_count": 30,
   "id": "613efa96",
   "metadata": {},
   "outputs": [],
   "source": [
    "os.chdir('C:\\\\Users\\\\Priyanka G\\\\CAPSTONE_PROJECT_WORK(2022)\\\\cake\\\\brownie\\\\oreo')"
   ]
  },
  {
   "cell_type": "code",
   "execution_count": 31,
   "id": "94b5d0e0",
   "metadata": {},
   "outputs": [],
   "source": [
    "bo1 = pd.read_csv('s1.csv')\n",
    "bo3 = pd.read_csv('s3.csv')\n",
    "bo4 = pd.read_csv('s4.csv')\n"
   ]
  },
  {
   "cell_type": "code",
   "execution_count": 32,
   "id": "1813e235",
   "metadata": {},
   "outputs": [],
   "source": [
    "os.chdir('C:\\\\Users\\\\Priyanka G\\\\CAPSTONE_PROJECT_WORK(2022)\\\\cake\\\\brownie\\\\snicker')"
   ]
  },
  {
   "cell_type": "code",
   "execution_count": 35,
   "id": "21f32bf4",
   "metadata": {},
   "outputs": [],
   "source": [
    "bs1 = pd.read_csv('s1.csv')\n",
    "bs2 = pd.read_csv('s2.csv')\n",
    "bs4 = pd.read_csv('s4.csv')\n"
   ]
  },
  {
   "cell_type": "code",
   "execution_count": 36,
   "id": "f97cbd32",
   "metadata": {},
   "outputs": [],
   "source": [
    "os.chdir('C:\\\\Users\\\\Priyanka G\\\\CAPSTONE_PROJECT_WORK(2022)\\\\cake\\\\brownie\\\\swiss')"
   ]
  },
  {
   "cell_type": "code",
   "execution_count": 38,
   "id": "36c6bb32",
   "metadata": {},
   "outputs": [],
   "source": [
    "bsw1 = pd.read_csv('s1.csv')\n",
    "bsw2 = pd.read_csv('s2.csv')\n",
    "bsw3 = pd.read_csv('s3.csv')\n",
    "bsw4 = pd.read_csv('s4.csv')"
   ]
  },
  {
   "cell_type": "code",
   "execution_count": 39,
   "id": "3eb88262",
   "metadata": {},
   "outputs": [],
   "source": [
    "os.chdir('C:\\\\Users\\\\Priyanka G\\\\CAPSTONE_PROJECT_WORK(2022)\\\\cake\\\\chocolatecake\\\\chocolatehazelnut')"
   ]
  },
  {
   "cell_type": "code",
   "execution_count": 40,
   "id": "7e92bb59",
   "metadata": {},
   "outputs": [],
   "source": [
    "s1 = pd.read_csv('s1.csv')\n",
    "s3 = pd.read_csv('s3.csv')\n",
    "s4 = pd.read_csv('s4.csv')"
   ]
  },
  {
   "cell_type": "code",
   "execution_count": 41,
   "id": "b3f71f96",
   "metadata": {},
   "outputs": [],
   "source": [
    "os.chdir('C:\\\\Users\\\\Priyanka G\\\\CAPSTONE_PROJECT_WORK(2022)\\\\cake\\\\chocolatecake\\\\oreochocolate')"
   ]
  },
  {
   "cell_type": "code",
   "execution_count": 42,
   "id": "62a80a2c",
   "metadata": {},
   "outputs": [],
   "source": [
    "s5 = pd.read_csv('s1.csv')\n",
    "s6 = pd.read_csv('s2.csv')\n",
    "s7 = pd.read_csv('s3.csv')\n",
    "s8 = pd.read_csv('s4.csv')"
   ]
  },
  {
   "cell_type": "code",
   "execution_count": 43,
   "id": "d2476ce6",
   "metadata": {},
   "outputs": [],
   "source": [
    "os.chdir('C:\\\\Users\\\\Priyanka G\\\\CAPSTONE_PROJECT_WORK(2022)\\\\cake\\\\cupcake\\chocolate')"
   ]
  },
  {
   "cell_type": "code",
   "execution_count": 44,
   "id": "ae885e0e",
   "metadata": {},
   "outputs": [],
   "source": [
    "s26 = pd.read_csv('s1.csv')\n",
    "s27 = pd.read_csv('s2.csv')\n",
    "s28 = pd.read_csv('s3.csv')\n",
    "s29 = pd.read_csv('s4.csv')"
   ]
  },
  {
   "cell_type": "code",
   "execution_count": 45,
   "id": "9ee69ae9",
   "metadata": {},
   "outputs": [],
   "source": [
    "os.chdir('C:\\\\Users\\\\Priyanka G\\\\CAPSTONE_PROJECT_WORK(2022)\\\\cake\\\\cupcake\\\\vanilla')"
   ]
  },
  {
   "cell_type": "code",
   "execution_count": 46,
   "id": "ed0ed54c",
   "metadata": {},
   "outputs": [],
   "source": [
    "s30 = pd.read_csv('s1.csv')\n",
    "s31 = pd.read_csv('s2.csv')\n",
    "s32 = pd.read_csv('s4.csv')"
   ]
  },
  {
   "cell_type": "code",
   "execution_count": 48,
   "id": "84a14065",
   "metadata": {},
   "outputs": [],
   "source": [
    "os.chdir('C:\\\\Users\\\\Priyanka G\\\\CAPSTONE_PROJECT_WORK(2022)\\\\cake\\\\fruitcake\\\\mixedfruit')"
   ]
  },
  {
   "cell_type": "code",
   "execution_count": 49,
   "id": "0e0f67e4",
   "metadata": {},
   "outputs": [],
   "source": [
    "s22 = pd.read_csv('s1.csv')\n",
    "s23 = pd.read_csv('s2.csv')\n",
    "s24 = pd.read_csv('s3.csv')\n",
    "s25 = pd.read_csv('s4.csv')"
   ]
  },
  {
   "cell_type": "code",
   "execution_count": 50,
   "id": "7687d8b4",
   "metadata": {},
   "outputs": [],
   "source": [
    "os.chdir('C:\\\\Users\\\\Priyanka G\\\\CAPSTONE_PROJECT_WORK(2022)\\\\cake\\\\pastry\\\\almonddelight')"
   ]
  },
  {
   "cell_type": "code",
   "execution_count": 51,
   "id": "ac46fbae",
   "metadata": {},
   "outputs": [],
   "source": [
    "r1 = pd.read_csv('s1.csv')"
   ]
  },
  {
   "cell_type": "code",
   "execution_count": 53,
   "id": "e973d07b",
   "metadata": {},
   "outputs": [],
   "source": [
    "data = pd.concat([bo1,bo3,bo4,bs1,bs2,bs4,bsw1,bsw2,bsw3,bsw4,s1,s3,s4,s5,s6,s7,s8,s26,s27,s28,s29,s30,s31,s32,s22,s23,s24,s25,r1],axis=0)"
   ]
  },
  {
   "cell_type": "code",
   "execution_count": 54,
   "id": "ed2e8477",
   "metadata": {},
   "outputs": [
    {
     "data": {
      "text/plain": [
       "(14998, 10)"
      ]
     },
     "execution_count": 54,
     "metadata": {},
     "output_type": "execute_result"
    }
   ],
   "source": [
    "data.shape"
   ]
  },
  {
   "cell_type": "code",
   "execution_count": 55,
   "id": "7dc7e48a",
   "metadata": {},
   "outputs": [],
   "source": [
    "data = data.loc[data.nwords > 2, :]\n",
    "data = data.loc[data.nnumbers <= 3, :]\n",
    "data = data.loc[data.nwords <= 10, :]\n",
    "data = data.drop([\"Sentence\"],axis=1)\n",
    "X = data.drop(\"label\",axis=1)\n",
    "y = data.label"
   ]
  },
  {
   "cell_type": "code",
   "execution_count": 56,
   "id": "e937be6c",
   "metadata": {},
   "outputs": [
    {
     "data": {
      "text/plain": [
       "GridSearchCV(estimator=Pipeline(steps=[('std_slc', StandardScaler()),\n",
       "                                       ('pca', PCA()),\n",
       "                                       ('dec_tree', DecisionTreeClassifier())]),\n",
       "             param_grid={'dec_tree__criterion': ['gini', 'entropy'],\n",
       "                         'dec_tree__max_depth': [2, 4, 6, 8, 10, 12],\n",
       "                         'pca__n_components': [1, 2, 3, 4, 5, 6, 7, 8]})"
      ]
     },
     "execution_count": 56,
     "metadata": {},
     "output_type": "execute_result"
    }
   ],
   "source": [
    "from sklearn import decomposition, datasets\n",
    "from sklearn import tree\n",
    "from sklearn.pipeline import Pipeline\n",
    "from sklearn.model_selection import GridSearchCV\n",
    "from sklearn.preprocessing import StandardScaler\n",
    "from sklearn import tree\n",
    "from sklearn.model_selection import GridSearchCV\n",
    "estimator =tree.DecisionTreeClassifier()\n",
    "\n",
    "std_slc = StandardScaler()\n",
    "pca = decomposition.PCA()\n",
    "pipe = Pipeline(steps=[('std_slc', std_slc),\n",
    "                           ('pca', pca),\n",
    "                           ('dec_tree', estimator)])\n",
    "n_components = list(range(1,X.shape[1]+1,1))\n",
    "criterion = ['gini', 'entropy']\n",
    "max_depth = [2,4,6,8,10,12]\n",
    "parameters = dict(pca__n_components=n_components,\n",
    "                      dec_tree__criterion=criterion,\n",
    "                      dec_tree__max_depth=max_depth)\n",
    "\n",
    "clf_GS = GridSearchCV(pipe, parameters)\n",
    "clf_GS.fit(X, y)"
   ]
  },
  {
   "cell_type": "code",
   "execution_count": 57,
   "id": "5e5f3c02",
   "metadata": {},
   "outputs": [
    {
     "data": {
      "text/plain": [
       "{'memory': None,\n",
       " 'steps': [('std_slc', StandardScaler()),\n",
       "  ('pca', PCA(n_components=5)),\n",
       "  ('dec_tree', DecisionTreeClassifier(max_depth=2))],\n",
       " 'verbose': False,\n",
       " 'std_slc': StandardScaler(),\n",
       " 'pca': PCA(n_components=5),\n",
       " 'dec_tree': DecisionTreeClassifier(max_depth=2),\n",
       " 'std_slc__copy': True,\n",
       " 'std_slc__with_mean': True,\n",
       " 'std_slc__with_std': True,\n",
       " 'pca__copy': True,\n",
       " 'pca__iterated_power': 'auto',\n",
       " 'pca__n_components': 5,\n",
       " 'pca__random_state': None,\n",
       " 'pca__svd_solver': 'auto',\n",
       " 'pca__tol': 0.0,\n",
       " 'pca__whiten': False,\n",
       " 'dec_tree__ccp_alpha': 0.0,\n",
       " 'dec_tree__class_weight': None,\n",
       " 'dec_tree__criterion': 'gini',\n",
       " 'dec_tree__max_depth': 2,\n",
       " 'dec_tree__max_features': None,\n",
       " 'dec_tree__max_leaf_nodes': None,\n",
       " 'dec_tree__min_impurity_decrease': 0.0,\n",
       " 'dec_tree__min_samples_leaf': 1,\n",
       " 'dec_tree__min_samples_split': 2,\n",
       " 'dec_tree__min_weight_fraction_leaf': 0.0,\n",
       " 'dec_tree__random_state': None,\n",
       " 'dec_tree__splitter': 'best'}"
      ]
     },
     "execution_count": 57,
     "metadata": {},
     "output_type": "execute_result"
    }
   ],
   "source": [
    "clf_GS.best_estimator_.get_params()"
   ]
  },
  {
   "cell_type": "code",
   "execution_count": 58,
   "id": "7ad3ea81",
   "metadata": {},
   "outputs": [
    {
     "data": {
      "text/plain": [
       "DecisionTreeClassifier(max_depth=2)"
      ]
     },
     "execution_count": 58,
     "metadata": {},
     "output_type": "execute_result"
    }
   ],
   "source": [
    "model_DT=DecisionTreeClassifier( max_depth=2, min_samples_leaf=1)\n",
    "model_DT.fit(X,y)"
   ]
  },
  {
   "cell_type": "code",
   "execution_count": 59,
   "id": "17a22c0e",
   "metadata": {},
   "outputs": [
    {
     "name": "stdout",
     "output_type": "stream",
     "text": [
      "DecisionTreeClassifier()\n",
      "0.9819056785370549\n"
     ]
    }
   ],
   "source": [
    "randomForest = ensemble.RandomForestClassifier(n_estimators=50,max_features=0.5,oob_score=True)\n",
    "randomForest.fit(X,y)\n",
    "\n",
    "print(randomForest.base_estimator_)\n",
    "\n",
    "print(randomForest.oob_score_)"
   ]
  },
  {
   "cell_type": "code",
   "execution_count": 60,
   "id": "6c3cad21",
   "metadata": {},
   "outputs": [
    {
     "data": {
      "text/plain": [
       "GridSearchCV(cv=5, estimator=RandomForestClassifier(), n_jobs=-1,\n",
       "             param_grid={'max_features': ['auto', 'sqrt', 'log2', 0.1, 0.2, 0.3,\n",
       "                                          0.4, 0.5, 0.6, 0.7, 0.8, 0.9],\n",
       "                         'min_samples_split': [2, 4, 8],\n",
       "                         'n_estimators': [10, 20, 30, 40, 50, 60]})"
      ]
     },
     "execution_count": 60,
     "metadata": {},
     "output_type": "execute_result"
    }
   ],
   "source": [
    "from sklearn.model_selection import GridSearchCV\n",
    "estimator = ensemble.RandomForestClassifier()\n",
    "\n",
    "\n",
    "\n",
    "param_grid = { \n",
    "            \"n_estimators\"      : [10,20,30,40,50,60],\n",
    "            \"max_features\"      : [\"auto\", \"sqrt\", \"log2\",0.1,0.2,0.3,0.4,0.5,0.6,0.7,0.8,0.9],\n",
    "            \"min_samples_split\" : [2,4,8],\n",
    "            }\n",
    "grid = GridSearchCV(estimator, param_grid, n_jobs=-1, cv=5)   \n",
    "grid.fit(X, y)"
   ]
  },
  {
   "cell_type": "code",
   "execution_count": 61,
   "id": "0bca2190",
   "metadata": {},
   "outputs": [
    {
     "data": {
      "text/plain": [
       "(0.9822906641000964,\n",
       " {'max_features': 0.1, 'min_samples_split': 8, 'n_estimators': 40})"
      ]
     },
     "execution_count": 61,
     "metadata": {},
     "output_type": "execute_result"
    }
   ],
   "source": [
    "grid.best_score_ , grid.best_params_"
   ]
  },
  {
   "cell_type": "code",
   "execution_count": 62,
   "id": "48e7de6b",
   "metadata": {},
   "outputs": [
    {
     "data": {
      "text/plain": [
       "RandomForestClassifier(max_features=0.1, min_samples_split=8, n_estimators=40,\n",
       "                       oob_score=True)"
      ]
     },
     "execution_count": 62,
     "metadata": {},
     "output_type": "execute_result"
    }
   ],
   "source": [
    "randomForest = ensemble.RandomForestClassifier(n_estimators=40,min_samples_split = 8,max_features=0.1,oob_score=True)\n",
    "randomForest.fit(X,y)"
   ]
  },
  {
   "cell_type": "code",
   "execution_count": null,
   "id": "088b84a0",
   "metadata": {},
   "outputs": [],
   "source": []
  },
  {
   "cell_type": "code",
   "execution_count": 63,
   "id": "89ec9741",
   "metadata": {},
   "outputs": [
    {
     "data": {
      "text/plain": [
       "AdaBoostClassifier(n_estimators=100, random_state=0)"
      ]
     },
     "execution_count": 63,
     "metadata": {},
     "output_type": "execute_result"
    }
   ],
   "source": [
    "clf = AdaBoostClassifier(n_estimators=100, random_state=0)\n",
    "clf.fit(X, y)"
   ]
  },
  {
   "cell_type": "code",
   "execution_count": 64,
   "id": "4ee01f41",
   "metadata": {},
   "outputs": [
    {
     "data": {
      "text/plain": [
       "(0.9834444938491183, {'learning_rate': 0.01, 'n_estimators': 500})"
      ]
     },
     "execution_count": 64,
     "metadata": {},
     "output_type": "execute_result"
    }
   ],
   "source": [
    "# define the grid of values to search\n",
    "grid = dict()\n",
    "grid['n_estimators'] = [10, 50, 100, 500]\n",
    "grid['learning_rate'] = [0.0001, 0.001, 0.01, 0.1, 1.0]\n",
    "\n",
    "from sklearn.model_selection import RepeatedStratifiedKFold\n",
    "cv = RepeatedStratifiedKFold(n_splits=10, n_repeats=3, random_state=1)\n",
    "\n",
    "# define the grid search procedure\n",
    "grid_search = GridSearchCV(estimator=clf, param_grid=grid, n_jobs=-1, cv=cv, scoring='accuracy')\n",
    "\n",
    "grid_result = grid_search.fit(X, y)\n",
    "grid_result.best_score_, grid_result.best_params_\n"
   ]
  },
  {
   "cell_type": "code",
   "execution_count": 65,
   "id": "87d5eb40",
   "metadata": {},
   "outputs": [
    {
     "data": {
      "text/plain": [
       "AdaBoostClassifier(learning_rate=0.01, n_estimators=500, random_state=0)"
      ]
     },
     "execution_count": 65,
     "metadata": {},
     "output_type": "execute_result"
    }
   ],
   "source": [
    "clf_AD = AdaBoostClassifier(n_estimators=500, random_state=0,learning_rate= 0.01)\n",
    "clf_AD.fit(X, y)"
   ]
  },
  {
   "cell_type": "code",
   "execution_count": null,
   "id": "3c61221d",
   "metadata": {},
   "outputs": [],
   "source": []
  },
  {
   "cell_type": "code",
   "execution_count": 66,
   "id": "a798b07a",
   "metadata": {},
   "outputs": [
    {
     "data": {
      "text/plain": [
       "SVC()"
      ]
     },
     "execution_count": 66,
     "metadata": {},
     "output_type": "execute_result"
    }
   ],
   "source": [
    "clf1 = svm.SVC()\n",
    "clf1.fit(X, y)"
   ]
  },
  {
   "cell_type": "code",
   "execution_count": 67,
   "id": "a4550109",
   "metadata": {},
   "outputs": [
    {
     "name": "stdout",
     "output_type": "stream",
     "text": [
      "Fitting 5 folds for each of 25 candidates, totalling 125 fits\n",
      "[CV 1/5] END ........C=0.1, gamma=1, kernel=rbf;, score=0.965 total time=   0.3s\n",
      "[CV 2/5] END ........C=0.1, gamma=1, kernel=rbf;, score=0.966 total time=   0.3s\n",
      "[CV 3/5] END ........C=0.1, gamma=1, kernel=rbf;, score=0.973 total time=   0.4s\n",
      "[CV 4/5] END ........C=0.1, gamma=1, kernel=rbf;, score=0.967 total time=   0.4s\n",
      "[CV 5/5] END ........C=0.1, gamma=1, kernel=rbf;, score=0.974 total time=   0.3s\n",
      "[CV 1/5] END ......C=0.1, gamma=0.1, kernel=rbf;, score=0.966 total time=   0.1s\n",
      "[CV 2/5] END ......C=0.1, gamma=0.1, kernel=rbf;, score=0.971 total time=   0.1s\n",
      "[CV 3/5] END ......C=0.1, gamma=0.1, kernel=rbf;, score=0.974 total time=   0.1s\n",
      "[CV 4/5] END ......C=0.1, gamma=0.1, kernel=rbf;, score=0.966 total time=   0.1s\n",
      "[CV 5/5] END ......C=0.1, gamma=0.1, kernel=rbf;, score=0.959 total time=   0.1s\n",
      "[CV 1/5] END .....C=0.1, gamma=0.01, kernel=rbf;, score=0.956 total time=   0.1s\n",
      "[CV 2/5] END .....C=0.1, gamma=0.01, kernel=rbf;, score=0.956 total time=   0.1s\n",
      "[CV 3/5] END .....C=0.1, gamma=0.01, kernel=rbf;, score=0.955 total time=   0.1s\n",
      "[CV 4/5] END .....C=0.1, gamma=0.01, kernel=rbf;, score=0.955 total time=   0.1s\n",
      "[CV 5/5] END .....C=0.1, gamma=0.01, kernel=rbf;, score=0.955 total time=   0.2s\n",
      "[CV 1/5] END ....C=0.1, gamma=0.001, kernel=rbf;, score=0.956 total time=   0.1s\n",
      "[CV 2/5] END ....C=0.1, gamma=0.001, kernel=rbf;, score=0.956 total time=   0.1s\n",
      "[CV 3/5] END ....C=0.1, gamma=0.001, kernel=rbf;, score=0.955 total time=   0.1s\n",
      "[CV 4/5] END ....C=0.1, gamma=0.001, kernel=rbf;, score=0.955 total time=   0.1s\n",
      "[CV 5/5] END ....C=0.1, gamma=0.001, kernel=rbf;, score=0.955 total time=   0.1s\n",
      "[CV 1/5] END ...C=0.1, gamma=0.0001, kernel=rbf;, score=0.956 total time=   0.0s\n",
      "[CV 2/5] END ...C=0.1, gamma=0.0001, kernel=rbf;, score=0.956 total time=   0.1s\n",
      "[CV 3/5] END ...C=0.1, gamma=0.0001, kernel=rbf;, score=0.955 total time=   0.1s\n",
      "[CV 4/5] END ...C=0.1, gamma=0.0001, kernel=rbf;, score=0.955 total time=   0.1s\n",
      "[CV 5/5] END ...C=0.1, gamma=0.0001, kernel=rbf;, score=0.955 total time=   0.0s\n",
      "[CV 1/5] END ..........C=1, gamma=1, kernel=rbf;, score=0.971 total time=   0.3s\n",
      "[CV 2/5] END ..........C=1, gamma=1, kernel=rbf;, score=0.984 total time=   0.3s\n",
      "[CV 3/5] END ..........C=1, gamma=1, kernel=rbf;, score=0.985 total time=   0.3s\n",
      "[CV 4/5] END ..........C=1, gamma=1, kernel=rbf;, score=0.963 total time=   0.3s\n",
      "[CV 5/5] END ..........C=1, gamma=1, kernel=rbf;, score=0.990 total time=   0.3s\n",
      "[CV 1/5] END ........C=1, gamma=0.1, kernel=rbf;, score=0.980 total time=   0.0s\n",
      "[CV 2/5] END ........C=1, gamma=0.1, kernel=rbf;, score=0.986 total time=   0.0s\n",
      "[CV 3/5] END ........C=1, gamma=0.1, kernel=rbf;, score=0.984 total time=   0.0s\n",
      "[CV 4/5] END ........C=1, gamma=0.1, kernel=rbf;, score=0.967 total time=   0.0s\n",
      "[CV 5/5] END ........C=1, gamma=0.1, kernel=rbf;, score=0.990 total time=   0.0s\n",
      "[CV 1/5] END .......C=1, gamma=0.01, kernel=rbf;, score=0.980 total time=   0.1s\n",
      "[CV 2/5] END .......C=1, gamma=0.01, kernel=rbf;, score=0.987 total time=   0.1s\n",
      "[CV 3/5] END .......C=1, gamma=0.01, kernel=rbf;, score=0.984 total time=   0.1s\n",
      "[CV 4/5] END .......C=1, gamma=0.01, kernel=rbf;, score=0.969 total time=   0.1s\n",
      "[CV 5/5] END .......C=1, gamma=0.01, kernel=rbf;, score=0.989 total time=   0.1s\n",
      "[CV 1/5] END ......C=1, gamma=0.001, kernel=rbf;, score=0.956 total time=   0.1s\n",
      "[CV 2/5] END ......C=1, gamma=0.001, kernel=rbf;, score=0.956 total time=   0.1s\n",
      "[CV 3/5] END ......C=1, gamma=0.001, kernel=rbf;, score=0.955 total time=   0.1s\n",
      "[CV 4/5] END ......C=1, gamma=0.001, kernel=rbf;, score=0.955 total time=   0.2s\n",
      "[CV 5/5] END ......C=1, gamma=0.001, kernel=rbf;, score=0.955 total time=   0.2s\n",
      "[CV 1/5] END .....C=1, gamma=0.0001, kernel=rbf;, score=0.956 total time=   0.1s\n",
      "[CV 2/5] END .....C=1, gamma=0.0001, kernel=rbf;, score=0.956 total time=   0.1s\n",
      "[CV 3/5] END .....C=1, gamma=0.0001, kernel=rbf;, score=0.955 total time=   0.1s\n",
      "[CV 4/5] END .....C=1, gamma=0.0001, kernel=rbf;, score=0.955 total time=   0.0s\n",
      "[CV 5/5] END .....C=1, gamma=0.0001, kernel=rbf;, score=0.955 total time=   0.1s\n",
      "[CV 1/5] END .........C=10, gamma=1, kernel=rbf;, score=0.970 total time=   0.3s\n",
      "[CV 2/5] END .........C=10, gamma=1, kernel=rbf;, score=0.988 total time=   0.4s\n",
      "[CV 3/5] END .........C=10, gamma=1, kernel=rbf;, score=0.985 total time=   0.3s\n",
      "[CV 4/5] END .........C=10, gamma=1, kernel=rbf;, score=0.963 total time=   0.2s\n",
      "[CV 5/5] END .........C=10, gamma=1, kernel=rbf;, score=0.990 total time=   0.3s\n",
      "[CV 1/5] END .......C=10, gamma=0.1, kernel=rbf;, score=0.970 total time=   0.0s\n",
      "[CV 2/5] END .......C=10, gamma=0.1, kernel=rbf;, score=0.987 total time=   0.0s\n",
      "[CV 3/5] END .......C=10, gamma=0.1, kernel=rbf;, score=0.986 total time=   0.0s\n",
      "[CV 4/5] END .......C=10, gamma=0.1, kernel=rbf;, score=0.967 total time=   0.0s\n",
      "[CV 5/5] END .......C=10, gamma=0.1, kernel=rbf;, score=0.990 total time=   0.0s\n",
      "[CV 1/5] END ......C=10, gamma=0.01, kernel=rbf;, score=0.981 total time=   0.1s\n",
      "[CV 2/5] END ......C=10, gamma=0.01, kernel=rbf;, score=0.987 total time=   0.1s\n",
      "[CV 3/5] END ......C=10, gamma=0.01, kernel=rbf;, score=0.983 total time=   0.2s\n",
      "[CV 4/5] END ......C=10, gamma=0.01, kernel=rbf;, score=0.971 total time=   0.0s\n",
      "[CV 5/5] END ......C=10, gamma=0.01, kernel=rbf;, score=0.990 total time=   0.1s\n",
      "[CV 1/5] END .....C=10, gamma=0.001, kernel=rbf;, score=0.981 total time=   0.1s\n",
      "[CV 2/5] END .....C=10, gamma=0.001, kernel=rbf;, score=0.987 total time=   0.1s\n",
      "[CV 3/5] END .....C=10, gamma=0.001, kernel=rbf;, score=0.983 total time=   0.2s\n",
      "[CV 4/5] END .....C=10, gamma=0.001, kernel=rbf;, score=0.972 total time=   0.1s\n",
      "[CV 5/5] END .....C=10, gamma=0.001, kernel=rbf;, score=0.990 total time=   0.1s\n",
      "[CV 1/5] END ....C=10, gamma=0.0001, kernel=rbf;, score=0.956 total time=   0.2s\n",
      "[CV 2/5] END ....C=10, gamma=0.0001, kernel=rbf;, score=0.956 total time=   0.2s\n",
      "[CV 3/5] END ....C=10, gamma=0.0001, kernel=rbf;, score=0.955 total time=   0.1s\n",
      "[CV 4/5] END ....C=10, gamma=0.0001, kernel=rbf;, score=0.955 total time=   0.1s\n",
      "[CV 5/5] END ....C=10, gamma=0.0001, kernel=rbf;, score=0.955 total time=   0.2s\n",
      "[CV 1/5] END ........C=100, gamma=1, kernel=rbf;, score=0.970 total time=   0.4s\n",
      "[CV 2/5] END ........C=100, gamma=1, kernel=rbf;, score=0.988 total time=   0.3s\n",
      "[CV 3/5] END ........C=100, gamma=1, kernel=rbf;, score=0.985 total time=   0.3s\n",
      "[CV 4/5] END ........C=100, gamma=1, kernel=rbf;, score=0.963 total time=   0.3s\n",
      "[CV 5/5] END ........C=100, gamma=1, kernel=rbf;, score=0.990 total time=   0.4s\n",
      "[CV 1/5] END ......C=100, gamma=0.1, kernel=rbf;, score=0.974 total time=   0.0s\n",
      "[CV 2/5] END ......C=100, gamma=0.1, kernel=rbf;, score=0.987 total time=   0.1s\n",
      "[CV 3/5] END ......C=100, gamma=0.1, kernel=rbf;, score=0.986 total time=   0.1s\n",
      "[CV 4/5] END ......C=100, gamma=0.1, kernel=rbf;, score=0.962 total time=   0.0s\n",
      "[CV 5/5] END ......C=100, gamma=0.1, kernel=rbf;, score=0.990 total time=   0.1s\n",
      "[CV 1/5] END .....C=100, gamma=0.01, kernel=rbf;, score=0.981 total time=   0.0s\n",
      "[CV 2/5] END .....C=100, gamma=0.01, kernel=rbf;, score=0.987 total time=   0.0s\n",
      "[CV 3/5] END .....C=100, gamma=0.01, kernel=rbf;, score=0.983 total time=   0.0s\n",
      "[CV 4/5] END .....C=100, gamma=0.01, kernel=rbf;, score=0.971 total time=   0.0s\n",
      "[CV 5/5] END .....C=100, gamma=0.01, kernel=rbf;, score=0.990 total time=   0.0s\n",
      "[CV 1/5] END ....C=100, gamma=0.001, kernel=rbf;, score=0.981 total time=   0.1s\n",
      "[CV 2/5] END ....C=100, gamma=0.001, kernel=rbf;, score=0.987 total time=   0.1s\n",
      "[CV 3/5] END ....C=100, gamma=0.001, kernel=rbf;, score=0.983 total time=   0.1s\n",
      "[CV 4/5] END ....C=100, gamma=0.001, kernel=rbf;, score=0.971 total time=   0.1s\n",
      "[CV 5/5] END ....C=100, gamma=0.001, kernel=rbf;, score=0.990 total time=   0.1s\n",
      "[CV 1/5] END ...C=100, gamma=0.0001, kernel=rbf;, score=0.981 total time=   0.1s\n",
      "[CV 2/5] END ...C=100, gamma=0.0001, kernel=rbf;, score=0.987 total time=   0.1s\n",
      "[CV 3/5] END ...C=100, gamma=0.0001, kernel=rbf;, score=0.983 total time=   0.1s\n",
      "[CV 4/5] END ...C=100, gamma=0.0001, kernel=rbf;, score=0.971 total time=   0.1s\n",
      "[CV 5/5] END ...C=100, gamma=0.0001, kernel=rbf;, score=0.990 total time=   0.1s\n",
      "[CV 1/5] END .......C=1000, gamma=1, kernel=rbf;, score=0.970 total time=   0.3s\n"
     ]
    },
    {
     "name": "stdout",
     "output_type": "stream",
     "text": [
      "[CV 2/5] END .......C=1000, gamma=1, kernel=rbf;, score=0.988 total time=   0.5s\n",
      "[CV 3/5] END .......C=1000, gamma=1, kernel=rbf;, score=0.985 total time=   0.5s\n",
      "[CV 4/5] END .......C=1000, gamma=1, kernel=rbf;, score=0.963 total time=   0.4s\n",
      "[CV 5/5] END .......C=1000, gamma=1, kernel=rbf;, score=0.990 total time=   0.4s\n",
      "[CV 1/5] END .....C=1000, gamma=0.1, kernel=rbf;, score=0.972 total time=   0.2s\n",
      "[CV 2/5] END .....C=1000, gamma=0.1, kernel=rbf;, score=0.986 total time=   0.1s\n",
      "[CV 3/5] END .....C=1000, gamma=0.1, kernel=rbf;, score=0.983 total time=   0.3s\n",
      "[CV 4/5] END .....C=1000, gamma=0.1, kernel=rbf;, score=0.958 total time=   0.1s\n",
      "[CV 5/5] END .....C=1000, gamma=0.1, kernel=rbf;, score=0.991 total time=   0.2s\n",
      "[CV 1/5] END ....C=1000, gamma=0.01, kernel=rbf;, score=0.971 total time=   0.1s\n",
      "[CV 2/5] END ....C=1000, gamma=0.01, kernel=rbf;, score=0.987 total time=   0.2s\n",
      "[CV 3/5] END ....C=1000, gamma=0.01, kernel=rbf;, score=0.985 total time=   0.2s\n",
      "[CV 4/5] END ....C=1000, gamma=0.01, kernel=rbf;, score=0.967 total time=   0.2s\n",
      "[CV 5/5] END ....C=1000, gamma=0.01, kernel=rbf;, score=0.991 total time=   0.4s\n",
      "[CV 1/5] END ...C=1000, gamma=0.001, kernel=rbf;, score=0.981 total time=   0.1s\n",
      "[CV 2/5] END ...C=1000, gamma=0.001, kernel=rbf;, score=0.987 total time=   0.2s\n",
      "[CV 3/5] END ...C=1000, gamma=0.001, kernel=rbf;, score=0.983 total time=   0.2s\n",
      "[CV 4/5] END ...C=1000, gamma=0.001, kernel=rbf;, score=0.971 total time=   0.1s\n",
      "[CV 5/5] END ...C=1000, gamma=0.001, kernel=rbf;, score=0.990 total time=   0.2s\n",
      "[CV 1/5] END ..C=1000, gamma=0.0001, kernel=rbf;, score=0.981 total time=   0.2s\n",
      "[CV 2/5] END ..C=1000, gamma=0.0001, kernel=rbf;, score=0.987 total time=   0.2s\n",
      "[CV 3/5] END ..C=1000, gamma=0.0001, kernel=rbf;, score=0.983 total time=   0.2s\n",
      "[CV 4/5] END ..C=1000, gamma=0.0001, kernel=rbf;, score=0.971 total time=   0.3s\n",
      "[CV 5/5] END ..C=1000, gamma=0.0001, kernel=rbf;, score=0.990 total time=   0.3s\n"
     ]
    },
    {
     "data": {
      "text/plain": [
       "GridSearchCV(estimator=SVC(),\n",
       "             param_grid={'C': [0.1, 1, 10, 100, 1000],\n",
       "                         'gamma': [1, 0.1, 0.01, 0.001, 0.0001],\n",
       "                         'kernel': ['rbf']},\n",
       "             verbose=3)"
      ]
     },
     "execution_count": 67,
     "metadata": {},
     "output_type": "execute_result"
    }
   ],
   "source": [
    "# defining parameter range\n",
    "param_grid = {'C': [0.1, 1, 10, 100, 1000],\n",
    "              'gamma': [1, 0.1, 0.01, 0.001, 0.0001],\n",
    "              'kernel': ['rbf']}\n",
    " \n",
    "grid = GridSearchCV(clf1, param_grid, refit = True, verbose = 3)\n",
    " \n",
    "# fitting the model for grid search\n",
    "grid.fit(X, y)"
   ]
  },
  {
   "cell_type": "code",
   "execution_count": 68,
   "id": "64812f57",
   "metadata": {},
   "outputs": [
    {
     "data": {
      "text/plain": [
       "({'C': 10, 'gamma': 0.001, 'kernel': 'rbf'}, SVC(C=10, gamma=0.001))"
      ]
     },
     "execution_count": 68,
     "metadata": {},
     "output_type": "execute_result"
    }
   ],
   "source": [
    "grid.best_params_,grid.best_estimator_"
   ]
  },
  {
   "cell_type": "code",
   "execution_count": 69,
   "id": "77ea5025",
   "metadata": {},
   "outputs": [
    {
     "data": {
      "text/plain": [
       "SVC(C=10, gamma=0.001)"
      ]
     },
     "execution_count": 69,
     "metadata": {},
     "output_type": "execute_result"
    }
   ],
   "source": [
    "clf_SVM = svm.SVC(C=10,gamma=0.001)\n",
    "clf_SVM.fit(X, y)"
   ]
  },
  {
   "cell_type": "code",
   "execution_count": null,
   "id": "c8c210ec",
   "metadata": {},
   "outputs": [],
   "source": []
  },
  {
   "cell_type": "code",
   "execution_count": 96,
   "id": "0c81e494",
   "metadata": {},
   "outputs": [],
   "source": [
    "clf2 = GradientBoostingClassifier(n_estimators=100, learning_rate=1.0,max_depth=1, random_state=0).fit(X, y)"
   ]
  },
  {
   "cell_type": "code",
   "execution_count": 97,
   "id": "2841a89a",
   "metadata": {},
   "outputs": [],
   "source": [
    "p_test = {'max_depth':[2,3,4,5,6,7] ,\n",
    "           'learning_rate':[0.15,0.1,0.05,0.01,0.005,0.001], 'n_estimators':[100,250,500,750,1000,1250,1500,1750],\n",
    "          }\n",
    "tuning = GridSearchCV(estimator =clf2, param_grid = p_test, scoring='accuracy',n_jobs=4, cv=5)"
   ]
  },
  {
   "cell_type": "code",
   "execution_count": 98,
   "id": "3d9ecf85",
   "metadata": {},
   "outputs": [
    {
     "data": {
      "text/plain": [
       "GridSearchCV(cv=5,\n",
       "             estimator=GradientBoostingClassifier(learning_rate=1.0,\n",
       "                                                  max_depth=1, random_state=0),\n",
       "             n_jobs=4,\n",
       "             param_grid={'learning_rate': [0.15, 0.1, 0.05, 0.01, 0.005, 0.001],\n",
       "                         'max_depth': [2, 3, 4, 5, 6, 7],\n",
       "                         'n_estimators': [100, 250, 500, 750, 1000, 1250, 1500,\n",
       "                                          1750]},\n",
       "             scoring='accuracy')"
      ]
     },
     "execution_count": 98,
     "metadata": {},
     "output_type": "execute_result"
    }
   ],
   "source": [
    "tuning.fit(X,y)"
   ]
  },
  {
   "cell_type": "code",
   "execution_count": 99,
   "id": "f06e638e",
   "metadata": {},
   "outputs": [
    {
     "data": {
      "text/plain": [
       "({'learning_rate': 0.15, 'max_depth': 3, 'n_estimators': 1250},\n",
       " 0.9824831568816169)"
      ]
     },
     "execution_count": 99,
     "metadata": {},
     "output_type": "execute_result"
    }
   ],
   "source": [
    "tuning.best_params_, tuning.best_score_"
   ]
  },
  {
   "cell_type": "code",
   "execution_count": 100,
   "id": "b3afcb07",
   "metadata": {},
   "outputs": [],
   "source": [
    "clf_GBM = GradientBoostingClassifier(n_estimators=1250, learning_rate=0.15,max_depth=3, random_state=0).fit(X, y)\n",
    "\n"
   ]
  },
  {
   "cell_type": "code",
   "execution_count": null,
   "id": "584e84f0",
   "metadata": {},
   "outputs": [],
   "source": []
  },
  {
   "cell_type": "code",
   "execution_count": 75,
   "id": "ac867db7",
   "metadata": {},
   "outputs": [],
   "source": [
    "os.chdir('C:\\\\Users\\\\Priyanka G\\\\CAPSTONE_PROJECT_WORK(2022)\\\\cake\\\\pastry\\\\almonddelight')"
   ]
  },
  {
   "cell_type": "code",
   "execution_count": 76,
   "id": "2d71efad",
   "metadata": {},
   "outputs": [],
   "source": [
    "r2 = pd.read_csv('s2.csv')\n",
    "r3 = pd.read_csv('s3.csv')\n",
    "r4 = pd.read_csv('s4.csv')"
   ]
  },
  {
   "cell_type": "code",
   "execution_count": 77,
   "id": "2999a405",
   "metadata": {},
   "outputs": [],
   "source": [
    "os.chdir('C:\\\\Users\\\\Priyanka G\\\\CAPSTONE_PROJECT_WORK(2022)\\\\cake\\\\pastry\\\\deathbychocolate')"
   ]
  },
  {
   "cell_type": "code",
   "execution_count": 78,
   "id": "5a53689e",
   "metadata": {},
   "outputs": [],
   "source": [
    "rr1 = pd.read_csv('s1.csv')\n",
    "rr2 = pd.read_csv('s2.csv')\n",
    "rr3 = pd.read_csv('s3.csv')\n",
    "rr4 = pd.read_csv('s4.csv')"
   ]
  },
  {
   "cell_type": "code",
   "execution_count": 79,
   "id": "3b61789e",
   "metadata": {},
   "outputs": [],
   "source": [
    "os.chdir('C:\\\\Users\\\\Priyanka G\\\\CAPSTONE_PROJECT_WORK(2022)\\\\cake\\\\pastry\\\\rainbow')"
   ]
  },
  {
   "cell_type": "code",
   "execution_count": 80,
   "id": "2f76c024",
   "metadata": {},
   "outputs": [],
   "source": [
    "rrr1 = pd.read_csv('s1.csv')\n",
    "rrr2 = pd.read_csv('s2.csv')\n",
    "rrr3 = pd.read_csv('s3.csv')\n"
   ]
  },
  {
   "cell_type": "code",
   "execution_count": 81,
   "id": "322b1dfb",
   "metadata": {},
   "outputs": [],
   "source": [
    "os.chdir('C:\\\\Users\\\\Priyanka G\\\\CAPSTONE_PROJECT_WORK(2022)\\\\cake\\\\pastry\\\\rasmalai')"
   ]
  },
  {
   "cell_type": "code",
   "execution_count": 82,
   "id": "30cc3b9a",
   "metadata": {},
   "outputs": [],
   "source": [
    "\n",
    "ras2 = pd.read_csv('s2.csv')\n",
    "ras3 = pd.read_csv('s3.csv')\n",
    "ras4 = pd.read_csv('s4.csv')"
   ]
  },
  {
   "cell_type": "code",
   "execution_count": 83,
   "id": "73b904f7",
   "metadata": {},
   "outputs": [],
   "source": [
    "data8 = pd.concat([r2,r3,r4,rr1,rr2,rr3,rr4,rrr1,rrr2,rrr3,ras2,ras3,ras4],axis=0)"
   ]
  },
  {
   "cell_type": "code",
   "execution_count": 84,
   "id": "6b84aaf8",
   "metadata": {},
   "outputs": [],
   "source": [
    "data8 = data8.loc[data8.nwords > 2, :]\n",
    "data8 = data8.loc[data8.nnumbers <= 3, :]\n",
    "data8 = data8.loc[data8.nwords <= 10, :]\n",
    "data8 = data8.drop([\"Sentence\"],axis=1)\n",
    "X_test = data8.drop(\"label\",axis=1)\n",
    "y_test = data8.label\n"
   ]
  },
  {
   "cell_type": "code",
   "execution_count": 85,
   "id": "06b5a6ae",
   "metadata": {},
   "outputs": [
    {
     "name": "stdout",
     "output_type": "stream",
     "text": [
      "[[1603   10]\n",
      " [  32  107]]\n",
      "Prescision :  0.9145299145299145\n",
      "Recall :  0.7697841726618705\n",
      "F1 score :  0.8359375\n"
     ]
    }
   ],
   "source": [
    "pred = model_DT.predict(X_test)\n",
    "\n",
    "from sklearn.metrics import confusion_matrix\n",
    "print(confusion_matrix(y_test, pred))\n",
    "\n",
    "# Finding precision and recall\n",
    "from sklearn.metrics import precision_score, recall_score\n",
    "#precision_score(y_test, pred)\n",
    "print(\"Prescision : \" , precision_score(y_test, pred))\n",
    "print(\"Recall : \" , recall_score(y_test, pred))\n",
    "\n",
    "# To compute the F1 score, simply call the f1_score() function:\n",
    "from sklearn.metrics import f1_score\n",
    "print(\"F1 score : \" ,f1_score(y_test, pred))"
   ]
  },
  {
   "cell_type": "code",
   "execution_count": 86,
   "id": "077f2e36",
   "metadata": {},
   "outputs": [
    {
     "name": "stdout",
     "output_type": "stream",
     "text": [
      "[[1604    9]\n",
      " [  36  103]]\n",
      "Prescision :  0.9196428571428571\n",
      "Recall :  0.7410071942446043\n",
      "F1 score :  0.8207171314741035\n"
     ]
    }
   ],
   "source": [
    "pred = randomForest.predict(X_test)\n",
    "\n",
    "from sklearn.metrics import confusion_matrix\n",
    "print(confusion_matrix(y_test, pred))\n",
    "\n",
    "# Finding precision and recall\n",
    "from sklearn.metrics import precision_score, recall_score\n",
    "#precision_score(y_test, pred)\n",
    "print(\"Prescision : \" , precision_score(y_test, pred))\n",
    "print(\"Recall : \" , recall_score(y_test, pred))\n",
    "\n",
    "# To compute the F1 score, simply call the f1_score() function:\n",
    "from sklearn.metrics import f1_score\n",
    "print(\"F1 score : \" ,f1_score(y_test, pred))"
   ]
  },
  {
   "cell_type": "code",
   "execution_count": 87,
   "id": "b0708518",
   "metadata": {},
   "outputs": [
    {
     "name": "stdout",
     "output_type": "stream",
     "text": [
      "[[1605    8]\n",
      " [  33  106]]\n",
      "Prescision :  0.9298245614035088\n",
      "Recall :  0.762589928057554\n",
      "F1 score :  0.8379446640316206\n"
     ]
    }
   ],
   "source": [
    "pred = clf_AD.predict(X_test)\n",
    "\n",
    "from sklearn.metrics import confusion_matrix\n",
    "print(confusion_matrix(y_test, pred))\n",
    "\n",
    "# Finding precision and recall\n",
    "from sklearn.metrics import precision_score, recall_score\n",
    "#precision_score(y_test, pred)\n",
    "print(\"Prescision : \" , precision_score(y_test, pred))\n",
    "print(\"Recall : \" , recall_score(y_test, pred))\n",
    "\n",
    "# To compute the F1 score, simply call the f1_score() function:\n",
    "from sklearn.metrics import f1_score\n",
    "print(\"F1 score : \" ,f1_score(y_test, pred))"
   ]
  },
  {
   "cell_type": "code",
   "execution_count": 88,
   "id": "e18e3773",
   "metadata": {},
   "outputs": [
    {
     "name": "stdout",
     "output_type": "stream",
     "text": [
      "[[1603   10]\n",
      " [  32  107]]\n",
      "Prescision :  0.9145299145299145\n",
      "Recall :  0.7697841726618705\n",
      "F1 score :  0.8359375\n"
     ]
    }
   ],
   "source": [
    "pred = clf_SVM.predict(X_test)\n",
    "\n",
    "from sklearn.metrics import confusion_matrix\n",
    "print(confusion_matrix(y_test, pred))\n",
    "\n",
    "# Finding precision and recall\n",
    "from sklearn.metrics import precision_score, recall_score\n",
    "#precision_score(y_test, pred)\n",
    "print(\"Prescision : \" , precision_score(y_test, pred))\n",
    "print(\"Recall : \" , recall_score(y_test, pred))\n",
    "\n",
    "# To compute the F1 score, simply call the f1_score() function:\n",
    "from sklearn.metrics import f1_score\n",
    "print(\"F1 score : \" ,f1_score(y_test, pred))"
   ]
  },
  {
   "cell_type": "code",
   "execution_count": 101,
   "id": "bf1a7a8b",
   "metadata": {},
   "outputs": [
    {
     "name": "stdout",
     "output_type": "stream",
     "text": [
      "[[1593   20]\n",
      " [  34  105]]\n",
      "Prescision :  0.84\n",
      "Recall :  0.7553956834532374\n",
      "F1 score :  0.7954545454545454\n"
     ]
    }
   ],
   "source": [
    "pred = clf_GBM.predict(X_test)\n",
    "\n",
    "from sklearn.metrics import confusion_matrix\n",
    "print(confusion_matrix(y_test, pred))\n",
    "\n",
    "# Finding precision and recall\n",
    "from sklearn.metrics import precision_score, recall_score\n",
    "#precision_score(y_test, pred)\n",
    "print(\"Prescision : \" , precision_score(y_test, pred))\n",
    "print(\"Recall : \" , recall_score(y_test, pred))\n",
    "\n",
    "# To compute the F1 score, simply call the f1_score() function:\n",
    "from sklearn.metrics import f1_score\n",
    "print(\"F1 score : \" ,f1_score(y_test, pred))"
   ]
  },
  {
   "cell_type": "code",
   "execution_count": null,
   "id": "f2ef2289",
   "metadata": {},
   "outputs": [],
   "source": [
    "Prescision :  0.9145299145299145\n",
    "Recall :  0.7697841726618705\n",
    "F1 score :  0.8359375"
   ]
  },
  {
   "cell_type": "code",
   "execution_count": 94,
   "id": "bcc99037",
   "metadata": {},
   "outputs": [],
   "source": [
    "from prettytable import PrettyTable\n",
    " \n",
    "# Specify the Column Names while initializing the Table\n",
    "myTable = PrettyTable([\"Model\", \"Precision\", \"Recall\", \"F1_score\"])\n",
    "\n",
    "\n",
    "myTable.add_row([\"DT\", \"0.91\" , \"0.76\" , \"0.83\"])\n",
    "myTable.add_row([\"RF\", \"0.91\",\"0.74\", \"0.82\"])\n",
    "myTable.add_row([\"Ada\",  \"0.92\",\" 0.76\", \" 0.83\"])\n",
    "myTable.add_row([\"SVM\", \"0.91\",\" 0.76\", \"0.83\"])\n",
    "myTable.add_row([\"GBM\",\"0.83\",\"0.74\", \"0.79\"])"
   ]
  },
  {
   "cell_type": "code",
   "execution_count": 95,
   "id": "cc7e45b2",
   "metadata": {},
   "outputs": [
    {
     "data": {
      "text/html": [
       "<table>\n",
       "    <thead>\n",
       "        <tr>\n",
       "            <th>Model</th>\n",
       "            <th>Site_Name</th>\n",
       "            <th>Precision</th>\n",
       "            <th>Recall</th>\n",
       "            <th>F1_score</th>\n",
       "        </tr>\n",
       "    </thead>\n",
       "    <tbody>\n",
       "        <tr>\n",
       "            <td>DT</td>\n",
       "            <td>Pastry</td>\n",
       "            <td>0.91</td>\n",
       "            <td>0.76</td>\n",
       "            <td>0.83</td>\n",
       "        </tr>\n",
       "        <tr>\n",
       "            <td>RF</td>\n",
       "            <td>Pastry</td>\n",
       "            <td>0.91</td>\n",
       "            <td>0.74</td>\n",
       "            <td>0.82</td>\n",
       "        </tr>\n",
       "        <tr>\n",
       "            <td>Ada</td>\n",
       "            <td>Pastry</td>\n",
       "            <td>0.92</td>\n",
       "            <td> 0.76</td>\n",
       "            <td> 0.83</td>\n",
       "        </tr>\n",
       "        <tr>\n",
       "            <td>SVM</td>\n",
       "            <td>Pastry</td>\n",
       "            <td>0.91</td>\n",
       "            <td> 0.76</td>\n",
       "            <td>0.83</td>\n",
       "        </tr>\n",
       "        <tr>\n",
       "            <td>GBM</td>\n",
       "            <td>Pastry</td>\n",
       "            <td>0.83</td>\n",
       "            <td>0.74</td>\n",
       "            <td>0.79</td>\n",
       "        </tr>\n",
       "    </tbody>\n",
       "</table>"
      ],
      "text/plain": [
       "+-------+-----------+-----------+--------+----------+\n",
       "| Model | Site_Name | Precision | Recall | F1_score |\n",
       "+-------+-----------+-----------+--------+----------+\n",
       "|   DT  |   Pastry  |    0.91   |  0.76  |   0.83   |\n",
       "|   RF  |   Pastry  |    0.91   |  0.74  |   0.82   |\n",
       "|  Ada  |   Pastry  |    0.92   |  0.76  |   0.83   |\n",
       "|  SVM  |   Pastry  |    0.91   |  0.76  |   0.83   |\n",
       "|  GBM  |   Pastry  |    0.83   |  0.74  |   0.79   |\n",
       "+-------+-----------+-----------+--------+----------+"
      ]
     },
     "execution_count": 95,
     "metadata": {},
     "output_type": "execute_result"
    }
   ],
   "source": [
    "myTable"
   ]
  },
  {
   "cell_type": "code",
   "execution_count": null,
   "id": "8e48325f",
   "metadata": {},
   "outputs": [],
   "source": []
  }
 ],
 "metadata": {
  "kernelspec": {
   "display_name": "Python 3 (ipykernel)",
   "language": "python",
   "name": "python3"
  },
  "language_info": {
   "codemirror_mode": {
    "name": "ipython",
    "version": 3
   },
   "file_extension": ".py",
   "mimetype": "text/x-python",
   "name": "python",
   "nbconvert_exporter": "python",
   "pygments_lexer": "ipython3",
   "version": "3.10.1"
  }
 },
 "nbformat": 4,
 "nbformat_minor": 5
}
