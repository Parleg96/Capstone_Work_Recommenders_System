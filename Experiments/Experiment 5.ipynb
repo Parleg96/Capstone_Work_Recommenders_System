{
 "cells": [
  {
   "cell_type": "code",
   "execution_count": 1,
   "id": "eb4769a6",
   "metadata": {},
   "outputs": [],
   "source": [
    "import requests\n",
    "from bs4 import BeautifulSoup\n",
    "import re\n",
    "import nltk\n",
    "import html2text\n",
    "import pandas as pd\n",
    "from nltk import word_tokenize, pos_tag\n",
    "from MyPackages import functions"
   ]
  },
  {
   "cell_type": "markdown",
   "id": "13a2a28f",
   "metadata": {},
   "source": [
    "##### 1 > train the model on data1 ,validate the model on the other data. \n",
    "    o/p table : \n",
    "    1c data 2c precisition 3c recall 4c no of 0's and no of 1's 5c f1 score\n",
    "##### 2 >train the models on 4 randomly choosen data collated together\n",
    "      use CV to choose appropriate hyperparameters\n",
    "      Test the model\n",
    "      1>on the remaining 4 data individually\n",
    "      2> on a single test data created by appending the 4 test data\n",
    "##### 3>Test the model on a dataset on gobi and chicken manchurian\n",
    "       \n",
    "       \n",
    "#### The model sequence\n",
    "     1>DT\n",
    "     2>RF\n",
    "     3>Adaboost\n",
    "     4>SVM\n",
    "     5>GBM"
   ]
  },
  {
   "cell_type": "code",
   "execution_count": 118,
   "id": "c98c02f3",
   "metadata": {},
   "outputs": [
    {
     "data": {
      "text/plain": [
       "'C:\\\\Users\\\\Priyanka G\\\\CAPSTONE_PROJECT_WORK(2022)'"
      ]
     },
     "execution_count": 118,
     "metadata": {},
     "output_type": "execute_result"
    }
   ],
   "source": [
    "import os\n",
    "os.getcwd()"
   ]
  },
  {
   "cell_type": "code",
   "execution_count": null,
   "id": "6e40fcdf",
   "metadata": {},
   "outputs": [],
   "source": []
  },
  {
   "cell_type": "markdown",
   "id": "d0c99f9d",
   "metadata": {},
   "source": [
    "    1>https://www.yummytummyaarthi.com/paneer-manchurian-recipe-how-to-make/\n",
    "    2>https://www.vegrecipesofindia.com/paneer-manchurian-dry-recipe/\n",
    "    3>https://www.indianhealthyrecipes.com/paneer-manchurian-recipe/\n",
    "    4>https://hebbarskitchen.com/paneer-manchurian-dry-recipe/\n",
    "    5>https://foodviva.com/chinese-recipes/paneer-manchurian-recipe/\n",
    "    6>https://www.mydelicious-recipes.com/recipedetail/dry-paneer-manchurian\n",
    "    7>https://www.tarladalal.com/paneer-in-manchurian-sauce-86r\n",
    "    8>https://www.awesomecuisine.com/recipes/725/paneer-manchurian/\n",
    "\n"
   ]
  },
  {
   "cell_type": "markdown",
   "id": "2f962984",
   "metadata": {},
   "source": [
    "## Function1 - WorkFlow\n",
    "\n",
    "#####    1>Takes the url of the website as the argument \n",
    "#####     2>Extracts the text format of the raw html file  \n",
    "#####     3>Data cleanning and preprocessing \n",
    "#####     4>Split sentence on the basis of \\n encounter \n",
    "#####     5>Arrange all the sentence along with the no of \\n in each    \n",
    "#####     6>Create a text file containing the cleanned text\n",
    "#####     7>Return the list of cleanned string \n",
    "\n"
   ]
  },
  {
   "cell_type": "code",
   "execution_count": 2,
   "id": "6676c7d1",
   "metadata": {},
   "outputs": [],
   "source": [
    "def function1(url):\n",
    "    \n",
    "    ## Data extraction in the text format\n",
    "    r2 = requests.get(url).text\n",
    "    h = html2text.HTML2Text()\n",
    "    # Ignore converting links from HTML\n",
    "    h.ignore_links = True\n",
    "    result = h.handle(r2)\n",
    "    #result\n",
    "    result =result.replace(\".\",\"\")\n",
    "    \n",
    "    ### Data cleanning and preprocessing\n",
    "    r=[]\n",
    "    from nltk.tokenize import sent_tokenize\n",
    "    sent_tokenize=sent_tokenize(result)\n",
    "    for i in range(len(sent_tokenize)):\n",
    "            sent_tokenize[i] = sent_tokenize[i].lower() \n",
    "            sent_tokenize[i] = re.sub(r'[^a-zA-Z0-9\\n/]+',\" \",sent_tokenize[i])\n",
    "            #sent_tokenize[i] = re.sub(r\"[▢,#,*,%,!,$,),},?,-,@,:,{,;,=,&,+,_,[,x,(,',<,>,~,`,^,|,▼]\",\"\",sent_tokenize[i])\n",
    "            #sent_tokenize[i] = re.sub(r\"['»']\",\"\",sent_tokenize[i])\n",
    "            #sent_tokenize[i] = re.sub(r\"-\",\"\",sent_tokenize[i])\n",
    "            #sent_tokenize[i] = re.sub(r\"]\",\"\",sent_tokenize[i])\n",
    "            #sent_tokenize[i] = re.sub(r\"['\\']\",\"\",sent_tokenize[i])\n",
    "\n",
    "    ### remove the additional spaces         \n",
    "    for i in sent_tokenize:\n",
    "        r.append(i.strip())\n",
    "    fr = list(filter(lambda item: item.strip(), r))\n",
    "    #fr\n",
    "    \n",
    "    ###splitting the sentence on the basis of \\n\n",
    "    w=[]\n",
    "    for n in range(len(fr)):\n",
    "        w.append(fr[n].splitlines(True))\n",
    "\n",
    "    ##flattening the list\n",
    "    f = [item for sublist in w for item in sublist]\n",
    "    #f\n",
    "    \n",
    "    ###condition checking for retaining all the \\n in the respective sentences\n",
    "    o=[]\n",
    "    for i in range(len(f)):\n",
    "        if i != len(f)-1:\n",
    "            if (f[i] != '\\n' and f[i+1] == '\\n' and f[i+2] == '\\n' and f[i+3] == '\\n'):\n",
    "                s1=f[i]\n",
    "                s2=f[i+1]\n",
    "                s3=f[i+2]\n",
    "                s4=f[i+3]\n",
    "                tu=s1+s2+s3+s4\n",
    "                tu=tu.lstrip()\n",
    "                o.append(tu)\n",
    "            elif (f[i] != '\\n' and f[i+1] == '\\n' and f[i+2] == '\\n'):\n",
    "                s1=f[i]\n",
    "                s2=f[i+1]\n",
    "                s3=f[i+2]\n",
    "                tu=s1+s2+s3\n",
    "                tu=tu.lstrip()\n",
    "                o.append(tu)\n",
    "            elif (f[i] != '\\n' and f[i+1] == '\\n'):\n",
    "                s1=f[i]\n",
    "                s2=f[i+1]\n",
    "                tu=s1+s2\n",
    "                tu=tu.lstrip()\n",
    "                o.append(tu)\n",
    "            elif f[i] != '\\n':\n",
    "                f[i] = f[i].lstrip()\n",
    "                o.append(f[i])\n",
    "       \n",
    "    ##remove all the empty strings\n",
    "    while(\"\" in o) :\n",
    "        o.remove(\"\")\n",
    "  \n",
    "    with open ('sample_dish.txt', 'w', encoding=\"utf-8\") as f:\n",
    "        for i in o:\n",
    "            f.write(i)\n",
    "\n",
    "    ##return the final list o\n",
    "    return o"
   ]
  },
  {
   "cell_type": "code",
   "execution_count": null,
   "id": "c802caef",
   "metadata": {},
   "outputs": [],
   "source": []
  },
  {
   "cell_type": "markdown",
   "id": "6774a3e6",
   "metadata": {},
   "source": [
    "## Function2 - WorkFlow\n",
    "\n",
    "#####    1>Takes the cleanned string \n",
    "#####     2>Count of the no of \\n in each sentence  \n",
    "#####     3>Append the count to each sentence\n",
    "#####     4>Create a list of no of \\n before each sentence\n",
    "#####     5>creates dataframe with 3 columns  1:cleaned sstring without \\n  2:no of \\n's after sentence  3:no of \\n before sentence \n",
    "#####     6>creates a csv file\n"
   ]
  },
  {
   "cell_type": "code",
   "execution_count": 3,
   "id": "78ba9392",
   "metadata": {},
   "outputs": [],
   "source": [
    "def function2(cleanned_string):\n",
    "    \n",
    "    ## creating a list of no of \\n after each sentence\n",
    "    length=[]\n",
    "    for i in range(len(cleanned_string)):\n",
    "         length.append(len(re.findall('\\n',cleanned_string[i])))\n",
    "    \n",
    "    ## creating list of of no of \\n before each sentence\n",
    "    l2=[0]\n",
    "    for i in range(len(length)):\n",
    "        l2.append(length[i])\n",
    "    l2.pop(-1)\n",
    "\n",
    "    for i in range(len(cleanned_string)):\n",
    "            cleanned_string[i] = re.sub(r'\\n',\" \",cleanned_string[i])\n",
    "            cleanned_string[i] = cleanned_string[i].strip()\n",
    "        \n",
    "    ## list of the sentence and the count \n",
    "    monk = []\n",
    "    count= 0\n",
    "    for data in cleanned_string:\n",
    "        monk.append(  [data,length[count]]  )\n",
    "        count = count + 1\n",
    "        \n",
    "    ##creating dataframe with 3 columns\n",
    "    df = pd.DataFrame(monk)\n",
    "    df['Sentence']=df[0]\n",
    "    df['newline_after'] = df[1]\n",
    "    df['newline_before'] = l2\n",
    "    \n",
    "    \n",
    "    df['nwords'] = word_count(cleanned_string)\n",
    "    df['numbers'] =digit_present(cleanned_string)\n",
    "    df['nnumbers'] = digit_count(cleanned_string)\n",
    "    df['nnouns'] = n_count(cleanned_string)\n",
    "    df['nverbs'] = v_count(cleanned_string)\n",
    "    df['nunits '] = unit_count(cleanned_string)\n",
    "    \n",
    "    df1 = df.drop([0,1], axis = 1)\n",
    "\n",
    "\n",
    "    ## creating the csv file\n",
    "    df1.to_csv('monk.csv',index = False)"
   ]
  },
  {
   "cell_type": "code",
   "execution_count": 13,
   "id": "ce182088",
   "metadata": {},
   "outputs": [],
   "source": [
    "### function call\n",
    "function2(function1('https://www.indianhealthyrecipes.com/chicken-manchurian-recipe/'))"
   ]
  },
  {
   "cell_type": "code",
   "execution_count": null,
   "id": "825e7fea",
   "metadata": {},
   "outputs": [],
   "source": []
  },
  {
   "cell_type": "code",
   "execution_count": null,
   "id": "cc3bfd37",
   "metadata": {},
   "outputs": [],
   "source": [
    "1>https://www.yummytummyaarthi.com/paneer-manchurian-recipe-how-to-make/\n",
    "2>https://www.vegrecipesofindia.com/paneer-manchurian-dry-recipe/\n",
    "3>https://www.indianhealthyrecipes.com/paneer-manchurian-recipe/\n",
    "4>https://hebbarskitchen.com/paneer-manchurian-dry-recipe/\n",
    "5>https://foodviva.com/chinese-recipes/paneer-manchurian-recipe/\n",
    "6>https://www.mydelicious-recipes.com/recipedetail/dry-paneer-manchurian\n",
    "7>https://www.tarladalal.com/paneer-in-manchurian-sauce-86r\n",
    "8>https://www.awesomecuisine.com/recipes/725/paneer-manchurian/"
   ]
  },
  {
   "cell_type": "code",
   "execution_count": null,
   "id": "f4d48df8",
   "metadata": {},
   "outputs": [],
   "source": []
  },
  {
   "cell_type": "markdown",
   "id": "ad54fa35",
   "metadata": {},
   "source": [
    "Create features like  ------- individual functions for each. input-> los output->list\n",
    "\n",
    "1. Count of words\n",
    "2. Presence of numbers    \n",
    "3. Count of numbers\n",
    "4. Count of nouns \n",
    "5. Count of units (create a dictionary of units like tsp, tbsp, etc.)"
   ]
  },
  {
   "cell_type": "markdown",
   "id": "f35eb4bb",
   "metadata": {},
   "source": [
    "## Count of words"
   ]
  },
  {
   "cell_type": "code",
   "execution_count": 4,
   "id": "b2d5d06e",
   "metadata": {},
   "outputs": [],
   "source": [
    "def word_count(list):\n",
    "    word_count=[]\n",
    "    for i in list:\n",
    "        word_count.append(str(len(i.split())))\n",
    "    return  word_count"
   ]
  },
  {
   "cell_type": "markdown",
   "id": "f3d92043",
   "metadata": {},
   "source": [
    "## Presence of numbers"
   ]
  },
  {
   "cell_type": "code",
   "execution_count": 5,
   "id": "5e372dfa",
   "metadata": {},
   "outputs": [],
   "source": [
    "def hasNumber(stringVal):\n",
    "    re_numbers = re.compile('\\d')\n",
    "    return 0 if (re_numbers.search(stringVal) == None) else 1\n",
    "def digit_present(list):\n",
    "    digit_present=[]\n",
    "    for i in list:\n",
    "        digit_present.append(hasNumber(i))\n",
    "    return digit_present\n",
    "    "
   ]
  },
  {
   "cell_type": "markdown",
   "id": "140f86f8",
   "metadata": {},
   "source": [
    "## Count of numbers"
   ]
  },
  {
   "cell_type": "code",
   "execution_count": 6,
   "id": "6129aa1d",
   "metadata": {},
   "outputs": [],
   "source": [
    "def digit_count(list):\n",
    "    digit_count=[]\n",
    "    for i in list:\n",
    "        digit_count.append(sum(c.isdigit() for c in i))\n",
    "    return digit_count"
   ]
  },
  {
   "cell_type": "markdown",
   "id": "2ecd178a",
   "metadata": {},
   "source": [
    "## Count of nouns"
   ]
  },
  {
   "cell_type": "code",
   "execution_count": 7,
   "id": "ea955cde",
   "metadata": {},
   "outputs": [],
   "source": [
    "def n_count(list):\n",
    "    n_count=[]\n",
    "    for i in list:\n",
    "        n_count.append(sum(1 for word, pos in pos_tag(word_tokenize(i)) if pos.startswith(\"NN\")))\n",
    "    return  n_count"
   ]
  },
  {
   "cell_type": "markdown",
   "id": "23664461",
   "metadata": {},
   "source": [
    "## Count of nouns"
   ]
  },
  {
   "cell_type": "code",
   "execution_count": 8,
   "id": "7abae403",
   "metadata": {},
   "outputs": [],
   "source": [
    "def v_count(list):\n",
    "    v_count=[]\n",
    "    for i in list:\n",
    "        v_count.append(sum(1 for word, pos in pos_tag(word_tokenize(i)) if pos.startswith(\"VB\")))\n",
    "    return  v_count"
   ]
  },
  {
   "cell_type": "markdown",
   "id": "4a21c964",
   "metadata": {},
   "source": [
    "## Count of units (create a dictionary of units like tsp, tbsp, etc.)"
   ]
  },
  {
   "cell_type": "code",
   "execution_count": 9,
   "id": "d99993d3",
   "metadata": {},
   "outputs": [],
   "source": [
    "def unit_count(list):\n",
    "    unit_count=[]\n",
    "    measure_dict  = [\"teaspoon\",\"tablespoon\",\"tablespoons\",\"tblspn\",\"inch\",\"cups\",\"cup\",\"tbsps\",\"tbsp\",\"tsp\",\"slices\",\"slice\",\"grams\",\"litre\",\"litres\",\"medium\",\"small\"]\n",
    "    for data in list:\n",
    "        for sent in measure_dict :\n",
    "            c =  0\n",
    "            if sent in data:\n",
    "                c = 1\n",
    "                break\n",
    "        unit_count.append(c)\n",
    "    return unit_count\n"
   ]
  },
  {
   "cell_type": "code",
   "execution_count": null,
   "id": "248e1c45",
   "metadata": {},
   "outputs": [],
   "source": []
  },
  {
   "cell_type": "code",
   "execution_count": null,
   "id": "e81eab7b",
   "metadata": {},
   "outputs": [],
   "source": []
  }
 ],
 "metadata": {
  "kernelspec": {
   "display_name": "Python 3 (ipykernel)",
   "language": "python",
   "name": "python3"
  },
  "language_info": {
   "codemirror_mode": {
    "name": "ipython",
    "version": 3
   },
   "file_extension": ".py",
   "mimetype": "text/x-python",
   "name": "python",
   "nbconvert_exporter": "python",
   "pygments_lexer": "ipython3",
   "version": "3.10.1"
  }
 },
 "nbformat": 4,
 "nbformat_minor": 5
}
