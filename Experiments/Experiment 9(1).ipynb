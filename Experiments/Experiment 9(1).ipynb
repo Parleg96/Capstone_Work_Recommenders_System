{
 "cells": [
  {
   "cell_type": "code",
   "execution_count": 1,
   "id": "2bea76a4",
   "metadata": {},
   "outputs": [
    {
     "data": {
      "text/plain": [
       "'C:\\\\Users\\\\Priyanka G\\\\CAPSTONE_PROJECT_WORK(2022)\\\\cake'"
      ]
     },
     "execution_count": 1,
     "metadata": {},
     "output_type": "execute_result"
    }
   ],
   "source": [
    "import os\n",
    "os.getcwd()"
   ]
  },
  {
   "cell_type": "code",
   "execution_count": 2,
   "id": "330744ee",
   "metadata": {},
   "outputs": [],
   "source": [
    "os.chdir('C:\\\\Users\\\\Priyanka G\\\\CAPSTONE_PROJECT_WORK(2022)\\\\cake')"
   ]
  },
  {
   "cell_type": "code",
   "execution_count": 3,
   "id": "e9b4fdfe",
   "metadata": {},
   "outputs": [],
   "source": [
    "import os\n",
    "import pandas as pd\n",
    "import numpy as np\n",
    "import matplotlib.pyplot as plt\n",
    "from sklearn.tree import  DecisionTreeClassifier\n",
    "import sklearn.ensemble as ensemble\n",
    "from sklearn.ensemble import AdaBoostClassifier\n",
    "from sklearn import svm\n",
    "from sklearn.ensemble import GradientBoostingClassifier"
   ]
  },
  {
   "cell_type": "code",
   "execution_count": 5,
   "id": "e11605bc",
   "metadata": {},
   "outputs": [],
   "source": [
    "from sklearn.datasets import make_classification\n",
    "from imblearn.over_sampling import RandomOverSampler\n",
    "from imblearn.under_sampling import RandomUnderSampler\n",
    "from collections import Counter\n"
   ]
  },
  {
   "cell_type": "markdown",
   "id": "e758d66c",
   "metadata": {},
   "source": [
    "#### brownie , cheesecake ,teacake, fruit pastry , cupcake\n",
    "\n",
    "#### total 48 files 70% of which is 34 is for training and 14 is for validation\n"
   ]
  },
  {
   "cell_type": "markdown",
   "id": "5d9c49cb",
   "metadata": {},
   "source": [
    "### Brownie - 3 , 3 , 4 "
   ]
  },
  {
   "cell_type": "code",
   "execution_count": 6,
   "id": "5037bf74",
   "metadata": {},
   "outputs": [],
   "source": [
    "os.chdir('C:\\\\Users\\\\Priyanka G\\\\CAPSTONE_PROJECT_WORK(2022)\\\\cake\\\\brownie\\\\oreo')"
   ]
  },
  {
   "cell_type": "code",
   "execution_count": 7,
   "id": "9aabeaa8",
   "metadata": {},
   "outputs": [],
   "source": [
    "bo1 = pd.read_csv('s1.csv')\n",
    "bo3 = pd.read_csv('s3.csv')\n",
    "bo4 = pd.read_csv('s4.csv')\n"
   ]
  },
  {
   "cell_type": "code",
   "execution_count": 8,
   "id": "52527e06",
   "metadata": {},
   "outputs": [],
   "source": [
    "os.chdir('C:\\\\Users\\\\Priyanka G\\\\CAPSTONE_PROJECT_WORK(2022)\\\\cake\\\\brownie\\\\snicker')"
   ]
  },
  {
   "cell_type": "code",
   "execution_count": 9,
   "id": "b83750b1",
   "metadata": {},
   "outputs": [],
   "source": [
    "bs1 = pd.read_csv('s1.csv')\n",
    "bs2 = pd.read_csv('s2.csv')\n",
    "bs4 = pd.read_csv('s4.csv')\n"
   ]
  },
  {
   "cell_type": "code",
   "execution_count": 10,
   "id": "b253724a",
   "metadata": {},
   "outputs": [],
   "source": [
    "os.chdir('C:\\\\Users\\\\Priyanka G\\\\CAPSTONE_PROJECT_WORK(2022)\\\\cake\\\\brownie\\\\swiss')"
   ]
  },
  {
   "cell_type": "code",
   "execution_count": 11,
   "id": "eadc3151",
   "metadata": {},
   "outputs": [],
   "source": [
    "bsw1 = pd.read_csv('s1.csv')\n",
    "bsw2 = pd.read_csv('s2.csv')\n",
    "bsw3 = pd.read_csv('s3.csv')\n",
    "bsw4 = pd.read_csv('s4.csv')"
   ]
  },
  {
   "cell_type": "markdown",
   "id": "57926802",
   "metadata": {},
   "source": [
    "### Cheesecake 3,3,4"
   ]
  },
  {
   "cell_type": "code",
   "execution_count": 12,
   "id": "e1879108",
   "metadata": {},
   "outputs": [],
   "source": [
    "os.chdir('C:\\\\Users\\\\Priyanka G\\\\CAPSTONE_PROJECT_WORK(2022)\\\\cake\\\\cheesecake\\\\blueberry')"
   ]
  },
  {
   "cell_type": "code",
   "execution_count": 13,
   "id": "43781007",
   "metadata": {},
   "outputs": [],
   "source": [
    "cb1 = pd.read_csv('s1.csv')\n",
    "cb3 = pd.read_csv('s3.csv')\n",
    "cb4 = pd.read_csv('s4.csv')\n"
   ]
  },
  {
   "cell_type": "code",
   "execution_count": 14,
   "id": "2b8b417b",
   "metadata": {},
   "outputs": [],
   "source": [
    "os.chdir('C:\\\\Users\\\\Priyanka G\\\\CAPSTONE_PROJECT_WORK(2022)\\\\cake\\\\cheesecake\\\\newyork')"
   ]
  },
  {
   "cell_type": "code",
   "execution_count": 15,
   "id": "4ad1d6aa",
   "metadata": {},
   "outputs": [],
   "source": [
    "cy1 = pd.read_csv('s1.csv')\n",
    "cy2 = pd.read_csv('s2.csv')\n",
    "cy3 = pd.read_csv('s3.csv')\n"
   ]
  },
  {
   "cell_type": "code",
   "execution_count": 16,
   "id": "077140bb",
   "metadata": {},
   "outputs": [],
   "source": [
    "os.chdir('C:\\\\Users\\\\Priyanka G\\\\CAPSTONE_PROJECT_WORK(2022)\\\\cake\\\\cheesecake\\\\redvelvet')"
   ]
  },
  {
   "cell_type": "code",
   "execution_count": 17,
   "id": "b09e56d9",
   "metadata": {},
   "outputs": [],
   "source": [
    "cv1 = pd.read_csv('s1.csv')\n",
    "cv2 = pd.read_csv('s2.csv')\n",
    "cv3 = pd.read_csv('s3.csv')\n",
    "cv4 = pd.read_csv('s4.csv')"
   ]
  },
  {
   "cell_type": "markdown",
   "id": "35c81987",
   "metadata": {},
   "source": [
    "### Teacake 3,3,3,4"
   ]
  },
  {
   "cell_type": "code",
   "execution_count": 18,
   "id": "5037804a",
   "metadata": {},
   "outputs": [],
   "source": [
    "os.chdir('C:\\\\Users\\\\Priyanka G\\\\CAPSTONE_PROJECT_WORK(2022)\\\\cake\\\\teacake\\\\banana')"
   ]
  },
  {
   "cell_type": "code",
   "execution_count": 19,
   "id": "27d3fd92",
   "metadata": {},
   "outputs": [],
   "source": [
    "tb1 = pd.read_csv('s1.csv')\n",
    "tb3 = pd.read_csv('s3.csv')\n",
    "tb4 = pd.read_csv('s4.csv')\n"
   ]
  },
  {
   "cell_type": "code",
   "execution_count": 20,
   "id": "a48ed3d1",
   "metadata": {},
   "outputs": [],
   "source": [
    "os.chdir('C:\\\\Users\\\\Priyanka G\\\\CAPSTONE_PROJECT_WORK(2022)\\\\cake\\\\teacake\\\\cottagecheese')"
   ]
  },
  {
   "cell_type": "code",
   "execution_count": 21,
   "id": "8631649b",
   "metadata": {},
   "outputs": [],
   "source": [
    "tcc2 = pd.read_csv('s2.csv')\n",
    "tcc3 = pd.read_csv('s3.csv')\n",
    "tcc4 = pd.read_csv('s4.csv')\n"
   ]
  },
  {
   "cell_type": "code",
   "execution_count": 22,
   "id": "ca60434e",
   "metadata": {},
   "outputs": [],
   "source": [
    "os.chdir('C:\\\\Users\\\\Priyanka G\\\\CAPSTONE_PROJECT_WORK(2022)\\\\cake\\\\teacake\\\\irish')"
   ]
  },
  {
   "cell_type": "code",
   "execution_count": 23,
   "id": "008626ac",
   "metadata": {},
   "outputs": [],
   "source": [
    "ti1 = pd.read_csv('s1.csv')\n",
    "ti3 = pd.read_csv('s3.csv')\n",
    "ti4 = pd.read_csv('s4.csv')\n"
   ]
  },
  {
   "cell_type": "code",
   "execution_count": 24,
   "id": "475a876a",
   "metadata": {},
   "outputs": [],
   "source": [
    "os.chdir('C:\\\\Users\\\\Priyanka G\\\\CAPSTONE_PROJECT_WORK(2022)\\\\cake\\\\teacake\\\\pina colada')"
   ]
  },
  {
   "cell_type": "code",
   "execution_count": 25,
   "id": "63669a15",
   "metadata": {},
   "outputs": [],
   "source": [
    "tp1 = pd.read_csv('s1.csv')\n",
    "tp2 = pd.read_csv('s2.csv')\n",
    "tp3 = pd.read_csv('s3.csv')\n",
    "tp4 = pd.read_csv('s4.csv')"
   ]
  },
  {
   "cell_type": "markdown",
   "id": "ec6e1a3f",
   "metadata": {},
   "source": [
    "### Fruit pastry 1 "
   ]
  },
  {
   "cell_type": "code",
   "execution_count": 26,
   "id": "a665d848",
   "metadata": {},
   "outputs": [],
   "source": [
    "os.chdir('C:\\\\Users\\\\Priyanka G\\\\CAPSTONE_PROJECT_WORK(2022)\\\\cake\\\\fruitpastry\\\\blueberry')"
   ]
  },
  {
   "cell_type": "code",
   "execution_count": 27,
   "id": "0e68a820",
   "metadata": {},
   "outputs": [],
   "source": [
    "fpb1 = pd.read_csv('s1.csv')"
   ]
  },
  {
   "cell_type": "markdown",
   "id": "69275beb",
   "metadata": {},
   "source": [
    "### training data total 34 "
   ]
  },
  {
   "cell_type": "code",
   "execution_count": 28,
   "id": "27cb006c",
   "metadata": {},
   "outputs": [],
   "source": [
    "data = pd.concat([bo1,bo3,bo4,bs1,bs2,bs4,bsw1,bsw2,bsw3,bsw4,cb1,cb3,cb4,cy1,cy2,cy3,cv1,cv2,cv3,cv4,tb1,tb3,tb4,tcc2,tcc3,tcc4,ti1,ti3,ti4,tp1,tp2,tp3,tp4,fpb1],axis=0)"
   ]
  },
  {
   "cell_type": "code",
   "execution_count": 29,
   "id": "5b7b4e30",
   "metadata": {},
   "outputs": [
    {
     "data": {
      "text/plain": [
       "(22548, 10)"
      ]
     },
     "execution_count": 29,
     "metadata": {},
     "output_type": "execute_result"
    }
   ],
   "source": [
    "data.shape"
   ]
  },
  {
   "cell_type": "code",
   "execution_count": 78,
   "id": "4f273f6f",
   "metadata": {},
   "outputs": [
    {
     "data": {
      "text/plain": [
       "pandas.core.frame.DataFrame"
      ]
     },
     "execution_count": 78,
     "metadata": {},
     "output_type": "execute_result"
    }
   ],
   "source": [
    "type(data)"
   ]
  },
  {
   "cell_type": "code",
   "execution_count": 30,
   "id": "6914593d",
   "metadata": {},
   "outputs": [
    {
     "data": {
      "text/plain": [
       "Index(['Sentence', 'newline_after', 'newline_before', 'nwords', 'numbers',\n",
       "       'nnumbers', 'nnouns', 'nverbs', 'nunits ', 'label'],\n",
       "      dtype='object')"
      ]
     },
     "execution_count": 30,
     "metadata": {},
     "output_type": "execute_result"
    }
   ],
   "source": [
    "data.columns"
   ]
  },
  {
   "cell_type": "code",
   "execution_count": 31,
   "id": "a3eb72cf",
   "metadata": {},
   "outputs": [],
   "source": [
    "#data.to_csv('file1.csv')"
   ]
  },
  {
   "cell_type": "code",
   "execution_count": 32,
   "id": "025f4de3",
   "metadata": {},
   "outputs": [],
   "source": [
    "data = data.loc[data.nwords > 2, :]\n",
    "data = data.loc[data.nnumbers <= 3, :]\n",
    "data = data.loc[data.nwords <= 10, :]"
   ]
  },
  {
   "cell_type": "code",
   "execution_count": 33,
   "id": "7f502858",
   "metadata": {},
   "outputs": [],
   "source": [
    "data = data.drop([\"Sentence\"],axis=1)"
   ]
  },
  {
   "cell_type": "code",
   "execution_count": 34,
   "id": "b5da4bc0",
   "metadata": {},
   "outputs": [],
   "source": [
    "X = data.drop(\"label\",axis=1)\n",
    "y = data.label"
   ]
  },
  {
   "cell_type": "code",
   "execution_count": null,
   "id": "022e4634",
   "metadata": {},
   "outputs": [],
   "source": []
  },
  {
   "cell_type": "code",
   "execution_count": 35,
   "id": "37ec7b8b",
   "metadata": {},
   "outputs": [
    {
     "data": {
      "text/plain": [
       "(7900, 8)"
      ]
     },
     "execution_count": 35,
     "metadata": {},
     "output_type": "execute_result"
    }
   ],
   "source": [
    "X.shape"
   ]
  },
  {
   "cell_type": "code",
   "execution_count": 36,
   "id": "9cc6cbf7",
   "metadata": {},
   "outputs": [
    {
     "data": {
      "text/plain": [
       "(7900,)"
      ]
     },
     "execution_count": 36,
     "metadata": {},
     "output_type": "execute_result"
    }
   ],
   "source": [
    "y.shape"
   ]
  },
  {
   "cell_type": "markdown",
   "id": "56519312",
   "metadata": {},
   "source": [
    "## Hyperparameter tuning"
   ]
  },
  {
   "cell_type": "markdown",
   "id": "3f17a63a",
   "metadata": {},
   "source": [
    "### 1. Decision Tree"
   ]
  },
  {
   "cell_type": "code",
   "execution_count": 45,
   "id": "6a25f034",
   "metadata": {},
   "outputs": [],
   "source": [
    "from sklearn import decomposition, datasets\n",
    "from sklearn import tree\n",
    "from sklearn.pipeline import Pipeline\n",
    "from sklearn.model_selection import GridSearchCV\n",
    "from sklearn.preprocessing import StandardScaler"
   ]
  },
  {
   "cell_type": "code",
   "execution_count": 46,
   "id": "b3a4fecb",
   "metadata": {},
   "outputs": [],
   "source": [
    "from sklearn import tree\n",
    "from sklearn.model_selection import GridSearchCV\n",
    "estimator =tree.DecisionTreeClassifier()\n",
    "   "
   ]
  },
  {
   "cell_type": "code",
   "execution_count": 47,
   "id": "efba6b0e",
   "metadata": {},
   "outputs": [],
   "source": [
    "std_slc = StandardScaler()\n",
    "pca = decomposition.PCA()\n",
    "pipe = Pipeline(steps=[('std_slc', std_slc),\n",
    "                           ('pca', pca),\n",
    "                           ('dec_tree', estimator)])\n",
    "n_components = list(range(1,X.shape[1]+1,1))\n",
    "criterion = ['gini', 'entropy']\n",
    "max_depth = [2,4,6,8,10,12]\n",
    "parameters = dict(pca__n_components=n_components,\n",
    "                      dec_tree__criterion=criterion,\n",
    "                      dec_tree__max_depth=max_depth)"
   ]
  },
  {
   "cell_type": "code",
   "execution_count": 48,
   "id": "974ff58a",
   "metadata": {},
   "outputs": [
    {
     "data": {
      "text/plain": [
       "GridSearchCV(estimator=Pipeline(steps=[('std_slc', StandardScaler()),\n",
       "                                       ('pca', PCA()),\n",
       "                                       ('dec_tree', DecisionTreeClassifier())]),\n",
       "             param_grid={'dec_tree__criterion': ['gini', 'entropy'],\n",
       "                         'dec_tree__max_depth': [2, 4, 6, 8, 10, 12],\n",
       "                         'pca__n_components': [1, 2, 3, 4, 5, 6, 7, 8]})"
      ]
     },
     "execution_count": 48,
     "metadata": {},
     "output_type": "execute_result"
    }
   ],
   "source": [
    "clf_GS = GridSearchCV(pipe, parameters)\n",
    "clf_GS.fit(X, y)"
   ]
  },
  {
   "cell_type": "code",
   "execution_count": 49,
   "id": "17d05aa0",
   "metadata": {},
   "outputs": [
    {
     "data": {
      "text/plain": [
       "{'memory': None,\n",
       " 'steps': [('std_slc', StandardScaler()),\n",
       "  ('pca', PCA(n_components=6)),\n",
       "  ('dec_tree', DecisionTreeClassifier(max_depth=10))],\n",
       " 'verbose': False,\n",
       " 'std_slc': StandardScaler(),\n",
       " 'pca': PCA(n_components=6),\n",
       " 'dec_tree': DecisionTreeClassifier(max_depth=10),\n",
       " 'std_slc__copy': True,\n",
       " 'std_slc__with_mean': True,\n",
       " 'std_slc__with_std': True,\n",
       " 'pca__copy': True,\n",
       " 'pca__iterated_power': 'auto',\n",
       " 'pca__n_components': 6,\n",
       " 'pca__random_state': None,\n",
       " 'pca__svd_solver': 'auto',\n",
       " 'pca__tol': 0.0,\n",
       " 'pca__whiten': False,\n",
       " 'dec_tree__ccp_alpha': 0.0,\n",
       " 'dec_tree__class_weight': None,\n",
       " 'dec_tree__criterion': 'gini',\n",
       " 'dec_tree__max_depth': 10,\n",
       " 'dec_tree__max_features': None,\n",
       " 'dec_tree__max_leaf_nodes': None,\n",
       " 'dec_tree__min_impurity_decrease': 0.0,\n",
       " 'dec_tree__min_samples_leaf': 1,\n",
       " 'dec_tree__min_samples_split': 2,\n",
       " 'dec_tree__min_weight_fraction_leaf': 0.0,\n",
       " 'dec_tree__random_state': None,\n",
       " 'dec_tree__splitter': 'best'}"
      ]
     },
     "execution_count": 49,
     "metadata": {},
     "output_type": "execute_result"
    }
   ],
   "source": [
    "clf_GS.best_estimator_.get_params()"
   ]
  },
  {
   "cell_type": "code",
   "execution_count": 50,
   "id": "5736a947",
   "metadata": {},
   "outputs": [
    {
     "data": {
      "text/plain": [
       "DecisionTreeClassifier(max_depth=10)"
      ]
     },
     "execution_count": 50,
     "metadata": {},
     "output_type": "execute_result"
    }
   ],
   "source": [
    "model_DT=DecisionTreeClassifier( max_depth=10, min_samples_leaf=1)\n",
    "model_DT.fit(X,y)"
   ]
  },
  {
   "cell_type": "markdown",
   "id": "2ba26042",
   "metadata": {},
   "source": [
    "### 2.Random Forest"
   ]
  },
  {
   "cell_type": "code",
   "execution_count": 51,
   "id": "ef411146",
   "metadata": {},
   "outputs": [
    {
     "data": {
      "text/plain": [
       "RandomForestClassifier(max_features=0.5, n_estimators=50, oob_score=True)"
      ]
     },
     "execution_count": 51,
     "metadata": {},
     "output_type": "execute_result"
    }
   ],
   "source": [
    "randomForest = ensemble.RandomForestClassifier(n_estimators=50,max_features=0.5,oob_score=True)\n",
    "randomForest.fit(X,y)"
   ]
  },
  {
   "cell_type": "code",
   "execution_count": 52,
   "id": "d3bfea05",
   "metadata": {},
   "outputs": [
    {
     "data": {
      "text/plain": [
       "DecisionTreeClassifier()"
      ]
     },
     "execution_count": 52,
     "metadata": {},
     "output_type": "execute_result"
    }
   ],
   "source": [
    "randomForest.base_estimator_"
   ]
  },
  {
   "cell_type": "code",
   "execution_count": 53,
   "id": "242b2274",
   "metadata": {},
   "outputs": [
    {
     "data": {
      "text/plain": [
       "0.9821518987341772"
      ]
     },
     "execution_count": 53,
     "metadata": {},
     "output_type": "execute_result"
    }
   ],
   "source": [
    "randomForest.oob_score_"
   ]
  },
  {
   "cell_type": "code",
   "execution_count": 54,
   "id": "1d279610",
   "metadata": {},
   "outputs": [],
   "source": [
    "from sklearn.model_selection import GridSearchCV\n",
    "estimator = ensemble.RandomForestClassifier()"
   ]
  },
  {
   "cell_type": "code",
   "execution_count": 55,
   "id": "0d031f82",
   "metadata": {},
   "outputs": [
    {
     "data": {
      "text/plain": [
       "GridSearchCV(cv=5, estimator=RandomForestClassifier(), n_jobs=-1,\n",
       "             param_grid={'max_features': ['auto', 'sqrt', 'log2', 0.1, 0.2, 0.3,\n",
       "                                          0.4, 0.5, 0.6, 0.7, 0.8, 0.9],\n",
       "                         'min_samples_split': [2, 4, 8],\n",
       "                         'n_estimators': [10, 20, 30, 40, 50, 60]})"
      ]
     },
     "execution_count": 55,
     "metadata": {},
     "output_type": "execute_result"
    }
   ],
   "source": [
    "param_grid = { \n",
    "            \"n_estimators\"      : [10,20,30,40,50,60],\n",
    "            \"max_features\"      : [\"auto\", \"sqrt\", \"log2\",0.1,0.2,0.3,0.4,0.5,0.6,0.7,0.8,0.9],\n",
    "            \"min_samples_split\" : [2,4,8],\n",
    "            }\n",
    "grid = GridSearchCV(estimator, param_grid, n_jobs=-1, cv=5)   \n",
    "grid.fit(X, y)"
   ]
  },
  {
   "cell_type": "code",
   "execution_count": 56,
   "id": "ae0f2b0d",
   "metadata": {},
   "outputs": [
    {
     "data": {
      "text/plain": [
       "(0.9845569620253165,\n",
       " {'max_features': 'sqrt', 'min_samples_split': 8, 'n_estimators': 40})"
      ]
     },
     "execution_count": 56,
     "metadata": {},
     "output_type": "execute_result"
    }
   ],
   "source": [
    "grid.best_score_ , grid.best_params_"
   ]
  },
  {
   "cell_type": "code",
   "execution_count": 57,
   "id": "7818a89e",
   "metadata": {},
   "outputs": [
    {
     "data": {
      "text/plain": [
       "RandomForestClassifier(max_features='sqrt', min_samples_split=8,\n",
       "                       n_estimators=40, oob_score=True)"
      ]
     },
     "execution_count": 57,
     "metadata": {},
     "output_type": "execute_result"
    }
   ],
   "source": [
    "randomForest = ensemble.RandomForestClassifier(n_estimators=40,min_samples_split = 8,max_features='sqrt',oob_score=True)\n",
    "randomForest.fit(X,y)"
   ]
  },
  {
   "cell_type": "markdown",
   "id": "36faaa57",
   "metadata": {},
   "source": [
    "### 3.AdaBoost"
   ]
  },
  {
   "cell_type": "code",
   "execution_count": 58,
   "id": "2512e844",
   "metadata": {},
   "outputs": [
    {
     "data": {
      "text/plain": [
       "AdaBoostClassifier(n_estimators=100, random_state=0)"
      ]
     },
     "execution_count": 58,
     "metadata": {},
     "output_type": "execute_result"
    }
   ],
   "source": [
    "clf = AdaBoostClassifier(n_estimators=100, random_state=0)\n",
    "clf.fit(X, y)"
   ]
  },
  {
   "cell_type": "code",
   "execution_count": 59,
   "id": "a94f280a",
   "metadata": {},
   "outputs": [
    {
     "data": {
      "text/plain": [
       "(0.9813924050632913, {'learning_rate': 1.0, 'n_estimators': 10})"
      ]
     },
     "execution_count": 59,
     "metadata": {},
     "output_type": "execute_result"
    }
   ],
   "source": [
    "# define the grid of values to search\n",
    "grid = dict()\n",
    "grid['n_estimators'] = [10, 50, 100, 500]\n",
    "grid['learning_rate'] = [0.0001, 0.001, 0.01, 0.1, 1.0]\n",
    "\n",
    "from sklearn.model_selection import RepeatedStratifiedKFold\n",
    "cv = RepeatedStratifiedKFold(n_splits=10, n_repeats=3, random_state=1)\n",
    "\n",
    "# define the grid search procedure\n",
    "grid_search = GridSearchCV(estimator=clf, param_grid=grid, n_jobs=-1, cv=cv, scoring='accuracy')\n",
    "\n",
    "grid_result = grid_search.fit(X, y)\n",
    "grid_result.best_score_, grid_result.best_params_\n"
   ]
  },
  {
   "cell_type": "code",
   "execution_count": 60,
   "id": "1f701970",
   "metadata": {},
   "outputs": [
    {
     "data": {
      "text/plain": [
       "AdaBoostClassifier(n_estimators=10, random_state=0)"
      ]
     },
     "execution_count": 60,
     "metadata": {},
     "output_type": "execute_result"
    }
   ],
   "source": [
    "clf_AD = AdaBoostClassifier(n_estimators=10, random_state=0,learning_rate= 1.0)\n",
    "clf_AD.fit(X, y)"
   ]
  },
  {
   "cell_type": "markdown",
   "id": "60bbf3a1",
   "metadata": {},
   "source": [
    "### 4.SVM"
   ]
  },
  {
   "cell_type": "code",
   "execution_count": 61,
   "id": "3b3e4b02",
   "metadata": {},
   "outputs": [
    {
     "data": {
      "text/plain": [
       "SVC()"
      ]
     },
     "execution_count": 61,
     "metadata": {},
     "output_type": "execute_result"
    }
   ],
   "source": [
    "clf1 = svm.SVC()\n",
    "clf1.fit(X, y)"
   ]
  },
  {
   "cell_type": "code",
   "execution_count": 62,
   "id": "095f7a09",
   "metadata": {},
   "outputs": [
    {
     "name": "stdout",
     "output_type": "stream",
     "text": [
      "Fitting 5 folds for each of 25 candidates, totalling 125 fits\n",
      "[CV 1/5] END ........C=0.1, gamma=1, kernel=rbf;, score=0.971 total time=   0.6s\n",
      "[CV 2/5] END ........C=0.1, gamma=1, kernel=rbf;, score=0.970 total time=   0.9s\n",
      "[CV 3/5] END ........C=0.1, gamma=1, kernel=rbf;, score=0.973 total time=   1.0s\n",
      "[CV 4/5] END ........C=0.1, gamma=1, kernel=rbf;, score=0.976 total time=   0.6s\n",
      "[CV 5/5] END ........C=0.1, gamma=1, kernel=rbf;, score=0.967 total time=   0.5s\n",
      "[CV 1/5] END ......C=0.1, gamma=0.1, kernel=rbf;, score=0.982 total time=   0.3s\n",
      "[CV 2/5] END ......C=0.1, gamma=0.1, kernel=rbf;, score=0.983 total time=   0.3s\n",
      "[CV 3/5] END ......C=0.1, gamma=0.1, kernel=rbf;, score=0.978 total time=   0.2s\n",
      "[CV 4/5] END ......C=0.1, gamma=0.1, kernel=rbf;, score=0.987 total time=   0.2s\n",
      "[CV 5/5] END ......C=0.1, gamma=0.1, kernel=rbf;, score=0.973 total time=   0.2s\n",
      "[CV 1/5] END .....C=0.1, gamma=0.01, kernel=rbf;, score=0.961 total time=   0.3s\n",
      "[CV 2/5] END .....C=0.1, gamma=0.01, kernel=rbf;, score=0.961 total time=   0.3s\n",
      "[CV 3/5] END .....C=0.1, gamma=0.01, kernel=rbf;, score=0.960 total time=   0.3s\n",
      "[CV 4/5] END .....C=0.1, gamma=0.01, kernel=rbf;, score=0.960 total time=   0.4s\n",
      "[CV 5/5] END .....C=0.1, gamma=0.01, kernel=rbf;, score=0.960 total time=   0.3s\n",
      "[CV 1/5] END ....C=0.1, gamma=0.001, kernel=rbf;, score=0.961 total time=   0.3s\n",
      "[CV 2/5] END ....C=0.1, gamma=0.001, kernel=rbf;, score=0.961 total time=   0.3s\n",
      "[CV 3/5] END ....C=0.1, gamma=0.001, kernel=rbf;, score=0.960 total time=   0.3s\n",
      "[CV 4/5] END ....C=0.1, gamma=0.001, kernel=rbf;, score=0.960 total time=   0.4s\n",
      "[CV 5/5] END ....C=0.1, gamma=0.001, kernel=rbf;, score=0.960 total time=   0.2s\n",
      "[CV 1/5] END ...C=0.1, gamma=0.0001, kernel=rbf;, score=0.961 total time=   0.2s\n",
      "[CV 2/5] END ...C=0.1, gamma=0.0001, kernel=rbf;, score=0.961 total time=   0.3s\n",
      "[CV 3/5] END ...C=0.1, gamma=0.0001, kernel=rbf;, score=0.960 total time=   0.2s\n",
      "[CV 4/5] END ...C=0.1, gamma=0.0001, kernel=rbf;, score=0.960 total time=   0.3s\n",
      "[CV 5/5] END ...C=0.1, gamma=0.0001, kernel=rbf;, score=0.960 total time=   0.3s\n",
      "[CV 1/5] END ..........C=1, gamma=1, kernel=rbf;, score=0.984 total time=   0.5s\n",
      "[CV 2/5] END ..........C=1, gamma=1, kernel=rbf;, score=0.984 total time=   0.5s\n",
      "[CV 3/5] END ..........C=1, gamma=1, kernel=rbf;, score=0.978 total time=   0.5s\n",
      "[CV 4/5] END ..........C=1, gamma=1, kernel=rbf;, score=0.991 total time=   0.5s\n",
      "[CV 5/5] END ..........C=1, gamma=1, kernel=rbf;, score=0.978 total time=   0.5s\n",
      "[CV 1/5] END ........C=1, gamma=0.1, kernel=rbf;, score=0.985 total time=   0.1s\n",
      "[CV 2/5] END ........C=1, gamma=0.1, kernel=rbf;, score=0.984 total time=   0.1s\n",
      "[CV 3/5] END ........C=1, gamma=0.1, kernel=rbf;, score=0.981 total time=   0.1s\n",
      "[CV 4/5] END ........C=1, gamma=0.1, kernel=rbf;, score=0.989 total time=   0.2s\n",
      "[CV 5/5] END ........C=1, gamma=0.1, kernel=rbf;, score=0.973 total time=   0.1s\n",
      "[CV 1/5] END .......C=1, gamma=0.01, kernel=rbf;, score=0.984 total time=   0.2s\n",
      "[CV 2/5] END .......C=1, gamma=0.01, kernel=rbf;, score=0.985 total time=   0.2s\n",
      "[CV 3/5] END .......C=1, gamma=0.01, kernel=rbf;, score=0.974 total time=   0.2s\n",
      "[CV 4/5] END .......C=1, gamma=0.01, kernel=rbf;, score=0.987 total time=   0.2s\n",
      "[CV 5/5] END .......C=1, gamma=0.01, kernel=rbf;, score=0.966 total time=   0.2s\n",
      "[CV 1/5] END ......C=1, gamma=0.001, kernel=rbf;, score=0.961 total time=   0.2s\n",
      "[CV 2/5] END ......C=1, gamma=0.001, kernel=rbf;, score=0.961 total time=   0.2s\n",
      "[CV 3/5] END ......C=1, gamma=0.001, kernel=rbf;, score=0.960 total time=   0.2s\n",
      "[CV 4/5] END ......C=1, gamma=0.001, kernel=rbf;, score=0.960 total time=   0.2s\n",
      "[CV 5/5] END ......C=1, gamma=0.001, kernel=rbf;, score=0.960 total time=   0.2s\n",
      "[CV 1/5] END .....C=1, gamma=0.0001, kernel=rbf;, score=0.961 total time=   0.2s\n",
      "[CV 2/5] END .....C=1, gamma=0.0001, kernel=rbf;, score=0.961 total time=   0.2s\n",
      "[CV 3/5] END .....C=1, gamma=0.0001, kernel=rbf;, score=0.960 total time=   0.2s\n",
      "[CV 4/5] END .....C=1, gamma=0.0001, kernel=rbf;, score=0.960 total time=   0.2s\n",
      "[CV 5/5] END .....C=1, gamma=0.0001, kernel=rbf;, score=0.960 total time=   0.2s\n",
      "[CV 1/5] END .........C=10, gamma=1, kernel=rbf;, score=0.984 total time=   0.5s\n",
      "[CV 2/5] END .........C=10, gamma=1, kernel=rbf;, score=0.984 total time=   0.7s\n",
      "[CV 3/5] END .........C=10, gamma=1, kernel=rbf;, score=0.978 total time=   0.5s\n",
      "[CV 4/5] END .........C=10, gamma=1, kernel=rbf;, score=0.991 total time=   0.5s\n",
      "[CV 5/5] END .........C=10, gamma=1, kernel=rbf;, score=0.980 total time=   0.5s\n",
      "[CV 1/5] END .......C=10, gamma=0.1, kernel=rbf;, score=0.982 total time=   0.4s\n",
      "[CV 2/5] END .......C=10, gamma=0.1, kernel=rbf;, score=0.984 total time=   0.2s\n",
      "[CV 3/5] END .......C=10, gamma=0.1, kernel=rbf;, score=0.980 total time=   0.2s\n",
      "[CV 4/5] END .......C=10, gamma=0.1, kernel=rbf;, score=0.991 total time=   0.2s\n",
      "[CV 5/5] END .......C=10, gamma=0.1, kernel=rbf;, score=0.977 total time=   0.2s\n",
      "[CV 1/5] END ......C=10, gamma=0.01, kernel=rbf;, score=0.985 total time=   0.2s\n",
      "[CV 2/5] END ......C=10, gamma=0.01, kernel=rbf;, score=0.985 total time=   0.2s\n",
      "[CV 3/5] END ......C=10, gamma=0.01, kernel=rbf;, score=0.977 total time=   0.1s\n",
      "[CV 4/5] END ......C=10, gamma=0.01, kernel=rbf;, score=0.989 total time=   0.2s\n",
      "[CV 5/5] END ......C=10, gamma=0.01, kernel=rbf;, score=0.968 total time=   0.1s\n",
      "[CV 1/5] END .....C=10, gamma=0.001, kernel=rbf;, score=0.977 total time=   0.3s\n",
      "[CV 2/5] END .....C=10, gamma=0.001, kernel=rbf;, score=0.986 total time=   0.2s\n",
      "[CV 3/5] END .....C=10, gamma=0.001, kernel=rbf;, score=0.972 total time=   0.2s\n",
      "[CV 4/5] END .....C=10, gamma=0.001, kernel=rbf;, score=0.987 total time=   0.2s\n",
      "[CV 5/5] END .....C=10, gamma=0.001, kernel=rbf;, score=0.965 total time=   0.2s\n",
      "[CV 1/5] END ....C=10, gamma=0.0001, kernel=rbf;, score=0.961 total time=   0.2s\n",
      "[CV 2/5] END ....C=10, gamma=0.0001, kernel=rbf;, score=0.961 total time=   0.2s\n",
      "[CV 3/5] END ....C=10, gamma=0.0001, kernel=rbf;, score=0.960 total time=   0.3s\n",
      "[CV 4/5] END ....C=10, gamma=0.0001, kernel=rbf;, score=0.960 total time=   0.2s\n",
      "[CV 5/5] END ....C=10, gamma=0.0001, kernel=rbf;, score=0.960 total time=   0.3s\n",
      "[CV 1/5] END ........C=100, gamma=1, kernel=rbf;, score=0.984 total time=   0.6s\n",
      "[CV 2/5] END ........C=100, gamma=1, kernel=rbf;, score=0.984 total time=   0.6s\n",
      "[CV 3/5] END ........C=100, gamma=1, kernel=rbf;, score=0.978 total time=   0.5s\n",
      "[CV 4/5] END ........C=100, gamma=1, kernel=rbf;, score=0.991 total time=   0.5s\n",
      "[CV 5/5] END ........C=100, gamma=1, kernel=rbf;, score=0.980 total time=   0.5s\n",
      "[CV 1/5] END ......C=100, gamma=0.1, kernel=rbf;, score=0.980 total time=   0.3s\n",
      "[CV 2/5] END ......C=100, gamma=0.1, kernel=rbf;, score=0.982 total time=   0.5s\n",
      "[CV 3/5] END ......C=100, gamma=0.1, kernel=rbf;, score=0.974 total time=   0.6s\n",
      "[CV 4/5] END ......C=100, gamma=0.1, kernel=rbf;, score=0.992 total time=   0.5s\n",
      "[CV 5/5] END ......C=100, gamma=0.1, kernel=rbf;, score=0.975 total time=   0.3s\n",
      "[CV 1/5] END .....C=100, gamma=0.01, kernel=rbf;, score=0.986 total time=   0.3s\n",
      "[CV 2/5] END .....C=100, gamma=0.01, kernel=rbf;, score=0.985 total time=   0.3s\n",
      "[CV 3/5] END .....C=100, gamma=0.01, kernel=rbf;, score=0.980 total time=   0.4s\n",
      "[CV 4/5] END .....C=100, gamma=0.01, kernel=rbf;, score=0.989 total time=   0.4s\n",
      "[CV 5/5] END .....C=100, gamma=0.01, kernel=rbf;, score=0.972 total time=   0.3s\n",
      "[CV 1/5] END ....C=100, gamma=0.001, kernel=rbf;, score=0.984 total time=   0.3s\n",
      "[CV 2/5] END ....C=100, gamma=0.001, kernel=rbf;, score=0.985 total time=   0.4s\n",
      "[CV 3/5] END ....C=100, gamma=0.001, kernel=rbf;, score=0.974 total time=   0.2s\n",
      "[CV 4/5] END ....C=100, gamma=0.001, kernel=rbf;, score=0.987 total time=   0.3s\n",
      "[CV 5/5] END ....C=100, gamma=0.001, kernel=rbf;, score=0.967 total time=   0.3s\n",
      "[CV 1/5] END ...C=100, gamma=0.0001, kernel=rbf;, score=0.977 total time=   0.5s\n",
      "[CV 2/5] END ...C=100, gamma=0.0001, kernel=rbf;, score=0.985 total time=   0.5s\n",
      "[CV 3/5] END ...C=100, gamma=0.0001, kernel=rbf;, score=0.972 total time=   0.5s\n",
      "[CV 4/5] END ...C=100, gamma=0.0001, kernel=rbf;, score=0.985 total time=   0.6s\n",
      "[CV 5/5] END ...C=100, gamma=0.0001, kernel=rbf;, score=0.965 total time=   0.6s\n",
      "[CV 1/5] END .......C=1000, gamma=1, kernel=rbf;, score=0.984 total time=   0.8s\n"
     ]
    },
    {
     "name": "stdout",
     "output_type": "stream",
     "text": [
      "[CV 2/5] END .......C=1000, gamma=1, kernel=rbf;, score=0.984 total time=   1.1s\n",
      "[CV 3/5] END .......C=1000, gamma=1, kernel=rbf;, score=0.978 total time=   0.8s\n",
      "[CV 4/5] END .......C=1000, gamma=1, kernel=rbf;, score=0.991 total time=   0.9s\n",
      "[CV 5/5] END .......C=1000, gamma=1, kernel=rbf;, score=0.980 total time=   0.8s\n",
      "[CV 1/5] END .....C=1000, gamma=0.1, kernel=rbf;, score=0.968 total time=   0.6s\n",
      "[CV 2/5] END .....C=1000, gamma=0.1, kernel=rbf;, score=0.985 total time=   0.7s\n",
      "[CV 3/5] END .....C=1000, gamma=0.1, kernel=rbf;, score=0.975 total time=   0.4s\n",
      "[CV 4/5] END .....C=1000, gamma=0.1, kernel=rbf;, score=0.994 total time=   0.4s\n",
      "[CV 5/5] END .....C=1000, gamma=0.1, kernel=rbf;, score=0.976 total time=   0.3s\n",
      "[CV 1/5] END ....C=1000, gamma=0.01, kernel=rbf;, score=0.987 total time=   0.6s\n",
      "[CV 2/5] END ....C=1000, gamma=0.01, kernel=rbf;, score=0.986 total time=   0.6s\n",
      "[CV 3/5] END ....C=1000, gamma=0.01, kernel=rbf;, score=0.981 total time=   0.8s\n",
      "[CV 4/5] END ....C=1000, gamma=0.01, kernel=rbf;, score=0.991 total time=   0.5s\n",
      "[CV 5/5] END ....C=1000, gamma=0.01, kernel=rbf;, score=0.975 total time=   0.5s\n",
      "[CV 1/5] END ...C=1000, gamma=0.001, kernel=rbf;, score=0.985 total time=   0.2s\n",
      "[CV 2/5] END ...C=1000, gamma=0.001, kernel=rbf;, score=0.986 total time=   0.2s\n",
      "[CV 3/5] END ...C=1000, gamma=0.001, kernel=rbf;, score=0.977 total time=   0.2s\n",
      "[CV 4/5] END ...C=1000, gamma=0.001, kernel=rbf;, score=0.989 total time=   0.3s\n",
      "[CV 5/5] END ...C=1000, gamma=0.001, kernel=rbf;, score=0.969 total time=   0.2s\n",
      "[CV 1/5] END ..C=1000, gamma=0.0001, kernel=rbf;, score=0.984 total time=   0.3s\n",
      "[CV 2/5] END ..C=1000, gamma=0.0001, kernel=rbf;, score=0.981 total time=   0.3s\n",
      "[CV 3/5] END ..C=1000, gamma=0.0001, kernel=rbf;, score=0.972 total time=   0.3s\n",
      "[CV 4/5] END ..C=1000, gamma=0.0001, kernel=rbf;, score=0.985 total time=   0.3s\n",
      "[CV 5/5] END ..C=1000, gamma=0.0001, kernel=rbf;, score=0.971 total time=   0.2s\n"
     ]
    },
    {
     "data": {
      "text/plain": [
       "GridSearchCV(estimator=SVC(),\n",
       "             param_grid={'C': [0.1, 1, 10, 100, 1000],\n",
       "                         'gamma': [1, 0.1, 0.01, 0.001, 0.0001],\n",
       "                         'kernel': ['rbf']},\n",
       "             verbose=3)"
      ]
     },
     "execution_count": 62,
     "metadata": {},
     "output_type": "execute_result"
    }
   ],
   "source": [
    "# defining parameter range\n",
    "param_grid = {'C': [0.1, 1, 10, 100, 1000],\n",
    "              'gamma': [1, 0.1, 0.01, 0.001, 0.0001],\n",
    "              'kernel': ['rbf']}\n",
    " \n",
    "grid = GridSearchCV(clf1, param_grid, refit = True, verbose = 3)\n",
    " \n",
    "# fitting the model for grid search\n",
    "grid.fit(X, y)"
   ]
  },
  {
   "cell_type": "code",
   "execution_count": 63,
   "id": "4bafc396",
   "metadata": {},
   "outputs": [
    {
     "data": {
      "text/plain": [
       "({'C': 1000, 'gamma': 0.01, 'kernel': 'rbf'}, SVC(C=1000, gamma=0.01))"
      ]
     },
     "execution_count": 63,
     "metadata": {},
     "output_type": "execute_result"
    }
   ],
   "source": [
    "grid.best_params_,grid.best_estimator_"
   ]
  },
  {
   "cell_type": "code",
   "execution_count": 64,
   "id": "a9d46cee",
   "metadata": {},
   "outputs": [
    {
     "data": {
      "text/plain": [
       "SVC(C=1000, gamma=0.01)"
      ]
     },
     "execution_count": 64,
     "metadata": {},
     "output_type": "execute_result"
    }
   ],
   "source": [
    "clf_SVM = svm.SVC(C=1000,gamma=0.01)\n",
    "clf_SVM.fit(X, y)"
   ]
  },
  {
   "cell_type": "markdown",
   "id": "4006bd57",
   "metadata": {},
   "source": [
    "### 5.GBM"
   ]
  },
  {
   "cell_type": "code",
   "execution_count": 65,
   "id": "054f3d50",
   "metadata": {},
   "outputs": [],
   "source": [
    "clf2 = GradientBoostingClassifier(n_estimators=100, learning_rate=1.0,max_depth=1, random_state=0).fit(X, y)"
   ]
  },
  {
   "cell_type": "code",
   "execution_count": 66,
   "id": "2b204846",
   "metadata": {},
   "outputs": [],
   "source": [
    "p_test = {'max_depth':[2,3,4,5,6,7] ,\n",
    "           'learning_rate':[0.15,0.1,0.05,0.01,0.005,0.001], 'n_estimators':[100,250,500,750,1000,1250,1500,1750],\n",
    "          }\n",
    "tuning = GridSearchCV(estimator =clf2, param_grid = p_test, scoring='accuracy',n_jobs=4, cv=5)"
   ]
  },
  {
   "cell_type": "code",
   "execution_count": 67,
   "id": "bc339196",
   "metadata": {},
   "outputs": [
    {
     "data": {
      "text/plain": [
       "GridSearchCV(cv=5,\n",
       "             estimator=GradientBoostingClassifier(learning_rate=1.0,\n",
       "                                                  max_depth=1, random_state=0),\n",
       "             n_jobs=4,\n",
       "             param_grid={'learning_rate': [0.15, 0.1, 0.05, 0.01, 0.005, 0.001],\n",
       "                         'max_depth': [2, 3, 4, 5, 6, 7],\n",
       "                         'n_estimators': [100, 250, 500, 750, 1000, 1250, 1500,\n",
       "                                          1750]},\n",
       "             scoring='accuracy')"
      ]
     },
     "execution_count": 67,
     "metadata": {},
     "output_type": "execute_result"
    }
   ],
   "source": [
    "tuning.fit(X,y)"
   ]
  },
  {
   "cell_type": "code",
   "execution_count": 68,
   "id": "8eb2a749",
   "metadata": {},
   "outputs": [
    {
     "data": {
      "text/plain": [
       "({'learning_rate': 0.01, 'max_depth': 2, 'n_estimators': 1250},\n",
       " 0.9837974683544305)"
      ]
     },
     "execution_count": 68,
     "metadata": {},
     "output_type": "execute_result"
    }
   ],
   "source": [
    "tuning.best_params_, tuning.best_score_"
   ]
  },
  {
   "cell_type": "code",
   "execution_count": 69,
   "id": "205af020",
   "metadata": {},
   "outputs": [],
   "source": [
    "clf_GBM = GradientBoostingClassifier(n_estimators=1250, learning_rate=0.01,max_depth=2, random_state=0).fit(X, y)\n",
    "\n"
   ]
  },
  {
   "cell_type": "markdown",
   "id": "7e9a4825",
   "metadata": {},
   "source": [
    "### Test data"
   ]
  },
  {
   "cell_type": "code",
   "execution_count": null,
   "id": "c737604a",
   "metadata": {},
   "outputs": [],
   "source": [
    "### Fruit Pastry 7"
   ]
  },
  {
   "cell_type": "code",
   "execution_count": 70,
   "id": "7e2d1e3a",
   "metadata": {},
   "outputs": [],
   "source": [
    "os.chdir('C:\\\\Users\\\\Priyanka G\\\\CAPSTONE_PROJECT_WORK(2022)\\\\cake\\\\fruitpastry\\\\blueberry')"
   ]
  },
  {
   "cell_type": "code",
   "execution_count": 71,
   "id": "56438d70",
   "metadata": {},
   "outputs": [],
   "source": [
    "fpb2 = pd.read_csv('s2.csv')\n",
    "fpb3 = pd.read_csv('s3.csv')\n",
    "fpb4 = pd.read_csv('s4.csv')"
   ]
  },
  {
   "cell_type": "code",
   "execution_count": 72,
   "id": "5caaf099",
   "metadata": {},
   "outputs": [],
   "source": [
    "os.chdir('C:\\\\Users\\\\Priyanka G\\\\CAPSTONE_PROJECT_WORK(2022)\\\\cake\\\\fruitpastry\\\\raspberry')"
   ]
  },
  {
   "cell_type": "code",
   "execution_count": 73,
   "id": "fe3fcd39",
   "metadata": {},
   "outputs": [],
   "source": [
    "fpr1 = pd.read_csv('s1.csv')\n",
    "fpr2 = pd.read_csv('s2.csv')\n",
    "fpr3 = pd.read_csv('s3.csv')\n",
    "fpr4 = pd.read_csv('s4.csv')"
   ]
  },
  {
   "cell_type": "code",
   "execution_count": 74,
   "id": "25ce502a",
   "metadata": {},
   "outputs": [],
   "source": [
    "### Cup cake 7"
   ]
  },
  {
   "cell_type": "code",
   "execution_count": 75,
   "id": "25f10776",
   "metadata": {},
   "outputs": [],
   "source": [
    "os.chdir('C:\\\\Users\\\\Priyanka G\\\\CAPSTONE_PROJECT_WORK(2022)\\\\cake\\\\cupcake\\\\chocolate')"
   ]
  },
  {
   "cell_type": "code",
   "execution_count": 76,
   "id": "6462f7f8",
   "metadata": {},
   "outputs": [],
   "source": [
    "cc1 = pd.read_csv('s1.csv')\n",
    "cc2 = pd.read_csv('s2.csv')\n",
    "cc3 = pd.read_csv('s3.csv')\n",
    "cc4 = pd.read_csv('s4.csv')"
   ]
  },
  {
   "cell_type": "code",
   "execution_count": 77,
   "id": "3f7a540b",
   "metadata": {},
   "outputs": [],
   "source": [
    "os.chdir('C:\\\\Users\\\\Priyanka G\\\\CAPSTONE_PROJECT_WORK(2022)\\\\cake\\\\cupcake\\\\vanilla')"
   ]
  },
  {
   "cell_type": "code",
   "execution_count": 78,
   "id": "359c9b6a",
   "metadata": {},
   "outputs": [],
   "source": [
    "cva1 = pd.read_csv('s1.csv')\n",
    "cva2 = pd.read_csv('s2.csv')\n",
    "cva4 = pd.read_csv('s4.csv')"
   ]
  },
  {
   "cell_type": "code",
   "execution_count": null,
   "id": "7baf277b",
   "metadata": {},
   "outputs": [],
   "source": []
  },
  {
   "cell_type": "code",
   "execution_count": 79,
   "id": "0e1c40c5",
   "metadata": {},
   "outputs": [],
   "source": [
    "data2 = pd.concat([fpb2,fpb3,fpb4,fpr1,fpr2,fpr3,fpr4,cc1,cc2,cc3,cc4,cva1,cva2,cva4],axis=0)"
   ]
  },
  {
   "cell_type": "code",
   "execution_count": 80,
   "id": "a31c62f9",
   "metadata": {},
   "outputs": [],
   "source": [
    "data2 = data2.loc[data2.nwords > 2, :]\n",
    "data2 = data2.loc[data2.nnumbers <= 3, :]\n",
    "data2 = data2.loc[data2.nwords <= 10, :]\n",
    "data2 = data2.drop([\"Sentence\"],axis=1)\n",
    "X_test = data2.drop(\"label\",axis=1)\n",
    "y_test = data2.label\n"
   ]
  },
  {
   "cell_type": "code",
   "execution_count": 81,
   "id": "8aa37519",
   "metadata": {},
   "outputs": [
    {
     "name": "stdout",
     "output_type": "stream",
     "text": [
      "[[2141   79]\n",
      " [  29   79]]\n",
      "Prescision :  0.5\n",
      "Recall :  0.7314814814814815\n",
      "F1 score :  0.5939849624060151\n"
     ]
    }
   ],
   "source": [
    "pred = model_DT.predict(X_test)\n",
    "\n",
    "from sklearn.metrics import confusion_matrix\n",
    "print(confusion_matrix(y_test, pred))\n",
    "\n",
    "# Finding precision and recall\n",
    "from sklearn.metrics import precision_score, recall_score\n",
    "#precision_score(y_test, pred)\n",
    "print(\"Prescision : \" , precision_score(y_test, pred))\n",
    "print(\"Recall : \" , recall_score(y_test, pred))\n",
    "\n",
    "# To compute the F1 score, simply call the f1_score() function:\n",
    "from sklearn.metrics import f1_score\n",
    "print(\"F1 score : \" ,f1_score(y_test, pred))"
   ]
  },
  {
   "cell_type": "code",
   "execution_count": 82,
   "id": "8fd77242",
   "metadata": {},
   "outputs": [
    {
     "name": "stdout",
     "output_type": "stream",
     "text": [
      "[[2180   40]\n",
      " [  25   83]]\n",
      "Prescision :  0.6747967479674797\n",
      "Recall :  0.7685185185185185\n",
      "F1 score :  0.7186147186147186\n"
     ]
    }
   ],
   "source": [
    "pred = randomForest.predict(X_test)\n",
    "\n",
    "from sklearn.metrics import confusion_matrix\n",
    "print(confusion_matrix(y_test, pred))\n",
    "\n",
    "# Finding precision and recall\n",
    "from sklearn.metrics import precision_score, recall_score\n",
    "#precision_score(y_test, pred)\n",
    "print(\"Prescision : \" , precision_score(y_test, pred))\n",
    "print(\"Recall : \" , recall_score(y_test, pred))\n",
    "\n",
    "# To compute the F1 score, simply call the f1_score() function:\n",
    "from sklearn.metrics import f1_score\n",
    "print(\"F1 score : \" ,f1_score(y_test, pred))"
   ]
  },
  {
   "cell_type": "code",
   "execution_count": 83,
   "id": "87151d23",
   "metadata": {},
   "outputs": [
    {
     "name": "stdout",
     "output_type": "stream",
     "text": [
      "[[2167   53]\n",
      " [  31   77]]\n",
      "Prescision :  0.5923076923076923\n",
      "Recall :  0.7129629629629629\n",
      "F1 score :  0.6470588235294117\n"
     ]
    }
   ],
   "source": [
    "pred = clf_AD.predict(X_test)\n",
    "\n",
    "from sklearn.metrics import confusion_matrix\n",
    "print(confusion_matrix(y_test, pred))\n",
    "\n",
    "# Finding precision and recall\n",
    "from sklearn.metrics import precision_score, recall_score\n",
    "#precision_score(y_test, pred)\n",
    "print(\"Prescision : \" , precision_score(y_test, pred))\n",
    "print(\"Recall : \" , recall_score(y_test, pred))\n",
    "\n",
    "# To compute the F1 score, simply call the f1_score() function:\n",
    "from sklearn.metrics import f1_score\n",
    "print(\"F1 score : \" ,f1_score(y_test, pred))"
   ]
  },
  {
   "cell_type": "code",
   "execution_count": 84,
   "id": "082ce866",
   "metadata": {},
   "outputs": [
    {
     "name": "stdout",
     "output_type": "stream",
     "text": [
      "[[2165   55]\n",
      " [  28   80]]\n",
      "Prescision :  0.5925925925925926\n",
      "Recall :  0.7407407407407407\n",
      "F1 score :  0.6584362139917694\n"
     ]
    }
   ],
   "source": [
    "pred = clf_SVM.predict(X_test)\n",
    "\n",
    "from sklearn.metrics import confusion_matrix\n",
    "print(confusion_matrix(y_test, pred))\n",
    "\n",
    "# Finding precision and recall\n",
    "from sklearn.metrics import precision_score, recall_score\n",
    "#precision_score(y_test, pred)\n",
    "print(\"Prescision : \" , precision_score(y_test, pred))\n",
    "print(\"Recall : \" , recall_score(y_test, pred))\n",
    "\n",
    "# To compute the F1 score, simply call the f1_score() function:\n",
    "from sklearn.metrics import f1_score\n",
    "print(\"F1 score : \" ,f1_score(y_test, pred))"
   ]
  },
  {
   "cell_type": "code",
   "execution_count": 85,
   "id": "f64ac5e2",
   "metadata": {},
   "outputs": [
    {
     "name": "stdout",
     "output_type": "stream",
     "text": [
      "[[2167   53]\n",
      " [  26   82]]\n",
      "Prescision :  0.6074074074074074\n",
      "Recall :  0.7592592592592593\n",
      "F1 score :  0.6748971193415638\n"
     ]
    }
   ],
   "source": [
    "pred = clf_GBM.predict(X_test)\n",
    "\n",
    "from sklearn.metrics import confusion_matrix\n",
    "print(confusion_matrix(y_test, pred))\n",
    "\n",
    "# Finding precision and recall\n",
    "from sklearn.metrics import precision_score, recall_score\n",
    "#precision_score(y_test, pred)\n",
    "print(\"Prescision : \" , precision_score(y_test, pred))\n",
    "print(\"Recall : \" , recall_score(y_test, pred))\n",
    "\n",
    "# To compute the F1 score, simply call the f1_score() function:\n",
    "from sklearn.metrics import f1_score\n",
    "print(\"F1 score : \" ,f1_score(y_test, pred))"
   ]
  },
  {
   "cell_type": "code",
   "execution_count": null,
   "id": "57f045f2",
   "metadata": {},
   "outputs": [],
   "source": [
    "Prescision :  0.5925925925925926\n",
    "Recall :  0.7407407407407407\n",
    "F1 score :  0.6584362139917694"
   ]
  },
  {
   "cell_type": "code",
   "execution_count": 86,
   "id": "891743f8",
   "metadata": {},
   "outputs": [],
   "source": [
    "from prettytable import PrettyTable\n",
    " \n",
    "# Specify the Column Names while initializing the Table\n",
    "myTable = PrettyTable([\"Model\", \"Precision\", \"Recall\", \"F1_score\"])\n",
    "\n",
    "\n",
    "myTable.add_row([\"DT\", \"0.5\",\" 0.731\", \" 0.593\"])\n",
    "myTable.add_row([\"RF\", \"0.67\",\"0.768\", \"0.718\"])\n",
    "myTable.add_row([\"ADA\", \"0.59\",\" 0.712\", \" 0.647\"])\n",
    "myTable.add_row([\"SVM\", \"0.59\",\" 0.740\", \"0.658\"])\n",
    "myTable.add_row([\"GBM\",\"0.60\",\"0.759\", \"0.674\"])"
   ]
  },
  {
   "cell_type": "code",
   "execution_count": 87,
   "id": "555de013",
   "metadata": {},
   "outputs": [
    {
     "data": {
      "text/html": [
       "<table>\n",
       "    <thead>\n",
       "        <tr>\n",
       "            <th>Model</th>\n",
       "            <th>Precision</th>\n",
       "            <th>Recall</th>\n",
       "            <th>F1_score</th>\n",
       "        </tr>\n",
       "    </thead>\n",
       "    <tbody>\n",
       "        <tr>\n",
       "            <td>DT</td>\n",
       "            <td>0.5</td>\n",
       "            <td> 0.731</td>\n",
       "            <td> 0.593</td>\n",
       "        </tr>\n",
       "        <tr>\n",
       "            <td>RF</td>\n",
       "            <td>0.67</td>\n",
       "            <td>0.768</td>\n",
       "            <td>0.718</td>\n",
       "        </tr>\n",
       "        <tr>\n",
       "            <td>ADA</td>\n",
       "            <td>0.59</td>\n",
       "            <td> 0.712</td>\n",
       "            <td> 0.647</td>\n",
       "        </tr>\n",
       "        <tr>\n",
       "            <td>SVM</td>\n",
       "            <td>0.59</td>\n",
       "            <td> 0.740</td>\n",
       "            <td>0.658</td>\n",
       "        </tr>\n",
       "        <tr>\n",
       "            <td>GBM</td>\n",
       "            <td>0.60</td>\n",
       "            <td>0.759</td>\n",
       "            <td>0.674</td>\n",
       "        </tr>\n",
       "    </tbody>\n",
       "</table>"
      ],
      "text/plain": [
       "+-------+-----------+--------+----------+\n",
       "| Model | Precision | Recall | F1_score |\n",
       "+-------+-----------+--------+----------+\n",
       "|   DT  |    0.5    |  0.731 |   0.593  |\n",
       "|   RF  |    0.67   | 0.768  |  0.718   |\n",
       "|  ADA  |    0.59   |  0.712 |   0.647  |\n",
       "|  SVM  |    0.59   |  0.740 |  0.658   |\n",
       "|  GBM  |    0.60   | 0.759  |  0.674   |\n",
       "+-------+-----------+--------+----------+"
      ]
     },
     "execution_count": 87,
     "metadata": {},
     "output_type": "execute_result"
    }
   ],
   "source": [
    "myTable"
   ]
  },
  {
   "cell_type": "markdown",
   "id": "3600708e",
   "metadata": {},
   "source": [
    "## other folders"
   ]
  },
  {
   "cell_type": "markdown",
   "id": "3549511a",
   "metadata": {},
   "source": [
    "### chocolatecake"
   ]
  },
  {
   "cell_type": "code",
   "execution_count": 91,
   "id": "d3ef95d1",
   "metadata": {},
   "outputs": [],
   "source": [
    "os.chdir('C:\\\\Users\\\\Priyanka G\\\\CAPSTONE_PROJECT_WORK(2022)\\\\cake\\\\chocolatecake\\\\chocolatehazelnut')"
   ]
  },
  {
   "cell_type": "code",
   "execution_count": 92,
   "id": "96affdd4",
   "metadata": {},
   "outputs": [],
   "source": [
    "ch1 = pd.read_csv('s1.csv')\n",
    "ch3 = pd.read_csv('s3.csv')\n",
    "ch4 = pd.read_csv('s4.csv')"
   ]
  },
  {
   "cell_type": "code",
   "execution_count": 93,
   "id": "89546dd1",
   "metadata": {},
   "outputs": [],
   "source": [
    "os.chdir('C:\\\\Users\\\\Priyanka G\\\\CAPSTONE_PROJECT_WORK(2022)\\\\cake\\\\chocolatecake\\\\oreochocolate')"
   ]
  },
  {
   "cell_type": "code",
   "execution_count": 94,
   "id": "51a57e68",
   "metadata": {},
   "outputs": [],
   "source": [
    "cho1 = pd.read_csv('s1.csv')\n",
    "cho2 = pd.read_csv('s2.csv')\n",
    "cho3 = pd.read_csv('s3.csv')\n",
    "cho4 = pd.read_csv('s4.csv')"
   ]
  },
  {
   "cell_type": "code",
   "execution_count": 97,
   "id": "bfe55d19",
   "metadata": {},
   "outputs": [],
   "source": [
    "data3 = pd.concat([ch1,ch3,ch4,cho1,cho2,cho3,cho4],axis=0)"
   ]
  },
  {
   "cell_type": "code",
   "execution_count": 99,
   "id": "403605cd",
   "metadata": {},
   "outputs": [],
   "source": [
    "data3 = data3.loc[data3.nwords > 2, :]\n",
    "data3 = data3.loc[data3.nnumbers <= 3, :]\n",
    "data3 = data3.loc[data3.nwords <= 10, :]\n",
    "data3 = data3.drop([\"Sentence\"],axis=1)\n",
    "X_test = data3.drop(\"label\",axis=1)\n",
    "y_test = data3.label\n"
   ]
  },
  {
   "cell_type": "code",
   "execution_count": 100,
   "id": "9ce3a68b",
   "metadata": {},
   "outputs": [
    {
     "name": "stdout",
     "output_type": "stream",
     "text": [
      "[[1221    6]\n",
      " [  12   51]]\n",
      "Prescision :  0.8947368421052632\n",
      "Recall :  0.8095238095238095\n",
      "F1 score :  0.8500000000000001\n"
     ]
    }
   ],
   "source": [
    "pred = model_DT.predict(X_test)\n",
    "\n",
    "from sklearn.metrics import confusion_matrix\n",
    "print(confusion_matrix(y_test, pred))\n",
    "\n",
    "# Finding precision and recall\n",
    "from sklearn.metrics import precision_score, recall_score\n",
    "#precision_score(y_test, pred)\n",
    "print(\"Prescision : \" , precision_score(y_test, pred))\n",
    "print(\"Recall : \" , recall_score(y_test, pred))\n",
    "\n",
    "# To compute the F1 score, simply call the f1_score() function:\n",
    "from sklearn.metrics import f1_score\n",
    "print(\"F1 score : \" ,f1_score(y_test, pred))"
   ]
  },
  {
   "cell_type": "code",
   "execution_count": 101,
   "id": "69eaf9ec",
   "metadata": {},
   "outputs": [
    {
     "name": "stdout",
     "output_type": "stream",
     "text": [
      "[[1224    3]\n",
      " [  11   52]]\n",
      "Prescision :  0.9454545454545454\n",
      "Recall :  0.8253968253968254\n",
      "F1 score :  0.8813559322033897\n"
     ]
    }
   ],
   "source": [
    "pred = randomForest.predict(X_test)\n",
    "\n",
    "from sklearn.metrics import confusion_matrix\n",
    "print(confusion_matrix(y_test, pred))\n",
    "\n",
    "# Finding precision and recall\n",
    "from sklearn.metrics import precision_score, recall_score\n",
    "#precision_score(y_test, pred)\n",
    "print(\"Prescision : \" , precision_score(y_test, pred))\n",
    "print(\"Recall : \" , recall_score(y_test, pred))\n",
    "\n",
    "# To compute the F1 score, simply call the f1_score() function:\n",
    "from sklearn.metrics import f1_score\n",
    "print(\"F1 score : \" ,f1_score(y_test, pred))"
   ]
  },
  {
   "cell_type": "code",
   "execution_count": 102,
   "id": "d768823a",
   "metadata": {},
   "outputs": [
    {
     "name": "stdout",
     "output_type": "stream",
     "text": [
      "[[1222    5]\n",
      " [  14   49]]\n",
      "Prescision :  0.9074074074074074\n",
      "Recall :  0.7777777777777778\n",
      "F1 score :  0.8376068376068377\n"
     ]
    }
   ],
   "source": [
    "pred = clf_AD.predict(X_test)\n",
    "\n",
    "from sklearn.metrics import confusion_matrix\n",
    "print(confusion_matrix(y_test, pred))\n",
    "\n",
    "# Finding precision and recall\n",
    "from sklearn.metrics import precision_score, recall_score\n",
    "#precision_score(y_test, pred)\n",
    "print(\"Prescision : \" , precision_score(y_test, pred))\n",
    "print(\"Recall : \" , recall_score(y_test, pred))\n",
    "\n",
    "# To compute the F1 score, simply call the f1_score() function:\n",
    "from sklearn.metrics import f1_score\n",
    "print(\"F1 score : \" ,f1_score(y_test, pred))"
   ]
  },
  {
   "cell_type": "code",
   "execution_count": 103,
   "id": "2f0a00fd",
   "metadata": {},
   "outputs": [
    {
     "name": "stdout",
     "output_type": "stream",
     "text": [
      "[[1224    3]\n",
      " [  11   52]]\n",
      "Prescision :  0.9454545454545454\n",
      "Recall :  0.8253968253968254\n",
      "F1 score :  0.8813559322033897\n"
     ]
    }
   ],
   "source": [
    "pred = clf_SVM.predict(X_test)\n",
    "\n",
    "from sklearn.metrics import confusion_matrix\n",
    "print(confusion_matrix(y_test, pred))\n",
    "\n",
    "# Finding precision and recall\n",
    "from sklearn.metrics import precision_score, recall_score\n",
    "#precision_score(y_test, pred)\n",
    "print(\"Prescision : \" , precision_score(y_test, pred))\n",
    "print(\"Recall : \" , recall_score(y_test, pred))\n",
    "\n",
    "# To compute the F1 score, simply call the f1_score() function:\n",
    "from sklearn.metrics import f1_score\n",
    "print(\"F1 score : \" ,f1_score(y_test, pred))"
   ]
  },
  {
   "cell_type": "code",
   "execution_count": 104,
   "id": "c4d0e407",
   "metadata": {},
   "outputs": [
    {
     "name": "stdout",
     "output_type": "stream",
     "text": [
      "[[1223    4]\n",
      " [  10   53]]\n",
      "Prescision :  0.9298245614035088\n",
      "Recall :  0.8412698412698413\n",
      "F1 score :  0.8833333333333334\n"
     ]
    }
   ],
   "source": [
    "pred = clf_GBM.predict(X_test)\n",
    "\n",
    "from sklearn.metrics import confusion_matrix\n",
    "print(confusion_matrix(y_test, pred))\n",
    "\n",
    "# Finding precision and recall\n",
    "from sklearn.metrics import precision_score, recall_score\n",
    "#precision_score(y_test, pred)\n",
    "print(\"Prescision : \" , precision_score(y_test, pred))\n",
    "print(\"Recall : \" , recall_score(y_test, pred))\n",
    "\n",
    "# To compute the F1 score, simply call the f1_score() function:\n",
    "from sklearn.metrics import f1_score\n",
    "print(\"F1 score : \" ,f1_score(y_test, pred))"
   ]
  },
  {
   "cell_type": "code",
   "execution_count": 115,
   "id": "65411331",
   "metadata": {},
   "outputs": [],
   "source": [
    "from prettytable import PrettyTable\n",
    " \n",
    "# Specify the Column Names while initializing the Table\n",
    "myTable = PrettyTable([\"Model\",\"Site_Name\", \"Precision\", \"Recall\", \"F1_score\"])\n",
    "\n",
    "\n",
    "myTable.add_row([\"DT\",\"Chocolatecake\", \"0.89\" , \"0.809\" , \"0.850\"])\n",
    "myTable.add_row([\"RF\",\"Chocolatecake\", \"0.94\",\"0.825\", \"0.881\"])\n",
    "myTable.add_row([\"Ada\",\"Chocolatecake\",  \"0.90\",\" 0.77\", \" 0.837\"])\n",
    "myTable.add_row([\"SVM\",\"Chocolatecake\", \"0.945\",\" 0.825\", \"0.881\"])\n",
    "myTable.add_row([\"GBM\",\"Chocolatecake\",\"0.92\",\"0.841\", \"0.883\"])"
   ]
  },
  {
   "cell_type": "code",
   "execution_count": 116,
   "id": "c3a61195",
   "metadata": {},
   "outputs": [
    {
     "data": {
      "text/html": [
       "<table>\n",
       "    <thead>\n",
       "        <tr>\n",
       "            <th>Model</th>\n",
       "            <th>Site_Name</th>\n",
       "            <th>Precision</th>\n",
       "            <th>Recall</th>\n",
       "            <th>F1_score</th>\n",
       "        </tr>\n",
       "    </thead>\n",
       "    <tbody>\n",
       "        <tr>\n",
       "            <td>DT</td>\n",
       "            <td>Chocolatecake</td>\n",
       "            <td>0.89</td>\n",
       "            <td>0.809</td>\n",
       "            <td>0.850</td>\n",
       "        </tr>\n",
       "        <tr>\n",
       "            <td>RF</td>\n",
       "            <td>Chocolatecake</td>\n",
       "            <td>0.94</td>\n",
       "            <td>0.825</td>\n",
       "            <td>0.881</td>\n",
       "        </tr>\n",
       "        <tr>\n",
       "            <td>Ada</td>\n",
       "            <td>Chocolatecake</td>\n",
       "            <td>0.90</td>\n",
       "            <td> 0.77</td>\n",
       "            <td> 0.837</td>\n",
       "        </tr>\n",
       "        <tr>\n",
       "            <td>SVM</td>\n",
       "            <td>Chocolatecake</td>\n",
       "            <td>0.945</td>\n",
       "            <td> 0.825</td>\n",
       "            <td>0.881</td>\n",
       "        </tr>\n",
       "        <tr>\n",
       "            <td>GBM</td>\n",
       "            <td>Chocolatecake</td>\n",
       "            <td>0.92</td>\n",
       "            <td>0.841</td>\n",
       "            <td>0.883</td>\n",
       "        </tr>\n",
       "    </tbody>\n",
       "</table>"
      ],
      "text/plain": [
       "+-------+---------------+-----------+--------+----------+\n",
       "| Model |   Site_Name   | Precision | Recall | F1_score |\n",
       "+-------+---------------+-----------+--------+----------+\n",
       "|   DT  | Chocolatecake |    0.89   | 0.809  |  0.850   |\n",
       "|   RF  | Chocolatecake |    0.94   | 0.825  |  0.881   |\n",
       "|  Ada  | Chocolatecake |    0.90   |  0.77  |   0.837  |\n",
       "|  SVM  | Chocolatecake |   0.945   |  0.825 |  0.881   |\n",
       "|  GBM  | Chocolatecake |    0.92   | 0.841  |  0.883   |\n",
       "+-------+---------------+-----------+--------+----------+"
      ]
     },
     "execution_count": 116,
     "metadata": {},
     "output_type": "execute_result"
    }
   ],
   "source": [
    "myTable"
   ]
  },
  {
   "cell_type": "markdown",
   "id": "b7189db2",
   "metadata": {},
   "source": [
    "### creamcake"
   ]
  },
  {
   "cell_type": "code",
   "execution_count": 118,
   "id": "9aaa6bc3",
   "metadata": {},
   "outputs": [],
   "source": [
    "os.chdir('C:\\\\Users\\\\Priyanka G\\\\CAPSTONE_PROJECT_WORK(2022)\\\\cake\\\\creamcake\\\\rainbow')"
   ]
  },
  {
   "cell_type": "code",
   "execution_count": 119,
   "id": "3c807be9",
   "metadata": {},
   "outputs": [],
   "source": [
    "cra1 = pd.read_csv('s1.csv')\n",
    "cra4 = pd.read_csv('s4.csv')"
   ]
  },
  {
   "cell_type": "code",
   "execution_count": 123,
   "id": "c53e9df5",
   "metadata": {},
   "outputs": [],
   "source": [
    "data4 = pd.concat([cra1,cra4],axis=0)"
   ]
  },
  {
   "cell_type": "code",
   "execution_count": 124,
   "id": "72bfb790",
   "metadata": {},
   "outputs": [],
   "source": [
    "data4 = data4.loc[data4.nwords > 2, :]\n",
    "data4 = data4.loc[data4.nnumbers <= 3, :]\n",
    "data4 = data4.loc[data4.nwords <= 10, :]\n",
    "data4 = data4.drop([\"Sentence\"],axis=1)\n",
    "X_test = data4.drop(\"label\",axis=1)\n",
    "y_test = data4.label\n"
   ]
  },
  {
   "cell_type": "code",
   "execution_count": 125,
   "id": "42fd358f",
   "metadata": {},
   "outputs": [
    {
     "name": "stdout",
     "output_type": "stream",
     "text": [
      "[[228   1]\n",
      " [  6  19]]\n",
      "Prescision :  0.95\n",
      "Recall :  0.76\n",
      "F1 score :  0.8444444444444444\n"
     ]
    }
   ],
   "source": [
    "pred = model_DT.predict(X_test)\n",
    "\n",
    "from sklearn.metrics import confusion_matrix\n",
    "print(confusion_matrix(y_test, pred))\n",
    "\n",
    "# Finding precision and recall\n",
    "from sklearn.metrics import precision_score, recall_score\n",
    "#precision_score(y_test, pred)\n",
    "print(\"Prescision : \" , precision_score(y_test, pred))\n",
    "print(\"Recall : \" , recall_score(y_test, pred))\n",
    "\n",
    "# To compute the F1 score, simply call the f1_score() function:\n",
    "from sklearn.metrics import f1_score\n",
    "print(\"F1 score : \" ,f1_score(y_test, pred))"
   ]
  },
  {
   "cell_type": "code",
   "execution_count": 126,
   "id": "0780aca9",
   "metadata": {},
   "outputs": [
    {
     "name": "stdout",
     "output_type": "stream",
     "text": [
      "[[229   0]\n",
      " [  7  18]]\n",
      "Prescision :  1.0\n",
      "Recall :  0.72\n",
      "F1 score :  0.8372093023255813\n"
     ]
    }
   ],
   "source": [
    "pred = randomForest.predict(X_test)\n",
    "\n",
    "from sklearn.metrics import confusion_matrix\n",
    "print(confusion_matrix(y_test, pred))\n",
    "\n",
    "# Finding precision and recall\n",
    "from sklearn.metrics import precision_score, recall_score\n",
    "#precision_score(y_test, pred)\n",
    "print(\"Prescision : \" , precision_score(y_test, pred))\n",
    "print(\"Recall : \" , recall_score(y_test, pred))\n",
    "\n",
    "# To compute the F1 score, simply call the f1_score() function:\n",
    "from sklearn.metrics import f1_score\n",
    "print(\"F1 score : \" ,f1_score(y_test, pred))"
   ]
  },
  {
   "cell_type": "code",
   "execution_count": 127,
   "id": "c9efffa2",
   "metadata": {},
   "outputs": [
    {
     "name": "stdout",
     "output_type": "stream",
     "text": [
      "[[229   0]\n",
      " [  8  17]]\n",
      "Prescision :  1.0\n",
      "Recall :  0.68\n",
      "F1 score :  0.8095238095238095\n"
     ]
    }
   ],
   "source": [
    "pred = clf_AD.predict(X_test)\n",
    "\n",
    "from sklearn.metrics import confusion_matrix\n",
    "print(confusion_matrix(y_test, pred))\n",
    "\n",
    "# Finding precision and recall\n",
    "from sklearn.metrics import precision_score, recall_score\n",
    "#precision_score(y_test, pred)\n",
    "print(\"Prescision : \" , precision_score(y_test, pred))\n",
    "print(\"Recall : \" , recall_score(y_test, pred))\n",
    "\n",
    "# To compute the F1 score, simply call the f1_score() function:\n",
    "from sklearn.metrics import f1_score\n",
    "print(\"F1 score : \" ,f1_score(y_test, pred))"
   ]
  },
  {
   "cell_type": "code",
   "execution_count": 128,
   "id": "0d74478b",
   "metadata": {},
   "outputs": [
    {
     "name": "stdout",
     "output_type": "stream",
     "text": [
      "[[229   0]\n",
      " [  8  17]]\n",
      "Prescision :  1.0\n",
      "Recall :  0.68\n",
      "F1 score :  0.8095238095238095\n"
     ]
    }
   ],
   "source": [
    "pred = clf_SVM.predict(X_test)\n",
    "\n",
    "from sklearn.metrics import confusion_matrix\n",
    "print(confusion_matrix(y_test, pred))\n",
    "\n",
    "# Finding precision and recall\n",
    "from sklearn.metrics import precision_score, recall_score\n",
    "#precision_score(y_test, pred)\n",
    "print(\"Prescision : \" , precision_score(y_test, pred))\n",
    "print(\"Recall : \" , recall_score(y_test, pred))\n",
    "\n",
    "# To compute the F1 score, simply call the f1_score() function:\n",
    "from sklearn.metrics import f1_score\n",
    "print(\"F1 score : \" ,f1_score(y_test, pred))"
   ]
  },
  {
   "cell_type": "code",
   "execution_count": 129,
   "id": "ea9d1c3c",
   "metadata": {},
   "outputs": [
    {
     "name": "stdout",
     "output_type": "stream",
     "text": [
      "[[229   0]\n",
      " [  7  18]]\n",
      "Prescision :  1.0\n",
      "Recall :  0.72\n",
      "F1 score :  0.8372093023255813\n"
     ]
    }
   ],
   "source": [
    "pred = clf_GBM.predict(X_test)\n",
    "\n",
    "from sklearn.metrics import confusion_matrix\n",
    "print(confusion_matrix(y_test, pred))\n",
    "\n",
    "# Finding precision and recall\n",
    "from sklearn.metrics import precision_score, recall_score\n",
    "#precision_score(y_test, pred)\n",
    "print(\"Prescision : \" , precision_score(y_test, pred))\n",
    "print(\"Recall : \" , recall_score(y_test, pred))\n",
    "\n",
    "# To compute the F1 score, simply call the f1_score() function:\n",
    "from sklearn.metrics import f1_score\n",
    "print(\"F1 score : \" ,f1_score(y_test, pred))"
   ]
  },
  {
   "cell_type": "code",
   "execution_count": 130,
   "id": "775bd3e3",
   "metadata": {},
   "outputs": [],
   "source": [
    "from prettytable import PrettyTable\n",
    " \n",
    "# Specify the Column Names while initializing the Table\n",
    "myTable = PrettyTable([\"Model\",\"Site_Name\", \"Precision\", \"Recall\", \"F1_score\"])\n",
    "\n",
    "\n",
    "myTable.add_row([\"DT\",\"Creamcake\", \"0.95\" , \"0.76\" , \"0.844\"])\n",
    "myTable.add_row([\"RF\",\"Creamcake\", \"1\",\"0.72\", \"0.837\"])\n",
    "myTable.add_row([\"Ada\",\"Creamcake\",  \"1\",\" 0.68\", \" 0.809\"])\n",
    "myTable.add_row([\"SVM\",\"Creamcake\", \"1\",\" 0.68\", \"0.809\"])\n",
    "myTable.add_row([\"GBM\",\"Creamcake\",\"1\",\"0.72\", \"0.837\"])"
   ]
  },
  {
   "cell_type": "code",
   "execution_count": 131,
   "id": "b5f79828",
   "metadata": {},
   "outputs": [
    {
     "data": {
      "text/html": [
       "<table>\n",
       "    <thead>\n",
       "        <tr>\n",
       "            <th>Model</th>\n",
       "            <th>Site_Name</th>\n",
       "            <th>Precision</th>\n",
       "            <th>Recall</th>\n",
       "            <th>F1_score</th>\n",
       "        </tr>\n",
       "    </thead>\n",
       "    <tbody>\n",
       "        <tr>\n",
       "            <td>DT</td>\n",
       "            <td>Creamcake</td>\n",
       "            <td>0.95</td>\n",
       "            <td>0.76</td>\n",
       "            <td>0.844</td>\n",
       "        </tr>\n",
       "        <tr>\n",
       "            <td>RF</td>\n",
       "            <td>Creamcake</td>\n",
       "            <td>1</td>\n",
       "            <td>0.72</td>\n",
       "            <td>0.837</td>\n",
       "        </tr>\n",
       "        <tr>\n",
       "            <td>Ada</td>\n",
       "            <td>Creamcake</td>\n",
       "            <td>1</td>\n",
       "            <td> 0.68</td>\n",
       "            <td> 0.809</td>\n",
       "        </tr>\n",
       "        <tr>\n",
       "            <td>SVM</td>\n",
       "            <td>Creamcake</td>\n",
       "            <td>1</td>\n",
       "            <td> 0.68</td>\n",
       "            <td>0.809</td>\n",
       "        </tr>\n",
       "        <tr>\n",
       "            <td>GBM</td>\n",
       "            <td>Creamcake</td>\n",
       "            <td>1</td>\n",
       "            <td>0.72</td>\n",
       "            <td>0.837</td>\n",
       "        </tr>\n",
       "    </tbody>\n",
       "</table>"
      ],
      "text/plain": [
       "+-------+-----------+-----------+--------+----------+\n",
       "| Model | Site_Name | Precision | Recall | F1_score |\n",
       "+-------+-----------+-----------+--------+----------+\n",
       "|   DT  | Creamcake |    0.95   |  0.76  |  0.844   |\n",
       "|   RF  | Creamcake |     1     |  0.72  |  0.837   |\n",
       "|  Ada  | Creamcake |     1     |  0.68  |   0.809  |\n",
       "|  SVM  | Creamcake |     1     |  0.68  |  0.809   |\n",
       "|  GBM  | Creamcake |     1     |  0.72  |  0.837   |\n",
       "+-------+-----------+-----------+--------+----------+"
      ]
     },
     "execution_count": 131,
     "metadata": {},
     "output_type": "execute_result"
    }
   ],
   "source": [
    "myTable"
   ]
  },
  {
   "cell_type": "markdown",
   "id": "8faa87a0",
   "metadata": {},
   "source": [
    "### custard cake "
   ]
  },
  {
   "cell_type": "code",
   "execution_count": 148,
   "id": "e8673cf8",
   "metadata": {},
   "outputs": [],
   "source": [
    "os.chdir('C:\\\\Users\\\\Priyanka G\\\\CAPSTONE_PROJECT_WORK(2022)\\\\cake\\\\custardcake\\\\caramelcustard')"
   ]
  },
  {
   "cell_type": "code",
   "execution_count": 149,
   "id": "6d037134",
   "metadata": {},
   "outputs": [],
   "source": [
    "cracus1 = pd.read_csv('s1.csv')\n",
    "cracus2 = pd.read_csv('s2.csv')"
   ]
  },
  {
   "cell_type": "code",
   "execution_count": 150,
   "id": "c00b71b2",
   "metadata": {},
   "outputs": [],
   "source": [
    "data5 = pd.concat([cracus1,cracus2],axis=0)"
   ]
  },
  {
   "cell_type": "code",
   "execution_count": 151,
   "id": "49a8a408",
   "metadata": {},
   "outputs": [],
   "source": [
    "data5 = data5.loc[data5.nwords > 2, :]\n",
    "data5 = data5.loc[data5.nnumbers <= 3, :]\n",
    "data5 = data5.loc[data5.nwords <= 10, :]\n",
    "data5 = data5.drop([\"Sentence\"],axis=1)\n",
    "X_test = data5.drop(\"label\",axis=1)\n",
    "y_test = data5.label\n"
   ]
  },
  {
   "cell_type": "code",
   "execution_count": 152,
   "id": "0ae6d8e2",
   "metadata": {},
   "outputs": [
    {
     "name": "stdout",
     "output_type": "stream",
     "text": [
      "[[398   0]\n",
      " [  5   4]]\n",
      "Prescision :  1.0\n",
      "Recall :  0.4444444444444444\n",
      "F1 score :  0.6153846153846153\n"
     ]
    }
   ],
   "source": [
    "pred = model_DT.predict(X_test)\n",
    "\n",
    "from sklearn.metrics import confusion_matrix\n",
    "print(confusion_matrix(y_test, pred))\n",
    "\n",
    "# Finding precision and recall\n",
    "from sklearn.metrics import precision_score, recall_score\n",
    "#precision_score(y_test, pred)\n",
    "print(\"Prescision : \" , precision_score(y_test, pred))\n",
    "print(\"Recall : \" , recall_score(y_test, pred))\n",
    "\n",
    "# To compute the F1 score, simply call the f1_score() function:\n",
    "from sklearn.metrics import f1_score\n",
    "print(\"F1 score : \" ,f1_score(y_test, pred))"
   ]
  },
  {
   "cell_type": "code",
   "execution_count": 142,
   "id": "fedc4960",
   "metadata": {},
   "outputs": [
    {
     "name": "stdout",
     "output_type": "stream",
     "text": [
      "[[397   1]\n",
      " [  2   7]]\n",
      "Prescision :  0.875\n",
      "Recall :  0.7777777777777778\n",
      "F1 score :  0.823529411764706\n"
     ]
    }
   ],
   "source": [
    "pred = randomForest.predict(X_test)\n",
    "\n",
    "from sklearn.metrics import confusion_matrix\n",
    "print(confusion_matrix(y_test, pred))\n",
    "\n",
    "# Finding precision and recall\n",
    "from sklearn.metrics import precision_score, recall_score\n",
    "#precision_score(y_test, pred)\n",
    "print(\"Prescision : \" , precision_score(y_test, pred))\n",
    "print(\"Recall : \" , recall_score(y_test, pred))\n",
    "\n",
    "# To compute the F1 score, simply call the f1_score() function:\n",
    "from sklearn.metrics import f1_score\n",
    "print(\"F1 score : \" ,f1_score(y_test, pred))"
   ]
  },
  {
   "cell_type": "code",
   "execution_count": 143,
   "id": "ebff0323",
   "metadata": {},
   "outputs": [
    {
     "name": "stdout",
     "output_type": "stream",
     "text": [
      "[[397   1]\n",
      " [  3   6]]\n",
      "Prescision :  0.8571428571428571\n",
      "Recall :  0.6666666666666666\n",
      "F1 score :  0.75\n"
     ]
    }
   ],
   "source": [
    "pred = clf_AD.predict(X_test)\n",
    "\n",
    "from sklearn.metrics import confusion_matrix\n",
    "print(confusion_matrix(y_test, pred))\n",
    "\n",
    "# Finding precision and recall\n",
    "from sklearn.metrics import precision_score, recall_score\n",
    "#precision_score(y_test, pred)\n",
    "print(\"Prescision : \" , precision_score(y_test, pred))\n",
    "print(\"Recall : \" , recall_score(y_test, pred))\n",
    "\n",
    "# To compute the F1 score, simply call the f1_score() function:\n",
    "from sklearn.metrics import f1_score\n",
    "print(\"F1 score : \" ,f1_score(y_test, pred))"
   ]
  },
  {
   "cell_type": "code",
   "execution_count": 144,
   "id": "d9d397a6",
   "metadata": {},
   "outputs": [
    {
     "name": "stdout",
     "output_type": "stream",
     "text": [
      "[[397   1]\n",
      " [  2   7]]\n",
      "Prescision :  0.875\n",
      "Recall :  0.7777777777777778\n",
      "F1 score :  0.823529411764706\n"
     ]
    }
   ],
   "source": [
    "pred = clf_SVM.predict(X_test)\n",
    "\n",
    "from sklearn.metrics import confusion_matrix\n",
    "print(confusion_matrix(y_test, pred))\n",
    "\n",
    "# Finding precision and recall\n",
    "from sklearn.metrics import precision_score, recall_score\n",
    "#precision_score(y_test, pred)\n",
    "print(\"Prescision : \" , precision_score(y_test, pred))\n",
    "print(\"Recall : \" , recall_score(y_test, pred))\n",
    "\n",
    "# To compute the F1 score, simply call the f1_score() function:\n",
    "from sklearn.metrics import f1_score\n",
    "print(\"F1 score : \" ,f1_score(y_test, pred))"
   ]
  },
  {
   "cell_type": "code",
   "execution_count": 145,
   "id": "bba474d1",
   "metadata": {},
   "outputs": [
    {
     "name": "stdout",
     "output_type": "stream",
     "text": [
      "[[397   1]\n",
      " [  2   7]]\n",
      "Prescision :  0.875\n",
      "Recall :  0.7777777777777778\n",
      "F1 score :  0.823529411764706\n"
     ]
    }
   ],
   "source": [
    "pred = clf_GBM.predict(X_test)\n",
    "\n",
    "from sklearn.metrics import confusion_matrix\n",
    "print(confusion_matrix(y_test, pred))\n",
    "\n",
    "# Finding precision and recall\n",
    "from sklearn.metrics import precision_score, recall_score\n",
    "#precision_score(y_test, pred)\n",
    "print(\"Prescision : \" , precision_score(y_test, pred))\n",
    "print(\"Recall : \" , recall_score(y_test, pred))\n",
    "\n",
    "# To compute the F1 score, simply call the f1_score() function:\n",
    "from sklearn.metrics import f1_score\n",
    "print(\"F1 score : \" ,f1_score(y_test, pred))"
   ]
  },
  {
   "cell_type": "code",
   "execution_count": 172,
   "id": "adb02aa1",
   "metadata": {},
   "outputs": [],
   "source": [
    "from prettytable import PrettyTable\n",
    " \n",
    "# Specify the Column Names while initializing the Table\n",
    "myTable = PrettyTable([\"Model\",\"Site_Name\", \"Precision\", \"Recall\", \"F1_score\"])\n",
    "\n",
    "\n",
    "myTable.add_row([\"DT\",\"Custardcake\", \"1\" , \"0.44\" , \"0.615\"])\n",
    "myTable.add_row([\"RF\",\"Custardcake\", \"0.875\",\"0.77\", \"0.823\"])\n",
    "myTable.add_row([\"Ada\",\"Custardcake\",  \"0.85\",\" 0.66\", \" 0.75\"])\n",
    "myTable.add_row([\"SVM\",\"Custardcake\", \"0.875\",\" 0.77\", \"0.823\"])\n",
    "myTable.add_row([\"GBM\",\"Custardcake\",\"0.875\",\"0.77\", \"0.823\"])"
   ]
  },
  {
   "cell_type": "code",
   "execution_count": null,
   "id": "a3ae5c17",
   "metadata": {},
   "outputs": [],
   "source": [
    "Prescision :  1.0\n",
    "Recall :  0.4444444444444444\n",
    "F1 score :  0.6153846153846153"
   ]
  },
  {
   "cell_type": "code",
   "execution_count": 173,
   "id": "5aa4851f",
   "metadata": {},
   "outputs": [
    {
     "data": {
      "text/html": [
       "<table>\n",
       "    <thead>\n",
       "        <tr>\n",
       "            <th>Model</th>\n",
       "            <th>Site_Name</th>\n",
       "            <th>Precision</th>\n",
       "            <th>Recall</th>\n",
       "            <th>F1_score</th>\n",
       "        </tr>\n",
       "    </thead>\n",
       "    <tbody>\n",
       "        <tr>\n",
       "            <td>DT</td>\n",
       "            <td>Custardcake</td>\n",
       "            <td>1</td>\n",
       "            <td>0.44</td>\n",
       "            <td>0.615</td>\n",
       "        </tr>\n",
       "        <tr>\n",
       "            <td>RF</td>\n",
       "            <td>Custardcake</td>\n",
       "            <td>0.875</td>\n",
       "            <td>0.77</td>\n",
       "            <td>0.823</td>\n",
       "        </tr>\n",
       "        <tr>\n",
       "            <td>Ada</td>\n",
       "            <td>Custardcake</td>\n",
       "            <td>0.85</td>\n",
       "            <td> 0.66</td>\n",
       "            <td> 0.75</td>\n",
       "        </tr>\n",
       "        <tr>\n",
       "            <td>SVM</td>\n",
       "            <td>Custardcake</td>\n",
       "            <td>0.875</td>\n",
       "            <td> 0.77</td>\n",
       "            <td>0.823</td>\n",
       "        </tr>\n",
       "        <tr>\n",
       "            <td>GBM</td>\n",
       "            <td>Custardcake</td>\n",
       "            <td>0.875</td>\n",
       "            <td>0.77</td>\n",
       "            <td>0.823</td>\n",
       "        </tr>\n",
       "    </tbody>\n",
       "</table>"
      ],
      "text/plain": [
       "+-------+-------------+-----------+--------+----------+\n",
       "| Model |  Site_Name  | Precision | Recall | F1_score |\n",
       "+-------+-------------+-----------+--------+----------+\n",
       "|   DT  | Custardcake |     1     |  0.44  |  0.615   |\n",
       "|   RF  | Custardcake |   0.875   |  0.77  |  0.823   |\n",
       "|  Ada  | Custardcake |    0.85   |  0.66  |   0.75   |\n",
       "|  SVM  | Custardcake |   0.875   |  0.77  |  0.823   |\n",
       "|  GBM  | Custardcake |   0.875   |  0.77  |  0.823   |\n",
       "+-------+-------------+-----------+--------+----------+"
      ]
     },
     "execution_count": 173,
     "metadata": {},
     "output_type": "execute_result"
    }
   ],
   "source": [
    "myTable"
   ]
  },
  {
   "cell_type": "markdown",
   "id": "e468f516",
   "metadata": {},
   "source": [
    "### fruit cake"
   ]
  },
  {
   "cell_type": "code",
   "execution_count": 163,
   "id": "7b0d0428",
   "metadata": {},
   "outputs": [],
   "source": [
    "os.chdir('C:\\\\Users\\\\Priyanka G\\\\CAPSTONE_PROJECT_WORK(2022)\\\\cake\\\\fruitcake\\\\mixedfruit')"
   ]
  },
  {
   "cell_type": "code",
   "execution_count": 164,
   "id": "5fd5b2a5",
   "metadata": {},
   "outputs": [],
   "source": [
    "fm1 = pd.read_csv('s1.csv')\n",
    "fm2 = pd.read_csv('s2.csv')\n",
    "fm3 = pd.read_csv('s3.csv')\n",
    "fm4 = pd.read_csv('s4.csv')"
   ]
  },
  {
   "cell_type": "code",
   "execution_count": 165,
   "id": "c82e0410",
   "metadata": {},
   "outputs": [],
   "source": [
    "data6 = pd.concat([fm1,fm2,fm3,fm4],axis=0)"
   ]
  },
  {
   "cell_type": "code",
   "execution_count": 166,
   "id": "3066a0ff",
   "metadata": {},
   "outputs": [],
   "source": [
    "data6 = data6.loc[data6.nwords > 2, :]\n",
    "data6 = data6.loc[data6.nnumbers <= 3, :]\n",
    "data6 = data6.loc[data6.nwords <= 10, :]\n",
    "data6 = data6.drop([\"Sentence\"],axis=1)\n",
    "X_test = data6.drop(\"label\",axis=1)\n",
    "y_test = data6.label\n"
   ]
  },
  {
   "cell_type": "code",
   "execution_count": 167,
   "id": "f288dc46",
   "metadata": {},
   "outputs": [
    {
     "name": "stdout",
     "output_type": "stream",
     "text": [
      "[[1051    1]\n",
      " [   7   36]]\n",
      "Prescision :  0.972972972972973\n",
      "Recall :  0.8372093023255814\n",
      "F1 score :  0.9\n"
     ]
    }
   ],
   "source": [
    "pred = model_DT.predict(X_test)\n",
    "\n",
    "from sklearn.metrics import confusion_matrix\n",
    "print(confusion_matrix(y_test, pred))\n",
    "\n",
    "# Finding precision and recall\n",
    "from sklearn.metrics import precision_score, recall_score\n",
    "#precision_score(y_test, pred)\n",
    "print(\"Prescision : \" , precision_score(y_test, pred))\n",
    "print(\"Recall : \" , recall_score(y_test, pred))\n",
    "\n",
    "# To compute the F1 score, simply call the f1_score() function:\n",
    "from sklearn.metrics import f1_score\n",
    "print(\"F1 score : \" ,f1_score(y_test, pred))"
   ]
  },
  {
   "cell_type": "code",
   "execution_count": 168,
   "id": "81f2f87c",
   "metadata": {},
   "outputs": [
    {
     "name": "stdout",
     "output_type": "stream",
     "text": [
      "[[1051    1]\n",
      " [   6   37]]\n",
      "Prescision :  0.9736842105263158\n",
      "Recall :  0.8604651162790697\n",
      "F1 score :  0.9135802469135803\n"
     ]
    }
   ],
   "source": [
    "pred = randomForest.predict(X_test)\n",
    "\n",
    "from sklearn.metrics import confusion_matrix\n",
    "print(confusion_matrix(y_test, pred))\n",
    "\n",
    "# Finding precision and recall\n",
    "from sklearn.metrics import precision_score, recall_score\n",
    "#precision_score(y_test, pred)\n",
    "print(\"Prescision : \" , precision_score(y_test, pred))\n",
    "print(\"Recall : \" , recall_score(y_test, pred))\n",
    "\n",
    "# To compute the F1 score, simply call the f1_score() function:\n",
    "from sklearn.metrics import f1_score\n",
    "print(\"F1 score : \" ,f1_score(y_test, pred))"
   ]
  },
  {
   "cell_type": "code",
   "execution_count": 169,
   "id": "64b78721",
   "metadata": {},
   "outputs": [
    {
     "name": "stdout",
     "output_type": "stream",
     "text": [
      "[[1050    2]\n",
      " [   6   37]]\n",
      "Prescision :  0.9487179487179487\n",
      "Recall :  0.8604651162790697\n",
      "F1 score :  0.9024390243902439\n"
     ]
    }
   ],
   "source": [
    "pred = clf_AD.predict(X_test)\n",
    "\n",
    "from sklearn.metrics import confusion_matrix\n",
    "print(confusion_matrix(y_test, pred))\n",
    "\n",
    "# Finding precision and recall\n",
    "from sklearn.metrics import precision_score, recall_score\n",
    "#precision_score(y_test, pred)\n",
    "print(\"Prescision : \" , precision_score(y_test, pred))\n",
    "print(\"Recall : \" , recall_score(y_test, pred))\n",
    "\n",
    "# To compute the F1 score, simply call the f1_score() function:\n",
    "from sklearn.metrics import f1_score\n",
    "print(\"F1 score : \" ,f1_score(y_test, pred))"
   ]
  },
  {
   "cell_type": "code",
   "execution_count": 170,
   "id": "f53e6df6",
   "metadata": {},
   "outputs": [
    {
     "name": "stdout",
     "output_type": "stream",
     "text": [
      "[[1050    2]\n",
      " [   6   37]]\n",
      "Prescision :  0.9487179487179487\n",
      "Recall :  0.8604651162790697\n",
      "F1 score :  0.9024390243902439\n"
     ]
    }
   ],
   "source": [
    "pred = clf_SVM.predict(X_test)\n",
    "\n",
    "from sklearn.metrics import confusion_matrix\n",
    "print(confusion_matrix(y_test, pred))\n",
    "\n",
    "# Finding precision and recall\n",
    "from sklearn.metrics import precision_score, recall_score\n",
    "#precision_score(y_test, pred)\n",
    "print(\"Prescision : \" , precision_score(y_test, pred))\n",
    "print(\"Recall : \" , recall_score(y_test, pred))\n",
    "\n",
    "# To compute the F1 score, simply call the f1_score() function:\n",
    "from sklearn.metrics import f1_score\n",
    "print(\"F1 score : \" ,f1_score(y_test, pred))"
   ]
  },
  {
   "cell_type": "code",
   "execution_count": 171,
   "id": "0567ce8e",
   "metadata": {},
   "outputs": [
    {
     "name": "stdout",
     "output_type": "stream",
     "text": [
      "[[1050    2]\n",
      " [   6   37]]\n",
      "Prescision :  0.9487179487179487\n",
      "Recall :  0.8604651162790697\n",
      "F1 score :  0.9024390243902439\n"
     ]
    }
   ],
   "source": [
    "pred = clf_GBM.predict(X_test)\n",
    "\n",
    "from sklearn.metrics import confusion_matrix\n",
    "print(confusion_matrix(y_test, pred))\n",
    "\n",
    "# Finding precision and recall\n",
    "from sklearn.metrics import precision_score, recall_score\n",
    "#precision_score(y_test, pred)\n",
    "print(\"Prescision : \" , precision_score(y_test, pred))\n",
    "print(\"Recall : \" , recall_score(y_test, pred))\n",
    "\n",
    "# To compute the F1 score, simply call the f1_score() function:\n",
    "from sklearn.metrics import f1_score\n",
    "print(\"F1 score : \" ,f1_score(y_test, pred))"
   ]
  },
  {
   "cell_type": "code",
   "execution_count": null,
   "id": "d29fead3",
   "metadata": {},
   "outputs": [],
   "source": [
    "Prescision :  0.972972972972973\n",
    "Recall :  0.8372093023255814\n",
    "F1 score :  0.9\n",
    "    \n",
    "Prescision :  0.9736842105263158\n",
    "Recall :  0.8604651162790697\n",
    "F1 score :  0.9135802469135803\n",
    "    \n",
    "Prescision :  0.9487179487179487\n",
    "Recall :  0.8604651162790697\n",
    "F1 score :  0.9024390243902439\n",
    "    \n",
    "Prescision :  0.9487179487179487\n",
    "Recall :  0.8604651162790697\n",
    "F1 score :  0.9024390243902439"
   ]
  },
  {
   "cell_type": "code",
   "execution_count": 176,
   "id": "2199a558",
   "metadata": {},
   "outputs": [],
   "source": [
    "from prettytable import PrettyTable\n",
    " \n",
    "# Specify the Column Names while initializing the Table\n",
    "myTable = PrettyTable([\"Model\",\"Site_Name\", \"Precision\", \"Recall\", \"F1_score\"])\n",
    "\n",
    "\n",
    "myTable.add_row([\"DT\",\"Fruitcake\", \"0.97\" , \"0.837\" , \"0.90\"])\n",
    "myTable.add_row([\"RF\",\"Fruitcake\", \"0.97\",\"0.860\", \"0.91\"])\n",
    "myTable.add_row([\"Ada\",\"Fruitcake\",  \"0.94\",\" 0.860\", \" 0.90\"])\n",
    "myTable.add_row([\"SVM\",\"Fruitcake\", \"0.94\",\" 0.860\", \"0.90\"])\n",
    "myTable.add_row([\"GBM\",\"Fruitcake\",\"0.94\",\"0.960\", \"0.90\"])"
   ]
  },
  {
   "cell_type": "code",
   "execution_count": 177,
   "id": "66c8e9b5",
   "metadata": {},
   "outputs": [
    {
     "data": {
      "text/html": [
       "<table>\n",
       "    <thead>\n",
       "        <tr>\n",
       "            <th>Model</th>\n",
       "            <th>Site_Name</th>\n",
       "            <th>Precision</th>\n",
       "            <th>Recall</th>\n",
       "            <th>F1_score</th>\n",
       "        </tr>\n",
       "    </thead>\n",
       "    <tbody>\n",
       "        <tr>\n",
       "            <td>DT</td>\n",
       "            <td>Fruitcake</td>\n",
       "            <td>0.97</td>\n",
       "            <td>0.837</td>\n",
       "            <td>0.90</td>\n",
       "        </tr>\n",
       "        <tr>\n",
       "            <td>RF</td>\n",
       "            <td>Fruitcake</td>\n",
       "            <td>0.97</td>\n",
       "            <td>0.860</td>\n",
       "            <td>0.91</td>\n",
       "        </tr>\n",
       "        <tr>\n",
       "            <td>Ada</td>\n",
       "            <td>Fruitcake</td>\n",
       "            <td>0.94</td>\n",
       "            <td> 0.860</td>\n",
       "            <td> 0.90</td>\n",
       "        </tr>\n",
       "        <tr>\n",
       "            <td>SVM</td>\n",
       "            <td>Fruitcake</td>\n",
       "            <td>0.94</td>\n",
       "            <td> 0.860</td>\n",
       "            <td>0.90</td>\n",
       "        </tr>\n",
       "        <tr>\n",
       "            <td>GBM</td>\n",
       "            <td>Fruitcake</td>\n",
       "            <td>0.94</td>\n",
       "            <td>0.960</td>\n",
       "            <td>0.90</td>\n",
       "        </tr>\n",
       "    </tbody>\n",
       "</table>"
      ],
      "text/plain": [
       "+-------+-----------+-----------+--------+----------+\n",
       "| Model | Site_Name | Precision | Recall | F1_score |\n",
       "+-------+-----------+-----------+--------+----------+\n",
       "|   DT  | Fruitcake |    0.97   | 0.837  |   0.90   |\n",
       "|   RF  | Fruitcake |    0.97   | 0.860  |   0.91   |\n",
       "|  Ada  | Fruitcake |    0.94   |  0.860 |   0.90   |\n",
       "|  SVM  | Fruitcake |    0.94   |  0.860 |   0.90   |\n",
       "|  GBM  | Fruitcake |    0.94   | 0.960  |   0.90   |\n",
       "+-------+-----------+-----------+--------+----------+"
      ]
     },
     "execution_count": 177,
     "metadata": {},
     "output_type": "execute_result"
    }
   ],
   "source": [
    "myTable"
   ]
  },
  {
   "cell_type": "markdown",
   "id": "63c233fa",
   "metadata": {},
   "source": [
    "### moussecake"
   ]
  },
  {
   "cell_type": "code",
   "execution_count": 179,
   "id": "695024bf",
   "metadata": {},
   "outputs": [],
   "source": [
    "os.chdir('C:\\\\Users\\\\Priyanka G\\\\CAPSTONE_PROJECT_WORK(2022)\\\\cake\\\\moussecake\\\\ferrero rocher')"
   ]
  },
  {
   "cell_type": "code",
   "execution_count": 180,
   "id": "56ffb491",
   "metadata": {},
   "outputs": [],
   "source": [
    "mf1 = pd.read_csv('s1.csv')\n",
    "mf3 = pd.read_csv('s3.csv')\n",
    "mf4 = pd.read_csv('s4.csv')"
   ]
  },
  {
   "cell_type": "code",
   "execution_count": 181,
   "id": "7db6beed",
   "metadata": {},
   "outputs": [],
   "source": [
    "os.chdir('C:\\\\Users\\\\Priyanka G\\\\CAPSTONE_PROJECT_WORK(2022)\\\\cake\\\\moussecake\\\\orange')"
   ]
  },
  {
   "cell_type": "code",
   "execution_count": 182,
   "id": "04a17cb1",
   "metadata": {},
   "outputs": [],
   "source": [
    "or1 = pd.read_csv('s1.csv')\n",
    "or2 = pd.read_csv('s2.csv')\n",
    "or3 = pd.read_csv('s3.csv')\n",
    "or4 = pd.read_csv('s4.csv')"
   ]
  },
  {
   "cell_type": "code",
   "execution_count": 183,
   "id": "90195042",
   "metadata": {},
   "outputs": [],
   "source": [
    "os.chdir('C:\\\\Users\\\\Priyanka G\\\\CAPSTONE_PROJECT_WORK(2022)\\\\cake\\\\moussecake\\\\yogurt')"
   ]
  },
  {
   "cell_type": "code",
   "execution_count": 184,
   "id": "d69c9018",
   "metadata": {},
   "outputs": [],
   "source": [
    "yo1 = pd.read_csv('s1.csv')\n",
    "yo2 = pd.read_csv('s2.csv')\n",
    "yo3 = pd.read_csv('s3.csv')\n",
    "yo4 = pd.read_csv('s4.csv')"
   ]
  },
  {
   "cell_type": "code",
   "execution_count": 188,
   "id": "ca1236c1",
   "metadata": {},
   "outputs": [],
   "source": [
    "data7 = pd.concat([mf1,mf3,mf4,or1,or2,or3,or4,yo1,yo2,yo3,yo4],axis=0)"
   ]
  },
  {
   "cell_type": "code",
   "execution_count": 189,
   "id": "50c9d80a",
   "metadata": {},
   "outputs": [],
   "source": [
    "data7 = data7.loc[data7.nwords > 2, :]\n",
    "data7 = data7.loc[data7.nnumbers <= 3, :]\n",
    "data7 = data7.loc[data7.nwords <= 10, :]\n",
    "data7 = data7.drop([\"Sentence\"],axis=1)\n",
    "X_test = data7.drop(\"label\",axis=1)\n",
    "y_test = data7.label\n"
   ]
  },
  {
   "cell_type": "code",
   "execution_count": 190,
   "id": "5c4ce890",
   "metadata": {},
   "outputs": [
    {
     "name": "stdout",
     "output_type": "stream",
     "text": [
      "[[1503   17]\n",
      " [  47   38]]\n",
      "Prescision :  0.6909090909090909\n",
      "Recall :  0.4470588235294118\n",
      "F1 score :  0.5428571428571429\n"
     ]
    }
   ],
   "source": [
    "pred = model_DT.predict(X_test)\n",
    "\n",
    "from sklearn.metrics import confusion_matrix\n",
    "print(confusion_matrix(y_test, pred))\n",
    "\n",
    "# Finding precision and recall\n",
    "from sklearn.metrics import precision_score, recall_score\n",
    "#precision_score(y_test, pred)\n",
    "print(\"Prescision : \" , precision_score(y_test, pred))\n",
    "print(\"Recall : \" , recall_score(y_test, pred))\n",
    "\n",
    "# To compute the F1 score, simply call the f1_score() function:\n",
    "from sklearn.metrics import f1_score\n",
    "print(\"F1 score : \" ,f1_score(y_test, pred))"
   ]
  },
  {
   "cell_type": "code",
   "execution_count": 191,
   "id": "e3ffb0be",
   "metadata": {},
   "outputs": [
    {
     "name": "stdout",
     "output_type": "stream",
     "text": [
      "[[1509   11]\n",
      " [  58   27]]\n",
      "Prescision :  0.7105263157894737\n",
      "Recall :  0.3176470588235294\n",
      "F1 score :  0.43902439024390244\n"
     ]
    }
   ],
   "source": [
    "pred = randomForest.predict(X_test)\n",
    "\n",
    "from sklearn.metrics import confusion_matrix\n",
    "print(confusion_matrix(y_test, pred))\n",
    "\n",
    "# Finding precision and recall\n",
    "from sklearn.metrics import precision_score, recall_score\n",
    "#precision_score(y_test, pred)\n",
    "print(\"Prescision : \" , precision_score(y_test, pred))\n",
    "print(\"Recall : \" , recall_score(y_test, pred))\n",
    "\n",
    "# To compute the F1 score, simply call the f1_score() function:\n",
    "from sklearn.metrics import f1_score\n",
    "print(\"F1 score : \" ,f1_score(y_test, pred))"
   ]
  },
  {
   "cell_type": "code",
   "execution_count": 192,
   "id": "12d38136",
   "metadata": {},
   "outputs": [
    {
     "name": "stdout",
     "output_type": "stream",
     "text": [
      "[[1511    9]\n",
      " [  63   22]]\n",
      "Prescision :  0.7096774193548387\n",
      "Recall :  0.25882352941176473\n",
      "F1 score :  0.37931034482758624\n"
     ]
    }
   ],
   "source": [
    "pred = clf_AD.predict(X_test)\n",
    "\n",
    "from sklearn.metrics import confusion_matrix\n",
    "print(confusion_matrix(y_test, pred))\n",
    "\n",
    "# Finding precision and recall\n",
    "from sklearn.metrics import precision_score, recall_score\n",
    "#precision_score(y_test, pred)\n",
    "print(\"Prescision : \" , precision_score(y_test, pred))\n",
    "print(\"Recall : \" , recall_score(y_test, pred))\n",
    "\n",
    "# To compute the F1 score, simply call the f1_score() function:\n",
    "from sklearn.metrics import f1_score\n",
    "print(\"F1 score : \" ,f1_score(y_test, pred))"
   ]
  },
  {
   "cell_type": "code",
   "execution_count": 193,
   "id": "1184a0f5",
   "metadata": {},
   "outputs": [
    {
     "name": "stdout",
     "output_type": "stream",
     "text": [
      "[[1510   10]\n",
      " [  60   25]]\n",
      "Prescision :  0.7142857142857143\n",
      "Recall :  0.29411764705882354\n",
      "F1 score :  0.4166666666666667\n"
     ]
    }
   ],
   "source": [
    "pred = clf_SVM.predict(X_test)\n",
    "\n",
    "from sklearn.metrics import confusion_matrix\n",
    "print(confusion_matrix(y_test, pred))\n",
    "\n",
    "# Finding precision and recall\n",
    "from sklearn.metrics import precision_score, recall_score\n",
    "#precision_score(y_test, pred)\n",
    "print(\"Prescision : \" , precision_score(y_test, pred))\n",
    "print(\"Recall : \" , recall_score(y_test, pred))\n",
    "\n",
    "# To compute the F1 score, simply call the f1_score() function:\n",
    "from sklearn.metrics import f1_score\n",
    "print(\"F1 score : \" ,f1_score(y_test, pred))"
   ]
  },
  {
   "cell_type": "code",
   "execution_count": 194,
   "id": "e58e0fe9",
   "metadata": {},
   "outputs": [
    {
     "name": "stdout",
     "output_type": "stream",
     "text": [
      "[[1511    9]\n",
      " [  60   25]]\n",
      "Prescision :  0.7352941176470589\n",
      "Recall :  0.29411764705882354\n",
      "F1 score :  0.4201680672268907\n"
     ]
    }
   ],
   "source": [
    "pred = clf_GBM.predict(X_test)\n",
    "\n",
    "from sklearn.metrics import confusion_matrix\n",
    "print(confusion_matrix(y_test, pred))\n",
    "\n",
    "# Finding precision and recall\n",
    "from sklearn.metrics import precision_score, recall_score\n",
    "#precision_score(y_test, pred)\n",
    "print(\"Prescision : \" , precision_score(y_test, pred))\n",
    "print(\"Recall : \" , recall_score(y_test, pred))\n",
    "\n",
    "# To compute the F1 score, simply call the f1_score() function:\n",
    "from sklearn.metrics import f1_score\n",
    "print(\"F1 score : \" ,f1_score(y_test, pred))"
   ]
  },
  {
   "cell_type": "code",
   "execution_count": null,
   "id": "9a9fb425",
   "metadata": {},
   "outputs": [],
   "source": []
  },
  {
   "cell_type": "code",
   "execution_count": null,
   "id": "a1ad6eea",
   "metadata": {},
   "outputs": [],
   "source": []
  },
  {
   "cell_type": "code",
   "execution_count": null,
   "id": "636e4e07",
   "metadata": {},
   "outputs": [],
   "source": []
  },
  {
   "cell_type": "markdown",
   "id": "0eb5b12f",
   "metadata": {},
   "source": [
    "### Pastry"
   ]
  },
  {
   "cell_type": "code",
   "execution_count": 195,
   "id": "be58b5de",
   "metadata": {},
   "outputs": [],
   "source": [
    "os.chdir('C:\\\\Users\\\\Priyanka G\\\\CAPSTONE_PROJECT_WORK(2022)\\\\cake\\\\pastry\\\\almonddelight')"
   ]
  },
  {
   "cell_type": "code",
   "execution_count": 196,
   "id": "7f7d8ee3",
   "metadata": {},
   "outputs": [],
   "source": [
    "r1 = pd.read_csv('s1.csv')\n",
    "r2 = pd.read_csv('s2.csv')\n",
    "r3 = pd.read_csv('s3.csv')\n",
    "r4 = pd.read_csv('s4.csv')"
   ]
  },
  {
   "cell_type": "code",
   "execution_count": 197,
   "id": "ec727425",
   "metadata": {},
   "outputs": [],
   "source": [
    "os.chdir('C:\\\\Users\\\\Priyanka G\\\\CAPSTONE_PROJECT_WORK(2022)\\\\cake\\\\pastry\\\\deathbychocolate')"
   ]
  },
  {
   "cell_type": "code",
   "execution_count": 198,
   "id": "c32f37a8",
   "metadata": {},
   "outputs": [],
   "source": [
    "rr1 = pd.read_csv('s1.csv')\n",
    "rr2 = pd.read_csv('s2.csv')\n",
    "rr3 = pd.read_csv('s3.csv')\n",
    "rr4 = pd.read_csv('s4.csv')"
   ]
  },
  {
   "cell_type": "code",
   "execution_count": 199,
   "id": "d652ba25",
   "metadata": {},
   "outputs": [],
   "source": [
    "os.chdir('C:\\\\Users\\\\Priyanka G\\\\CAPSTONE_PROJECT_WORK(2022)\\\\cake\\\\pastry\\\\rainbow')"
   ]
  },
  {
   "cell_type": "code",
   "execution_count": 200,
   "id": "d1f86277",
   "metadata": {},
   "outputs": [],
   "source": [
    "rrr1 = pd.read_csv('s1.csv')\n",
    "rrr2 = pd.read_csv('s2.csv')\n",
    "rrr3 = pd.read_csv('s3.csv')\n"
   ]
  },
  {
   "cell_type": "code",
   "execution_count": 202,
   "id": "896f25f6",
   "metadata": {},
   "outputs": [],
   "source": [
    "os.chdir('C:\\\\Users\\\\Priyanka G\\\\CAPSTONE_PROJECT_WORK(2022)\\\\cake\\\\pastry\\\\rasmalai')"
   ]
  },
  {
   "cell_type": "code",
   "execution_count": 203,
   "id": "2099b49f",
   "metadata": {},
   "outputs": [],
   "source": [
    "\n",
    "ras2 = pd.read_csv('s2.csv')\n",
    "ras3 = pd.read_csv('s3.csv')\n",
    "ras4 = pd.read_csv('s4.csv')"
   ]
  },
  {
   "cell_type": "code",
   "execution_count": 206,
   "id": "ce69b1aa",
   "metadata": {},
   "outputs": [],
   "source": [
    "data8 = pd.concat([r1,r2,r3,r4,rr1,rr2,rr3,rr4,rrr1,rrr2,rrr3,ras2,ras3,ras4],axis=0)"
   ]
  },
  {
   "cell_type": "code",
   "execution_count": 207,
   "id": "10daf68b",
   "metadata": {},
   "outputs": [],
   "source": [
    "data8 = data8.loc[data8.nwords > 2, :]\n",
    "data8 = data8.loc[data8.nnumbers <= 3, :]\n",
    "data8 = data8.loc[data8.nwords <= 10, :]\n",
    "data8 = data8.drop([\"Sentence\"],axis=1)\n",
    "X_test = data8.drop(\"label\",axis=1)\n",
    "y_test = data8.label\n"
   ]
  },
  {
   "cell_type": "code",
   "execution_count": 208,
   "id": "29bb2e48",
   "metadata": {},
   "outputs": [
    {
     "name": "stdout",
     "output_type": "stream",
     "text": [
      "[[1899   32]\n",
      " [  35  109]]\n",
      "Prescision :  0.7730496453900709\n",
      "Recall :  0.7569444444444444\n",
      "F1 score :  0.7649122807017544\n"
     ]
    }
   ],
   "source": [
    "pred = model_DT.predict(X_test)\n",
    "\n",
    "from sklearn.metrics import confusion_matrix\n",
    "print(confusion_matrix(y_test, pred))\n",
    "\n",
    "# Finding precision and recall\n",
    "from sklearn.metrics import precision_score, recall_score\n",
    "#precision_score(y_test, pred)\n",
    "print(\"Prescision : \" , precision_score(y_test, pred))\n",
    "print(\"Recall : \" , recall_score(y_test, pred))\n",
    "\n",
    "# To compute the F1 score, simply call the f1_score() function:\n",
    "from sklearn.metrics import f1_score\n",
    "print(\"F1 score : \" ,f1_score(y_test, pred))"
   ]
  },
  {
   "cell_type": "code",
   "execution_count": 209,
   "id": "7bfd58ab",
   "metadata": {},
   "outputs": [
    {
     "name": "stdout",
     "output_type": "stream",
     "text": [
      "[[1918   13]\n",
      " [  32  112]]\n",
      "Prescision :  0.896\n",
      "Recall :  0.7777777777777778\n",
      "F1 score :  0.8327137546468402\n"
     ]
    }
   ],
   "source": [
    "pred = randomForest.predict(X_test)\n",
    "\n",
    "from sklearn.metrics import confusion_matrix\n",
    "print(confusion_matrix(y_test, pred))\n",
    "\n",
    "# Finding precision and recall\n",
    "from sklearn.metrics import precision_score, recall_score\n",
    "#precision_score(y_test, pred)\n",
    "print(\"Prescision : \" , precision_score(y_test, pred))\n",
    "print(\"Recall : \" , recall_score(y_test, pred))\n",
    "\n",
    "# To compute the F1 score, simply call the f1_score() function:\n",
    "from sklearn.metrics import f1_score\n",
    "print(\"F1 score : \" ,f1_score(y_test, pred))"
   ]
  },
  {
   "cell_type": "code",
   "execution_count": 210,
   "id": "cd47f365",
   "metadata": {},
   "outputs": [
    {
     "name": "stdout",
     "output_type": "stream",
     "text": [
      "[[1918   13]\n",
      " [  34  110]]\n",
      "Prescision :  0.8943089430894309\n",
      "Recall :  0.7638888888888888\n",
      "F1 score :  0.8239700374531834\n"
     ]
    }
   ],
   "source": [
    "pred = clf_AD.predict(X_test)\n",
    "\n",
    "from sklearn.metrics import confusion_matrix\n",
    "print(confusion_matrix(y_test, pred))\n",
    "\n",
    "# Finding precision and recall\n",
    "from sklearn.metrics import precision_score, recall_score\n",
    "#precision_score(y_test, pred)\n",
    "print(\"Prescision : \" , precision_score(y_test, pred))\n",
    "print(\"Recall : \" , recall_score(y_test, pred))\n",
    "\n",
    "# To compute the F1 score, simply call the f1_score() function:\n",
    "from sklearn.metrics import f1_score\n",
    "print(\"F1 score : \" ,f1_score(y_test, pred))"
   ]
  },
  {
   "cell_type": "code",
   "execution_count": 211,
   "id": "dc62abc3",
   "metadata": {},
   "outputs": [
    {
     "name": "stdout",
     "output_type": "stream",
     "text": [
      "[[1921   10]\n",
      " [  33  111]]\n",
      "Prescision :  0.9173553719008265\n",
      "Recall :  0.7708333333333334\n",
      "F1 score :  0.8377358490566039\n"
     ]
    }
   ],
   "source": [
    "pred = clf_SVM.predict(X_test)\n",
    "\n",
    "from sklearn.metrics import confusion_matrix\n",
    "print(confusion_matrix(y_test, pred))\n",
    "\n",
    "# Finding precision and recall\n",
    "from sklearn.metrics import precision_score, recall_score\n",
    "#precision_score(y_test, pred)\n",
    "print(\"Prescision : \" , precision_score(y_test, pred))\n",
    "print(\"Recall : \" , recall_score(y_test, pred))\n",
    "\n",
    "# To compute the F1 score, simply call the f1_score() function:\n",
    "from sklearn.metrics import f1_score\n",
    "print(\"F1 score : \" ,f1_score(y_test, pred))"
   ]
  },
  {
   "cell_type": "code",
   "execution_count": 212,
   "id": "37ee7ab9",
   "metadata": {},
   "outputs": [
    {
     "name": "stdout",
     "output_type": "stream",
     "text": [
      "[[1922    9]\n",
      " [  32  112]]\n",
      "Prescision :  0.9256198347107438\n",
      "Recall :  0.7777777777777778\n",
      "F1 score :  0.8452830188679246\n"
     ]
    }
   ],
   "source": [
    "pred = clf_GBM.predict(X_test)\n",
    "\n",
    "from sklearn.metrics import confusion_matrix\n",
    "print(confusion_matrix(y_test, pred))\n",
    "\n",
    "# Finding precision and recall\n",
    "from sklearn.metrics import precision_score, recall_score\n",
    "#precision_score(y_test, pred)\n",
    "print(\"Prescision : \" , precision_score(y_test, pred))\n",
    "print(\"Recall : \" , recall_score(y_test, pred))\n",
    "\n",
    "# To compute the F1 score, simply call the f1_score() function:\n",
    "from sklearn.metrics import f1_score\n",
    "print(\"F1 score : \" ,f1_score(y_test, pred))"
   ]
  },
  {
   "cell_type": "code",
   "execution_count": 213,
   "id": "20ab6abd",
   "metadata": {},
   "outputs": [],
   "source": [
    "from prettytable import PrettyTable\n",
    " \n",
    "# Specify the Column Names while initializing the Table\n",
    "myTable = PrettyTable([\"Model\",\"Site_Name\", \"Precision\", \"Recall\", \"F1_score\"])\n",
    "\n",
    "\n",
    "myTable.add_row([\"DT\",\"Pastry\", \"0.77\" , \"0.75\" , \"0.76\"])\n",
    "myTable.add_row([\"RF\",\"Pastry\", \"0.89\",\"0.77\", \"0.83\"])\n",
    "myTable.add_row([\"Ada\",\"Pastry\",  \"0.89\",\" 0.76\", \" 0.82\"])\n",
    "myTable.add_row([\"SVM\",\"Pastry\", \"0.91\",\" 0.77\", \"0.83\"])\n",
    "myTable.add_row([\"GBM\",\"Pastry\",\"0.92\",\"0.77\", \"0.84\"])"
   ]
  },
  {
   "cell_type": "code",
   "execution_count": 214,
   "id": "f5e6b196",
   "metadata": {},
   "outputs": [
    {
     "data": {
      "text/html": [
       "<table>\n",
       "    <thead>\n",
       "        <tr>\n",
       "            <th>Model</th>\n",
       "            <th>Site_Name</th>\n",
       "            <th>Precision</th>\n",
       "            <th>Recall</th>\n",
       "            <th>F1_score</th>\n",
       "        </tr>\n",
       "    </thead>\n",
       "    <tbody>\n",
       "        <tr>\n",
       "            <td>DT</td>\n",
       "            <td>Pastry</td>\n",
       "            <td>0.77</td>\n",
       "            <td>0.75</td>\n",
       "            <td>0.76</td>\n",
       "        </tr>\n",
       "        <tr>\n",
       "            <td>RF</td>\n",
       "            <td>Pastry</td>\n",
       "            <td>0.89</td>\n",
       "            <td>0.77</td>\n",
       "            <td>0.83</td>\n",
       "        </tr>\n",
       "        <tr>\n",
       "            <td>Ada</td>\n",
       "            <td>Pastry</td>\n",
       "            <td>0.89</td>\n",
       "            <td> 0.76</td>\n",
       "            <td> 0.82</td>\n",
       "        </tr>\n",
       "        <tr>\n",
       "            <td>SVM</td>\n",
       "            <td>Pastry</td>\n",
       "            <td>0.91</td>\n",
       "            <td> 0.77</td>\n",
       "            <td>0.83</td>\n",
       "        </tr>\n",
       "        <tr>\n",
       "            <td>GBM</td>\n",
       "            <td>Pastry</td>\n",
       "            <td>0.92</td>\n",
       "            <td>0.77</td>\n",
       "            <td>0.84</td>\n",
       "        </tr>\n",
       "    </tbody>\n",
       "</table>"
      ],
      "text/plain": [
       "+-------+-----------+-----------+--------+----------+\n",
       "| Model | Site_Name | Precision | Recall | F1_score |\n",
       "+-------+-----------+-----------+--------+----------+\n",
       "|   DT  |   Pastry  |    0.77   |  0.75  |   0.76   |\n",
       "|   RF  |   Pastry  |    0.89   |  0.77  |   0.83   |\n",
       "|  Ada  |   Pastry  |    0.89   |  0.76  |   0.82   |\n",
       "|  SVM  |   Pastry  |    0.91   |  0.77  |   0.83   |\n",
       "|  GBM  |   Pastry  |    0.92   |  0.77  |   0.84   |\n",
       "+-------+-----------+-----------+--------+----------+"
      ]
     },
     "execution_count": 214,
     "metadata": {},
     "output_type": "execute_result"
    }
   ],
   "source": [
    "myTable"
   ]
  },
  {
   "cell_type": "code",
   "execution_count": null,
   "id": "2f83756f",
   "metadata": {},
   "outputs": [],
   "source": []
  }
 ],
 "metadata": {
  "kernelspec": {
   "display_name": "Python 3 (ipykernel)",
   "language": "python",
   "name": "python3"
  },
  "language_info": {
   "codemirror_mode": {
    "name": "ipython",
    "version": 3
   },
   "file_extension": ".py",
   "mimetype": "text/x-python",
   "name": "python",
   "nbconvert_exporter": "python",
   "pygments_lexer": "ipython3",
   "version": "3.10.1"
  }
 },
 "nbformat": 4,
 "nbformat_minor": 5
}
